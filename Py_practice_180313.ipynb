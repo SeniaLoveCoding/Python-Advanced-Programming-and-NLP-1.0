{
 "cells": [
  {
   "cell_type": "code",
   "execution_count": 1,
   "metadata": {
    "scrolled": true
   },
   "outputs": [
    {
     "ename": "SyntaxError",
     "evalue": "invalid syntax (<ipython-input-1-ba6c65dc902f>, line 1)",
     "output_type": "error",
     "traceback": [
      "\u001b[1;36m  File \u001b[1;32m\"<ipython-input-1-ba6c65dc902f>\"\u001b[1;36m, line \u001b[1;32m1\u001b[0m\n\u001b[1;33m    jupyter notebook\u001b[0m\n\u001b[1;37m                   ^\u001b[0m\n\u001b[1;31mSyntaxError\u001b[0m\u001b[1;31m:\u001b[0m invalid syntax\n"
     ]
    }
   ],
   "source": [
    "jupyter notebook"
   ]
  },
  {
   "cell_type": "code",
   "execution_count": 2,
   "metadata": {
    "scrolled": true
   },
   "outputs": [
    {
     "data": {
      "text/plain": [
       "3"
      ]
     },
     "execution_count": 2,
     "metadata": {},
     "output_type": "execute_result"
    }
   ],
   "source": [
    "1+2"
   ]
  },
  {
   "cell_type": "code",
   "execution_count": 3,
   "metadata": {},
   "outputs": [],
   "source": [
    "a = 2\n",
    "b = 3"
   ]
  },
  {
   "cell_type": "code",
   "execution_count": 4,
   "metadata": {},
   "outputs": [],
   "source": [
    "c = a*b"
   ]
  },
  {
   "cell_type": "code",
   "execution_count": 5,
   "metadata": {
    "scrolled": true
   },
   "outputs": [
    {
     "name": "stdout",
     "output_type": "stream",
     "text": [
      "6\n"
     ]
    }
   ],
   "source": [
    "print(c)"
   ]
  },
  {
   "cell_type": "code",
   "execution_count": 6,
   "metadata": {},
   "outputs": [],
   "source": [
    "yourname = \"student\""
   ]
  },
  {
   "cell_type": "code",
   "execution_count": 7,
   "metadata": {},
   "outputs": [
    {
     "name": "stdout",
     "output_type": "stream",
     "text": [
      "Hello student\n"
     ]
    }
   ],
   "source": [
    "print('Hello', yourname)"
   ]
  },
  {
   "cell_type": "code",
   "execution_count": 9,
   "metadata": {},
   "outputs": [],
   "source": [
    "def print_10_nums():\n",
    "    for i in range(10):\n",
    "        print(i, end=' ')"
   ]
  },
  {
   "cell_type": "code",
   "execution_count": 10,
   "metadata": {
    "scrolled": true
   },
   "outputs": [
    {
     "name": "stdout",
     "output_type": "stream",
     "text": [
      "0 1 2 3 4 5 6 7 8 9 "
     ]
    }
   ],
   "source": [
    "print_10_nums()"
   ]
  },
  {
   "cell_type": "code",
   "execution_count": 11,
   "metadata": {},
   "outputs": [
    {
     "ename": "SyntaxError",
     "evalue": "Missing parentheses in call to 'print'. Did you mean print(s)? (<ipython-input-11-96465640a58c>, line 3)",
     "output_type": "error",
     "traceback": [
      "\u001b[1;36m  File \u001b[1;32m\"<ipython-input-11-96465640a58c>\"\u001b[1;36m, line \u001b[1;32m3\u001b[0m\n\u001b[1;33m    print s\u001b[0m\n\u001b[1;37m          ^\u001b[0m\n\u001b[1;31mSyntaxError\u001b[0m\u001b[1;31m:\u001b[0m Missing parentheses in call to 'print'. Did you mean print(s)?\n"
     ]
    }
   ],
   "source": [
    "s = \"\"\"hello\n",
    "world\"\"\"\n",
    "print s"
   ]
  },
  {
   "cell_type": "code",
   "execution_count": 12,
   "metadata": {},
   "outputs": [
    {
     "ename": "SyntaxError",
     "evalue": "Missing parentheses in call to 'print'. Did you mean print(（s）)? (<ipython-input-12-1879ab2adec6>, line 3)",
     "output_type": "error",
     "traceback": [
      "\u001b[1;36m  File \u001b[1;32m\"<ipython-input-12-1879ab2adec6>\"\u001b[1;36m, line \u001b[1;32m3\u001b[0m\n\u001b[1;33m    print （s）\u001b[0m\n\u001b[1;37m            ^\u001b[0m\n\u001b[1;31mSyntaxError\u001b[0m\u001b[1;31m:\u001b[0m Missing parentheses in call to 'print'. Did you mean print(（s）)?\n"
     ]
    }
   ],
   "source": [
    "s = \"\"\"hello\n",
    "world\"\"\"\n",
    "print （s）"
   ]
  },
  {
   "cell_type": "code",
   "execution_count": 13,
   "metadata": {},
   "outputs": [
    {
     "data": {
      "text/plain": [
       "{2, 3, 4}"
      ]
     },
     "execution_count": 13,
     "metadata": {},
     "output_type": "execute_result"
    }
   ],
   "source": [
    "a = {1, 2, 3, 4}\n",
    "b = {2, 3, 4, 5}\n",
    "a & b"
   ]
  },
  {
   "cell_type": "code",
   "execution_count": 14,
   "metadata": {},
   "outputs": [
    {
     "data": {
      "text/plain": [
       "{'cats': 4, 'dogs': 5}"
      ]
     },
     "execution_count": 14,
     "metadata": {},
     "output_type": "execute_result"
    }
   ],
   "source": [
    "d = {'dogs':5, 'cats':4}\n",
    "d"
   ]
  },
  {
   "cell_type": "code",
   "execution_count": 15,
   "metadata": {},
   "outputs": [
    {
     "ename": "TypeError",
     "evalue": "unsupported operand type(s) for ** or pow(): 'set' and 'int'",
     "output_type": "error",
     "traceback": [
      "\u001b[1;31m---------------------------------------------------------------------------\u001b[0m",
      "\u001b[1;31mTypeError\u001b[0m                                 Traceback (most recent call last)",
      "\u001b[1;32m<ipython-input-15-c0803b5d60ee>\u001b[0m in \u001b[0;36m<module>\u001b[1;34m()\u001b[0m\n\u001b[0;32m      1\u001b[0m \u001b[0mget_ipython\u001b[0m\u001b[1;33m(\u001b[0m\u001b[1;33m)\u001b[0m\u001b[1;33m.\u001b[0m\u001b[0mrun_line_magic\u001b[0m\u001b[1;33m(\u001b[0m\u001b[1;34m'matplotlib'\u001b[0m\u001b[1;33m,\u001b[0m \u001b[1;34m'inline'\u001b[0m\u001b[1;33m)\u001b[0m\u001b[1;33m\u001b[0m\u001b[0m\n\u001b[0;32m      2\u001b[0m \u001b[1;32mfrom\u001b[0m \u001b[0mmatplotlib\u001b[0m\u001b[1;33m.\u001b[0m\u001b[0mpyplot\u001b[0m \u001b[1;32mimport\u001b[0m \u001b[0mplot\u001b[0m\u001b[1;33m\u001b[0m\u001b[0m\n\u001b[1;32m----> 3\u001b[1;33m \u001b[0mplot\u001b[0m\u001b[1;33m(\u001b[0m\u001b[0ma\u001b[0m\u001b[1;33m,\u001b[0m \u001b[0ma\u001b[0m\u001b[1;33m**\u001b[0m\u001b[1;36m2\u001b[0m\u001b[1;33m)\u001b[0m\u001b[1;33m\u001b[0m\u001b[0m\n\u001b[0m",
      "\u001b[1;31mTypeError\u001b[0m: unsupported operand type(s) for ** or pow(): 'set' and 'int'"
     ]
    }
   ],
   "source": [
    "%matplotlib inline\n",
    "from matplotlib.pyplot import plot\n",
    "plot(a, a**2)"
   ]
  },
  {
   "cell_type": "code",
   "execution_count": 16,
   "metadata": {},
   "outputs": [
    {
     "ename": "SyntaxError",
     "evalue": "invalid syntax (<ipython-input-16-09a9d5a493d4>, line 1)",
     "output_type": "error",
     "traceback": [
      "\u001b[1;36m  File \u001b[1;32m\"<ipython-input-16-09a9d5a493d4>\"\u001b[1;36m, line \u001b[1;32m1\u001b[0m\n\u001b[1;33m    matplotlib inline\u001b[0m\n\u001b[1;37m                    ^\u001b[0m\n\u001b[1;31mSyntaxError\u001b[0m\u001b[1;31m:\u001b[0m invalid syntax\n"
     ]
    }
   ],
   "source": [
    "matplotlib inline\n",
    "from matplotlib.pyplot import plot\n",
    "plot(a, a**2)"
   ]
  },
  {
   "cell_type": "code",
   "execution_count": 17,
   "metadata": {},
   "outputs": [
    {
     "data": {
      "text/plain": [
       "['1', '2', '3', '4', '5', '6']"
      ]
     },
     "execution_count": 17,
     "metadata": {},
     "output_type": "execute_result"
    }
   ],
   "source": [
    "line = '1 2 3 4 5 6'\n",
    "fields = line.split()\n",
    "fields"
   ]
  },
  {
   "cell_type": "code",
   "execution_count": 18,
   "metadata": {},
   "outputs": [
    {
     "data": {
      "text/plain": [
       "21"
      ]
     },
     "execution_count": 18,
     "metadata": {},
     "output_type": "execute_result"
    }
   ],
   "source": [
    "total = 0\n",
    "for field in fields:\n",
    "    total += int(field)\n",
    "total"
   ]
  },
  {
   "cell_type": "code",
   "execution_count": 19,
   "metadata": {},
   "outputs": [
    {
     "data": {
      "text/plain": [
       "[1, 2, 3, 4, 5, 6]"
      ]
     },
     "execution_count": 19,
     "metadata": {},
     "output_type": "execute_result"
    }
   ],
   "source": [
    "numbers = [int(field) for field in fields]\n",
    "numbers"
   ]
  },
  {
   "cell_type": "code",
   "execution_count": 20,
   "metadata": {},
   "outputs": [],
   "source": [
    "class Person(object):\n",
    "    def __init__(self, first, last, age):\n",
    "        self.first = first\n",
    "        self.last = last\n",
    "        self.age = age\n",
    "    def full_name(self):\n",
    "        return self.first + ' ' + self.last"
   ]
  },
  {
   "cell_type": "code",
   "execution_count": 21,
   "metadata": {},
   "outputs": [],
   "source": [
    "person = Person('Mertle', 'Sedgewick', 52)"
   ]
  },
  {
   "cell_type": "code",
   "execution_count": 22,
   "metadata": {},
   "outputs": [
    {
     "data": {
      "text/plain": [
       "'Mertle'"
      ]
     },
     "execution_count": 22,
     "metadata": {},
     "output_type": "execute_result"
    }
   ],
   "source": [
    "person.first"
   ]
  },
  {
   "cell_type": "code",
   "execution_count": 4,
   "metadata": {},
   "outputs": [
    {
     "name": "stdout",
     "output_type": "stream",
     "text": [
      "the -- 21 times\n",
      "a -- 19 times\n"
     ]
    }
   ],
   "source": [
    "import string\n",
    "\n",
    "#读取英文原著alice\n",
    "path = 'E:/【高级编程（一）】/week1作业/corpara/1.txt'\n",
    "with open(path,'r',encoding= 'utf-8') as text:\n",
    "    #将所有的英文字母转换成小写\n",
    "    words = [raw_word.strip(string.punctuation).lower() for raw_word in text.read().split()]\n",
    "#转换成集合形式\n",
    "words_index = set(words)\n",
    "#使用字典统计词频\n",
    "counts_dict = {index:words.count(index) for index in words_index}\n",
    "#按照词频从高到低排序\n",
    "for word in sorted(counts_dict,key=lambda x: counts_dict[x],reverse=True):\n",
    "    if counts_dict[word] > 10:\n",
    "        print('{} -- {} times'.format(word,counts_dict[word]))"
   ]
  },
  {
   "cell_type": "code",
   "execution_count": 20,
   "metadata": {},
   "outputs": [],
   "source": [
    "import os  \n",
    "import string\n",
    "path = \"C:/corpara\" #文件夹目录  \n",
    "files= os.listdir(path) #得到文件夹下的所有文件名称  \n",
    "#s = []  \n",
    "for file in files: #遍历文件夹  \n",
    "     if not os.path.isdir(file): #判断是否是文件夹，不是文件夹才打开  \n",
    "          f = open(path+\"/\"+file,'r',encoding= 'utf-8'); #打开文件  \n",
    "          iter_f = iter(f); #创建迭代器  \n",
    "          #str = \"\"  \n",
    "          for line in iter_f.read().split(): #遍历文件，一行行遍历，读取文本 \n",
    "                words = line.strip(string.punctuation).lower();\n",
    "              #str = str + line  \n",
    "          #s.append(str) #每个文件的文本存到list中  \n",
    "#print(s) #打印结果 \n",
    "\n",
    "#将所有的英文字母转换成小写\n",
    "#words = [raw_word.strip(string.punctuation).lower() for raw_word in iter_f.read().split()]\n",
    "#转换成集合形式\n",
    "words_index = set(words)\n",
    "#使用字典统计词频\n",
    "counts_dict = {index:words.count(index) for index in words_index}\n",
    "#按照词频从高到低排序\n",
    "for word in sorted(counts_dict,key=lambda x: counts_dict[x],reverse=True):\n",
    "    if counts_dict[word] > 10:\n",
    "        print('{} -- {} times'.format(word,counts_dict[word]))"
   ]
  },
  {
   "cell_type": "code",
   "execution_count": 5,
   "metadata": {},
   "outputs": [
    {
     "name": "stdout",
     "output_type": "stream",
     "text": [
      "the -- 21 times\n",
      "a -- 19 times\n",
      "of -- 10 times\n",
      "in -- 8 times\n",
      "to -- 7 times\n",
      "and -- 6 times\n",
      "has -- 6 times\n",
      "since -- 6 times\n",
      "its -- 6 times\n",
      "have -- 5 times\n",
      "on -- 5 times\n",
      "more -- 5 times\n",
      "crisis -- 5 times\n",
      "financial -- 4 times\n",
      "that -- 4 times\n",
      "been -- 3 times\n",
      "debt -- 3 times\n",
      "as -- 3 times\n",
      "for -- 3 times\n",
      "currency -- 3 times\n",
      "government -- 3 times\n",
      "deutsche -- 3 times\n",
      "system -- 3 times\n",
      "was -- 3 times\n",
      "year -- 3 times\n",
      "which -- 2 times\n",
      "than -- 2 times\n",
      "not -- 2 times\n",
      "result -- 2 times\n",
      "suffer -- 2 times\n",
      "exchange -- 2 times\n",
      "also -- 2 times\n",
      "from -- 2 times\n",
      "one -- 2 times\n",
      "half -- 2 times\n",
      "period -- 2 times\n",
      "developed -- 2 times\n",
      "pressure -- 2 times\n",
      "there -- 2 times\n",
      "countries -- 2 times\n",
      "or -- 2 times\n",
      "it -- 2 times\n",
      "would -- 2 times\n",
      "monetary -- 2 times\n",
      "this -- 2 times\n",
      "with -- 2 times\n",
      "deficit -- 2 times\n",
      "be -- 2 times\n",
      "but -- 2 times\n",
      "by -- 2 times\n",
      "credit -- 2 times\n",
      "country -- 2 times\n",
      "is -- 2 times\n",
      "markets -- 2 times\n",
      "trade -- 2 times\n",
      "france -- 1 times\n",
      "little -- 1 times\n",
      "creation -- 1 times\n",
      "common -- 1 times\n",
      "bretton -- 1 times\n",
      "default -- 1 times\n",
      "miss -- 1 times\n",
      "don’t -- 1 times\n",
      "means -- 1 times\n",
      "successor -- 1 times\n",
      "towards -- 1 times\n",
      "policymakers—the -- 1 times\n",
      "main -- 1 times\n",
      "react -- 1 times\n",
      "steadily -- 1 times\n",
      "bonds -- 1 times\n",
      "economic -- 1 times\n",
      "moved -- 1 times\n",
      "trend -- 1 times\n",
      "italy -- 1 times\n",
      "much -- 1 times\n",
      "bubbles -- 1 times\n",
      "century -- 1 times\n",
      "goals -- 1 times\n",
      "gives -- 1 times\n",
      "subordinate -- 1 times\n",
      "returns -- 1 times\n",
      "under -- 1 times\n",
      "double-digit -- 1 times\n",
      "such -- 1 times\n",
      "single -- 1 times\n",
      "proportion -- 1 times\n",
      "banks -- 1 times\n",
      "limited -- 1 times\n",
      "strain -- 1 times\n",
      "long-term -- 1 times\n",
      "shortly -- 1 times\n",
      "are -- 1 times\n",
      "maintaining -- 1 times\n",
      "become -- 1 times\n",
      "next -- 1 times\n",
      "world -- 1 times\n",
      "taken -- 1 times\n",
      "supply -- 1 times\n",
      "data -- 1 times\n",
      "longer -- 1 times\n",
      "inflation -- 1 times\n",
      "floating -- 1 times\n",
      "amount -- 1 times\n",
      "1993 -- 1 times\n",
      "other -- 1 times\n",
      "inflate -- 1 times\n",
      "brakes -- 1 times\n",
      "woods -- 1 times\n",
      "shock -- 1 times\n",
      "another -- 1 times\n",
      "quickly -- 1 times\n",
      "constrain -- 1 times\n",
      "deal -- 1 times\n",
      "every -- 1 times\n",
      "19th -- 1 times\n",
      "occasionally -- 1 times\n",
      "buses -- 1 times\n",
      "will -- 1 times\n",
      "does -- 1 times\n",
      "peg -- 1 times\n",
      "rates -- 1 times\n",
      "flexibility -- 1 times\n",
      "take -- 1 times\n",
      "had -- 1 times\n",
      "1966 -- 1 times\n",
      "may -- 1 times\n",
      "asset -- 1 times\n",
      "1980s -- 1 times\n",
      "crises -- 1 times\n",
      "harder -- 1 times\n",
      "often -- 1 times\n",
      "bode -- 1 times\n",
      "central -- 1 times\n",
      "greater -- 1 times\n",
      "expansion -- 1 times\n",
      "some -- 1 times\n",
      "defines -- 1 times\n",
      "exchange-rate -- 1 times\n",
      "consumers -- 1 times\n",
      "10 -- 1 times\n",
      "an -- 1 times\n",
      "suffers -- 1 times\n",
      "collapse -- 1 times\n",
      "companies -- 1 times\n",
      "fall -- 1 times\n",
      "allowed -- 1 times\n",
      "recent -- 1 times\n",
      "currency’s -- 1 times\n",
      "latest -- 1 times\n",
      "kind -- 1 times\n",
      "they -- 1 times\n",
      "balance -- 1 times\n",
      "shows -- 1 times\n",
      "15 -- 1 times\n",
      "gold -- 1 times\n",
      "standard -- 1 times\n",
      "fixed -- 1 times\n",
      "slamming -- 1 times\n",
      "did -- 1 times\n",
      "london -- 1 times\n",
      "no -- 1 times\n",
      "study -- 1 times\n",
      "1950 -- 1 times\n",
      "risen -- 1 times\n",
      "policy -- 1 times\n",
      "reason -- 1 times\n",
      "similarly -- 1 times\n",
      "when -- 1 times\n",
      "triggered -- 1 times\n",
      "1970s -- 1 times\n",
      "money -- 1 times\n",
      "budget -- 1 times\n",
      "along -- 1 times\n",
      "created -- 1 times\n",
      "decades -- 1 times\n",
      "bank -- 1 times\n",
      "rate -- 1 times\n",
      "gdp -- 1 times\n",
      "early -- 1 times\n",
      "mid-1970s -- 1 times\n",
      "them -- 1 times\n",
      "japan -- 1 times\n",
      "years -- 1 times\n",
      "during -- 1 times\n",
      "too -- 1 times\n",
      "national -- 1 times\n",
      "equities -- 1 times\n",
      "surplus -- 1 times\n",
      "if -- 1 times\n",
      "decline -- 1 times\n",
      "cycle -- 1 times\n",
      "governments -- 1 times\n",
      "do -- 1 times\n",
      "following -- 1 times\n",
      "numerous -- 1 times\n",
      "annual -- 1 times\n",
      "managed -- 1 times\n",
      "only -- 1 times\n",
      "well -- 1 times\n",
      "just -- 1 times\n",
      "imbalances -- 1 times\n",
      "expanded -- 1 times\n",
      "worry -- 1 times\n",
      "you -- 1 times\n",
      "argues -- 1 times\n"
     ]
    }
   ],
   "source": [
    "import string\n",
    "#读取英文文档\n",
    "path = 'E:/【高级编程（一）】/week1作业/corpara/1.txt'\n",
    "with open(path,'r',encoding= 'utf-8') as text:\n",
    "    #将所有的英文字母转换成小写\n",
    "    words = [raw_word.strip(string.punctuation).lower() for raw_word in text.read().split()]\n",
    "#转换成集合形式\n",
    "words_index = set(words)\n",
    "#使用字典统计词频\n",
    "counts_dict = {index:words.count(index) for index in words_index}\n",
    "#按照词频从高到低排序\n",
    "for word in sorted(counts_dict,key=lambda x: counts_dict[x],reverse=True):\n",
    "    \n",
    "        print('{} -- {} times'.format(word,counts_dict[word]))"
   ]
  },
  {
   "cell_type": "code",
   "execution_count": 28,
   "metadata": {},
   "outputs": [
    {
     "name": "stdout",
     "output_type": "stream",
     "text": [
      "['India has regained its title as the world’s fastest-growing major economy, after figures confirmed it grew by more than 7 per cent on an annualised basis in the three months to December, overtaking China once more.\\n\\nData released yesterday show the economy grew at an annual rate of 7.2 per cent in the final quarter of last year, continuing its bounceback from a sharp slowdown in the middle of 2017. The Chinese economy grew 6.8 per cent on an annualised basis over the same period.\\n\\nThe data are a boost for Narendra Modi, prime minister, who has come under pressure because of the economic slowdown, ahead of a general election due next year. The news also comes as a welcome relief following a week in which his administration has been attacked for failing to prevent a $1.8bn fraud at the state-owned Punjab National Bank.\\n\\nPiyush Goyal, the railways minister who is seen as close to Mr Modi, welcomed yesterday’s figures, tweeting: “India’s GDP growth momentum continues strongly & sustainably — jumps to 7.2% in 3rd quarter of 2017-18, makes India the fastest growing large economy in the world.”\\n\\nPronab Sen, the country’s former chief statistician, called the figures “very strong — much stronger than expected”.\\n\\nMr Modi came to power in 2014 promising economic reforms that would help boost the economy and create 10m jobs a year, just shy of the estimated 13m India needs to account for the number of young people entering the workforce each year.\\n\\nBut his record had come under fire following his sudden decision in 2016 to cancel most of the country’s banknotes, followed by a botched attempt to reform the complex sales tax system.\\n\\nThe problems arising from both of these moves helped knock the economy off course last year, as it fell from growth of 9.1 per cent in the first quarter of 2016 to just 5.7 per cent in the three months to June 2017.\\n\\nLast month, Arun Jaitley, the finance minister, attempted to mitigate some of the effects of the slowdown as he announced a budget which included higher minimum prices for farmers and free health insurance for 100m poor families.\\n\\nThat slowdown was reversed in the third quarter of last year, and yesterday’s data showed the improvement con?tinued in the following quarter.\\n\\nThe most recent quarter’s data were boosted in particular by a recovery in construction, which ex?panded 6.8 per cent. This had been one of the sectors to suffer most in the wake of demonetisation, with many of India’s property deals having previously been paid for in cash as a way to avoid tax. Manufacturing meanwhile grew 8.1 per cent, while the country’s important agricultural sector was 4.1 per cent larger.\\n\\nEarlier in the day, the credit rating agency Moody’s had said that it expected India to grow by 7.6 per cent in 2018.\\n\\nIt said: “There are some signs that the Indian economy is starting to recover from the soft growth patch attributed to the negative impact of the demonetisation undertaken in 2016 and disruption related to last year’s rollout of the Goods and Service Tax.”\\n\\nThe International Monetary Fund has forecast India will grow by 7.4 per cent in 2018 and 7.8 per cent in 2019.The next financial crisis may be triggered by central banks.\\n\\nAs with London buses, don’t worry if you miss a financial crisis; another will be along shortly.\\n\\nThe latest study on long-term asset returns from Deutsche Bank shows that crises in developed markets have become much more common in recent decades.\\n\\nThat does not bode well.\\n\\nDeutsche defines a crisis as a period when a country suffers one of the following: a 15% annual decline in equities; a 10% fall in its currency or its government bonds; a default on its national debt; or a period of double-digit inflation.\\n\\nDuring the 19th century, only occasionally did more than half of countries for which there are data suffer such a shock in a single year.\\n\\nBut since the 1980s, in numerous years more than half of them have been in a financial crisis of some kind.\\n\\nThe main reason for this, argues Deutsche, is the monetary system.\\n\\nUnder the gold standard and its successor, the Bretton Woods system of fixed exchange rates, the amount of credit creation was limited.\\n\\nA country that expanded its money supply too quickly would suffer a trade deficit and pressure on its currency’s exchange rate; the government would react by slamming on the monetary brakes.\\n\\nThe result was that it was harder for financial bubbles to inflate.\\n\\nBut since the early 1970s more countries have moved to a floating exchange-rate system.\\n\\nThis gives governments the flexibility to deal with an economic crisis, and means they do not have to subordinate other policy goals to maintaining a currency peg.\\n\\nIt has also created a trend towards greater trade imbalances, which no longer constrain policymakers—the currency is often allowed to take the strain.\\n\\nSimilarly, government debt has risen steadily as a proportion of GDP since the mid-1970s.\\n\\nThere has been little pressure from the markets to balance the budget; Japan has had a deficit every year since 1966, and France since 1993.\\n\\nItaly has managed just one year of surplus since 1950.\\n\\nIn the developed world, consumers and companies have also taken on more debt.\\n\\nThe result has been a cycle of credit expansion and collapse.', 'India has regained its title as the world’s fastest-growing major economy, after figures confirmed it grew by more than 7 per cent on an annualised basis in the three months to December, overtaking China once more.\\n\\nData released yesterday show the economy grew at an annual rate of 7.2 per cent in the final quarter of last year, continuing its bounceback from a sharp slowdown in the middle of 2017. The Chinese economy grew 6.8 per cent on an annualised basis over the same period.\\n\\nThe data are a boost for Narendra Modi, prime minister, who has come under pressure because of the economic slowdown, ahead of a general election due next year. The news also comes as a welcome relief following a week in which his administration has been attacked for failing to prevent a $1.8bn fraud at the state-owned Punjab National Bank.\\n\\nPiyush Goyal, the railways minister who is seen as close to Mr Modi, welcomed yesterday’s figures, tweeting: “India’s GDP growth momentum continues strongly & sustainably — jumps to 7.2% in 3rd quarter of 2017-18, makes India the fastest growing large economy in the world.”\\n\\nPronab Sen, the country’s former chief statistician, called the figures “very strong — much stronger than expected”.\\n\\nMr Modi came to power in 2014 promising economic reforms that would help boost the economy and create 10m jobs a year, just shy of the estimated 13m India needs to account for the number of young people entering the workforce each year.\\n\\nBut his record had come under fire following his sudden decision in 2016 to cancel most of the country’s banknotes, followed by a botched attempt to reform the complex sales tax system.\\n\\nThe problems arising from both of these moves helped knock the economy off course last year, as it fell from growth of 9.1 per cent in the first quarter of 2016 to just 5.7 per cent in the three months to June 2017.\\n\\nLast month, Arun Jaitley, the finance minister, attempted to mitigate some of the effects of the slowdown as he announced a budget which included higher minimum prices for farmers and free health insurance for 100m poor families.\\n\\nThat slowdown was reversed in the third quarter of last year, and yesterday’s data showed the improvement con?tinued in the following quarter.\\n\\nThe most recent quarter’s data were boosted in particular by a recovery in construction, which ex?panded 6.8 per cent. This had been one of the sectors to suffer most in the wake of demonetisation, with many of India’s property deals having previously been paid for in cash as a way to avoid tax. Manufacturing meanwhile grew 8.1 per cent, while the country’s important agricultural sector was 4.1 per cent larger.\\n\\nEarlier in the day, the credit rating agency Moody’s had said that it expected India to grow by 7.6 per cent in 2018.\\n\\nIt said: “There are some signs that the Indian economy is starting to recover from the soft growth patch attributed to the negative impact of the demonetisation undertaken in 2016 and disruption related to last year’s rollout of the Goods and Service Tax.”\\n\\nThe International Monetary Fund has forecast India will grow by 7.4 per cent in 2018 and 7.8 per cent in 2019.The next financial crisis may be triggered by central banks.\\n\\nAs with London buses, don’t worry if you miss a financial crisis; another will be along shortly.\\n\\nThe latest study on long-term asset returns from Deutsche Bank shows that crises in developed markets have become much more common in recent decades.\\n\\nThat does not bode well.\\n\\nDeutsche defines a crisis as a period when a country suffers one of the following: a 15% annual decline in equities; a 10% fall in its currency or its government bonds; a default on its national debt; or a period of double-digit inflation.\\n\\nDuring the 19th century, only occasionally did more than half of countries for which there are data suffer such a shock in a single year.\\n\\nBut since the 1980s, in numerous years more than half of them have been in a financial crisis of some kind.\\n\\nThe main reason for this, argues Deutsche, is the monetary system.\\n\\nUnder the gold standard and its successor, the Bretton Woods system of fixed exchange rates, the amount of credit creation was limited.\\n\\nA country that expanded its money supply too quickly would suffer a trade deficit and pressure on its currency’s exchange rate; the government would react by slamming on the monetary brakes.\\n\\nThe result was that it was harder for financial bubbles to inflate.\\n\\nBut since the early 1970s more countries have moved to a floating exchange-rate system.\\n\\nThis gives governments the flexibility to deal with an economic crisis, and means they do not have to subordinate other policy goals to maintaining a currency peg.\\n\\nIt has also created a trend towards greater trade imbalances, which no longer constrain policymakers—the currency is often allowed to take the strain.\\n\\nSimilarly, government debt has risen steadily as a proportion of GDP since the mid-1970s.\\n\\nThere has been little pressure from the markets to balance the budget; Japan has had a deficit every year since 1966, and France since 1993.\\n\\nItaly has managed just one year of surplus since 1950.\\n\\nIn the developed world, consumers and companies have also taken on more debt.\\n\\nThe result has been a cycle of credit expansion and collapse.China has warned that it does not want a trade war with the US, but will not sit idly by if its economy is hurt.\\n\\nZhang Yesui, spokesperson for China’s National People’s Congress, made the comments amid controversy over Donald Trump’s announcement of tariffs on steel and aluminium imports.\\n\\nThe US president has also threatened to impose a tax on EU-made cars, and earlier said \"trade wars are good\".\\n\\nUS trading partners, the IMF and the WTO have strongly criticised his moves.\\n\\nMr Trump has decried the \"$800 Billion Dollar Yearly Trade Deficit because of our ’very stupid’ trade deals and policies\", and vowed to end it.\\n\\nOn Thursday, he said steel imports would face a 25% tariff and aluminium 10%.\\n\\nThen came Saturday’s threat on EU-made cars.\\n\\nIn January, he had already announced tariffs on solar panels and washing machines.\\n\\nChina’s Zhang Yesui said it was natural that \"some friction will exist\" between the US and China, given the volume of trade between them surpassed 580bn last year.\\n\\nBut he said China would take \"necessary measures\" if its interests were hurt.', 'India has regained its title as the world’s fastest-growing major economy, after figures confirmed it grew by more than 7 per cent on an annualised basis in the three months to December, overtaking China once more.\\n\\nData released yesterday show the economy grew at an annual rate of 7.2 per cent in the final quarter of last year, continuing its bounceback from a sharp slowdown in the middle of 2017. The Chinese economy grew 6.8 per cent on an annualised basis over the same period.\\n\\nThe data are a boost for Narendra Modi, prime minister, who has come under pressure because of the economic slowdown, ahead of a general election due next year. The news also comes as a welcome relief following a week in which his administration has been attacked for failing to prevent a $1.8bn fraud at the state-owned Punjab National Bank.\\n\\nPiyush Goyal, the railways minister who is seen as close to Mr Modi, welcomed yesterday’s figures, tweeting: “India’s GDP growth momentum continues strongly & sustainably — jumps to 7.2% in 3rd quarter of 2017-18, makes India the fastest growing large economy in the world.”\\n\\nPronab Sen, the country’s former chief statistician, called the figures “very strong — much stronger than expected”.\\n\\nMr Modi came to power in 2014 promising economic reforms that would help boost the economy and create 10m jobs a year, just shy of the estimated 13m India needs to account for the number of young people entering the workforce each year.\\n\\nBut his record had come under fire following his sudden decision in 2016 to cancel most of the country’s banknotes, followed by a botched attempt to reform the complex sales tax system.\\n\\nThe problems arising from both of these moves helped knock the economy off course last year, as it fell from growth of 9.1 per cent in the first quarter of 2016 to just 5.7 per cent in the three months to June 2017.\\n\\nLast month, Arun Jaitley, the finance minister, attempted to mitigate some of the effects of the slowdown as he announced a budget which included higher minimum prices for farmers and free health insurance for 100m poor families.\\n\\nThat slowdown was reversed in the third quarter of last year, and yesterday’s data showed the improvement con?tinued in the following quarter.\\n\\nThe most recent quarter’s data were boosted in particular by a recovery in construction, which ex?panded 6.8 per cent. This had been one of the sectors to suffer most in the wake of demonetisation, with many of India’s property deals having previously been paid for in cash as a way to avoid tax. Manufacturing meanwhile grew 8.1 per cent, while the country’s important agricultural sector was 4.1 per cent larger.\\n\\nEarlier in the day, the credit rating agency Moody’s had said that it expected India to grow by 7.6 per cent in 2018.\\n\\nIt said: “There are some signs that the Indian economy is starting to recover from the soft growth patch attributed to the negative impact of the demonetisation undertaken in 2016 and disruption related to last year’s rollout of the Goods and Service Tax.”\\n\\nThe International Monetary Fund has forecast India will grow by 7.4 per cent in 2018 and 7.8 per cent in 2019.The next financial crisis may be triggered by central banks.\\n\\nAs with London buses, don’t worry if you miss a financial crisis; another will be along shortly.\\n\\nThe latest study on long-term asset returns from Deutsche Bank shows that crises in developed markets have become much more common in recent decades.\\n\\nThat does not bode well.\\n\\nDeutsche defines a crisis as a period when a country suffers one of the following: a 15% annual decline in equities; a 10% fall in its currency or its government bonds; a default on its national debt; or a period of double-digit inflation.\\n\\nDuring the 19th century, only occasionally did more than half of countries for which there are data suffer such a shock in a single year.\\n\\nBut since the 1980s, in numerous years more than half of them have been in a financial crisis of some kind.\\n\\nThe main reason for this, argues Deutsche, is the monetary system.\\n\\nUnder the gold standard and its successor, the Bretton Woods system of fixed exchange rates, the amount of credit creation was limited.\\n\\nA country that expanded its money supply too quickly would suffer a trade deficit and pressure on its currency’s exchange rate; the government would react by slamming on the monetary brakes.\\n\\nThe result was that it was harder for financial bubbles to inflate.\\n\\nBut since the early 1970s more countries have moved to a floating exchange-rate system.\\n\\nThis gives governments the flexibility to deal with an economic crisis, and means they do not have to subordinate other policy goals to maintaining a currency peg.\\n\\nIt has also created a trend towards greater trade imbalances, which no longer constrain policymakers—the currency is often allowed to take the strain.\\n\\nSimilarly, government debt has risen steadily as a proportion of GDP since the mid-1970s.\\n\\nThere has been little pressure from the markets to balance the budget; Japan has had a deficit every year since 1966, and France since 1993.\\n\\nItaly has managed just one year of surplus since 1950.\\n\\nIn the developed world, consumers and companies have also taken on more debt.\\n\\nThe result has been a cycle of credit expansion and collapse.China has warned that it does not want a trade war with the US, but will not sit idly by if its economy is hurt.\\n\\nZhang Yesui, spokesperson for China’s National People’s Congress, made the comments amid controversy over Donald Trump’s announcement of tariffs on steel and aluminium imports.\\n\\nThe US president has also threatened to impose a tax on EU-made cars, and earlier said \"trade wars are good\".\\n\\nUS trading partners, the IMF and the WTO have strongly criticised his moves.\\n\\nMr Trump has decried the \"$800 Billion Dollar Yearly Trade Deficit because of our ’very stupid’ trade deals and policies\", and vowed to end it.\\n\\nOn Thursday, he said steel imports would face a 25% tariff and aluminium 10%.\\n\\nThen came Saturday’s threat on EU-made cars.\\n\\nIn January, he had already announced tariffs on solar panels and washing machines.\\n\\nChina’s Zhang Yesui said it was natural that \"some friction will exist\" between the US and China, given the volume of trade between them surpassed 580bn last year.\\n\\nBut he said China would take \"necessary measures\" if its interests were hurt.The US economic expansion is set to gain momentum, hardening the arguments for increases in short-term interest rates, Federal Reserve policymakers said at their latest meeting.\\n\\nA number of participants in the US central bank’s January 30-31 meeting said they had marked up their growth forecasts since the previous month, encouraged by firm global growth, supportive financial markets and the potential for US tax cuts to boost the economy more than expected. Others said the “upside risks” to growth may have increased, according to minutes of the gathering.\\n\\n“A majority of participants noted that a stronger outlook for economic growth raised the likelihood that further gradual policy firming would be appropriate,” according to the record released on Wednesday.\\n\\nThe Fed’s rate-setters reflected the increased arguments for rate rises by changing the language in their post-meeting statement to point to “further” rate rises.\\n\\nThe Fed’s most recent policy meeting was held shortly before the departure of Janet Yellen as chair and the outbreak of market volatility that greeted Jay Powell, her successor, during his first days on the job. Policymakers including Bill Dudley, the New York Fed president, have stressed that the gyrations in the equity market were unlikely to shake the central bank’s plans to continue its gradual programme of rate rises.\\n\\nWhile January’s deliberations predated the worst of the market fluctuations, the record suggests that Fed officials have become more confident about the economy since their December meeting, when they last raised interest rates. The Federal Open Market Committee left its target range for the federal funds rate on hold at 1.25 to 1.5 per cent at the January meeting, while laying the ground for another move at the March 20-21 meeting.\\n\\nA key question in markets now is whether the Fed could opt to boost rates four times in 2018, rather than the three moves currently forecast. The immediate market response to the minutes suggested they did not significantly advance that debate: the yield on the 10-year Treasury declined modestly and the dollar softened a little, but both moves were muted. Fed funds futures were little changed.', 'India has regained its title as the world’s fastest-growing major economy, after figures confirmed it grew by more than 7 per cent on an annualised basis in the three months to December, overtaking China once more.\\n\\nData released yesterday show the economy grew at an annual rate of 7.2 per cent in the final quarter of last year, continuing its bounceback from a sharp slowdown in the middle of 2017. The Chinese economy grew 6.8 per cent on an annualised basis over the same period.\\n\\nThe data are a boost for Narendra Modi, prime minister, who has come under pressure because of the economic slowdown, ahead of a general election due next year. The news also comes as a welcome relief following a week in which his administration has been attacked for failing to prevent a $1.8bn fraud at the state-owned Punjab National Bank.\\n\\nPiyush Goyal, the railways minister who is seen as close to Mr Modi, welcomed yesterday’s figures, tweeting: “India’s GDP growth momentum continues strongly & sustainably — jumps to 7.2% in 3rd quarter of 2017-18, makes India the fastest growing large economy in the world.”\\n\\nPronab Sen, the country’s former chief statistician, called the figures “very strong — much stronger than expected”.\\n\\nMr Modi came to power in 2014 promising economic reforms that would help boost the economy and create 10m jobs a year, just shy of the estimated 13m India needs to account for the number of young people entering the workforce each year.\\n\\nBut his record had come under fire following his sudden decision in 2016 to cancel most of the country’s banknotes, followed by a botched attempt to reform the complex sales tax system.\\n\\nThe problems arising from both of these moves helped knock the economy off course last year, as it fell from growth of 9.1 per cent in the first quarter of 2016 to just 5.7 per cent in the three months to June 2017.\\n\\nLast month, Arun Jaitley, the finance minister, attempted to mitigate some of the effects of the slowdown as he announced a budget which included higher minimum prices for farmers and free health insurance for 100m poor families.\\n\\nThat slowdown was reversed in the third quarter of last year, and yesterday’s data showed the improvement con?tinued in the following quarter.\\n\\nThe most recent quarter’s data were boosted in particular by a recovery in construction, which ex?panded 6.8 per cent. This had been one of the sectors to suffer most in the wake of demonetisation, with many of India’s property deals having previously been paid for in cash as a way to avoid tax. Manufacturing meanwhile grew 8.1 per cent, while the country’s important agricultural sector was 4.1 per cent larger.\\n\\nEarlier in the day, the credit rating agency Moody’s had said that it expected India to grow by 7.6 per cent in 2018.\\n\\nIt said: “There are some signs that the Indian economy is starting to recover from the soft growth patch attributed to the negative impact of the demonetisation undertaken in 2016 and disruption related to last year’s rollout of the Goods and Service Tax.”\\n\\nThe International Monetary Fund has forecast India will grow by 7.4 per cent in 2018 and 7.8 per cent in 2019.The next financial crisis may be triggered by central banks.\\n\\nAs with London buses, don’t worry if you miss a financial crisis; another will be along shortly.\\n\\nThe latest study on long-term asset returns from Deutsche Bank shows that crises in developed markets have become much more common in recent decades.\\n\\nThat does not bode well.\\n\\nDeutsche defines a crisis as a period when a country suffers one of the following: a 15% annual decline in equities; a 10% fall in its currency or its government bonds; a default on its national debt; or a period of double-digit inflation.\\n\\nDuring the 19th century, only occasionally did more than half of countries for which there are data suffer such a shock in a single year.\\n\\nBut since the 1980s, in numerous years more than half of them have been in a financial crisis of some kind.\\n\\nThe main reason for this, argues Deutsche, is the monetary system.\\n\\nUnder the gold standard and its successor, the Bretton Woods system of fixed exchange rates, the amount of credit creation was limited.\\n\\nA country that expanded its money supply too quickly would suffer a trade deficit and pressure on its currency’s exchange rate; the government would react by slamming on the monetary brakes.\\n\\nThe result was that it was harder for financial bubbles to inflate.\\n\\nBut since the early 1970s more countries have moved to a floating exchange-rate system.\\n\\nThis gives governments the flexibility to deal with an economic crisis, and means they do not have to subordinate other policy goals to maintaining a currency peg.\\n\\nIt has also created a trend towards greater trade imbalances, which no longer constrain policymakers—the currency is often allowed to take the strain.\\n\\nSimilarly, government debt has risen steadily as a proportion of GDP since the mid-1970s.\\n\\nThere has been little pressure from the markets to balance the budget; Japan has had a deficit every year since 1966, and France since 1993.\\n\\nItaly has managed just one year of surplus since 1950.\\n\\nIn the developed world, consumers and companies have also taken on more debt.\\n\\nThe result has been a cycle of credit expansion and collapse.China has warned that it does not want a trade war with the US, but will not sit idly by if its economy is hurt.\\n\\nZhang Yesui, spokesperson for China’s National People’s Congress, made the comments amid controversy over Donald Trump’s announcement of tariffs on steel and aluminium imports.\\n\\nThe US president has also threatened to impose a tax on EU-made cars, and earlier said \"trade wars are good\".\\n\\nUS trading partners, the IMF and the WTO have strongly criticised his moves.\\n\\nMr Trump has decried the \"$800 Billion Dollar Yearly Trade Deficit because of our ’very stupid’ trade deals and policies\", and vowed to end it.\\n\\nOn Thursday, he said steel imports would face a 25% tariff and aluminium 10%.\\n\\nThen came Saturday’s threat on EU-made cars.\\n\\nIn January, he had already announced tariffs on solar panels and washing machines.\\n\\nChina’s Zhang Yesui said it was natural that \"some friction will exist\" between the US and China, given the volume of trade between them surpassed 580bn last year.\\n\\nBut he said China would take \"necessary measures\" if its interests were hurt.The US economic expansion is set to gain momentum, hardening the arguments for increases in short-term interest rates, Federal Reserve policymakers said at their latest meeting.\\n\\nA number of participants in the US central bank’s January 30-31 meeting said they had marked up their growth forecasts since the previous month, encouraged by firm global growth, supportive financial markets and the potential for US tax cuts to boost the economy more than expected. Others said the “upside risks” to growth may have increased, according to minutes of the gathering.\\n\\n“A majority of participants noted that a stronger outlook for economic growth raised the likelihood that further gradual policy firming would be appropriate,” according to the record released on Wednesday.\\n\\nThe Fed’s rate-setters reflected the increased arguments for rate rises by changing the language in their post-meeting statement to point to “further” rate rises.\\n\\nThe Fed’s most recent policy meeting was held shortly before the departure of Janet Yellen as chair and the outbreak of market volatility that greeted Jay Powell, her successor, during his first days on the job. Policymakers including Bill Dudley, the New York Fed president, have stressed that the gyrations in the equity market were unlikely to shake the central bank’s plans to continue its gradual programme of rate rises.\\n\\nWhile January’s deliberations predated the worst of the market fluctuations, the record suggests that Fed officials have become more confident about the economy since their December meeting, when they last raised interest rates. The Federal Open Market Committee left its target range for the federal funds rate on hold at 1.25 to 1.5 per cent at the January meeting, while laying the ground for another move at the March 20-21 meeting.\\n\\nA key question in markets now is whether the Fed could opt to boost rates four times in 2018, rather than the three moves currently forecast. The immediate market response to the minutes suggested they did not significantly advance that debate: the yield on the 10-year Treasury declined modestly and the dollar softened a little, but both moves were muted. Fed funds futures were little changed.The next financial crisis may be triggered by central banks.\\n\\nAs with London buses, don’t worry if you miss a financial crisis; another will be along shortly.\\n\\nThe latest study on long-term asset returns from Deutsche Bank shows that crises in developed markets have become much more common in recent decades.\\n\\nThat does not bode well.\\n\\nDeutsche defines a crisis as a period when a country suffers one of the following: a 15% annual decline in equities; a 10% fall in its currency or its government bonds; a default on its national debt; or a period of double-digit inflation.\\n\\nDuring the 19th century, only occasionally did more than half of countries for which there are data suffer such a shock in a single year.\\n\\nBut since the 1980s, in numerous years more than half of them have been in a financial crisis of some kind.\\n\\nThe main reason for this, argues Deutsche, is the monetary system.\\n\\nUnder the gold standard and its successor, the Bretton Woods system of fixed exchange rates, the amount of credit creation was limited.\\n\\nA country that expanded its money supply too quickly would suffer a trade deficit and pressure on its currency’s exchange rate; the government would react by slamming on the monetary brakes.\\n\\nThe result was that it was harder for financial bubbles to inflate.\\n\\nBut since the early 1970s more countries have moved to a floating exchange-rate system.\\n\\nThis gives governments the flexibility to deal with an economic crisis, and means they do not have to subordinate other policy goals to maintaining a currency peg.\\n\\nIt has also created a trend towards greater trade imbalances, which no longer constrain policymakers—the currency is often allowed to take the strain.\\n\\nSimilarly, government debt has risen steadily as a proportion of GDP since the mid-1970s.\\n\\nThere has been little pressure from the markets to balance the budget; Japan has had a deficit every year since 1966, and France since 1993.\\n\\nItaly has managed just one year of surplus since 1950.\\n\\nIn the developed world, consumers and companies have also taken on more debt.\\n\\nThe result has been a cycle of credit expansion and collapse.', 'India has regained its title as the world’s fastest-growing major economy, after figures confirmed it grew by more than 7 per cent on an annualised basis in the three months to December, overtaking China once more.\\n\\nData released yesterday show the economy grew at an annual rate of 7.2 per cent in the final quarter of last year, continuing its bounceback from a sharp slowdown in the middle of 2017. The Chinese economy grew 6.8 per cent on an annualised basis over the same period.\\n\\nThe data are a boost for Narendra Modi, prime minister, who has come under pressure because of the economic slowdown, ahead of a general election due next year. The news also comes as a welcome relief following a week in which his administration has been attacked for failing to prevent a $1.8bn fraud at the state-owned Punjab National Bank.\\n\\nPiyush Goyal, the railways minister who is seen as close to Mr Modi, welcomed yesterday’s figures, tweeting: “India’s GDP growth momentum continues strongly & sustainably — jumps to 7.2% in 3rd quarter of 2017-18, makes India the fastest growing large economy in the world.”\\n\\nPronab Sen, the country’s former chief statistician, called the figures “very strong — much stronger than expected”.\\n\\nMr Modi came to power in 2014 promising economic reforms that would help boost the economy and create 10m jobs a year, just shy of the estimated 13m India needs to account for the number of young people entering the workforce each year.\\n\\nBut his record had come under fire following his sudden decision in 2016 to cancel most of the country’s banknotes, followed by a botched attempt to reform the complex sales tax system.\\n\\nThe problems arising from both of these moves helped knock the economy off course last year, as it fell from growth of 9.1 per cent in the first quarter of 2016 to just 5.7 per cent in the three months to June 2017.\\n\\nLast month, Arun Jaitley, the finance minister, attempted to mitigate some of the effects of the slowdown as he announced a budget which included higher minimum prices for farmers and free health insurance for 100m poor families.\\n\\nThat slowdown was reversed in the third quarter of last year, and yesterday’s data showed the improvement con?tinued in the following quarter.\\n\\nThe most recent quarter’s data were boosted in particular by a recovery in construction, which ex?panded 6.8 per cent. This had been one of the sectors to suffer most in the wake of demonetisation, with many of India’s property deals having previously been paid for in cash as a way to avoid tax. Manufacturing meanwhile grew 8.1 per cent, while the country’s important agricultural sector was 4.1 per cent larger.\\n\\nEarlier in the day, the credit rating agency Moody’s had said that it expected India to grow by 7.6 per cent in 2018.\\n\\nIt said: “There are some signs that the Indian economy is starting to recover from the soft growth patch attributed to the negative impact of the demonetisation undertaken in 2016 and disruption related to last year’s rollout of the Goods and Service Tax.”\\n\\nThe International Monetary Fund has forecast India will grow by 7.4 per cent in 2018 and 7.8 per cent in 2019.The next financial crisis may be triggered by central banks.\\n\\nAs with London buses, don’t worry if you miss a financial crisis; another will be along shortly.\\n\\nThe latest study on long-term asset returns from Deutsche Bank shows that crises in developed markets have become much more common in recent decades.\\n\\nThat does not bode well.\\n\\nDeutsche defines a crisis as a period when a country suffers one of the following: a 15% annual decline in equities; a 10% fall in its currency or its government bonds; a default on its national debt; or a period of double-digit inflation.\\n\\nDuring the 19th century, only occasionally did more than half of countries for which there are data suffer such a shock in a single year.\\n\\nBut since the 1980s, in numerous years more than half of them have been in a financial crisis of some kind.\\n\\nThe main reason for this, argues Deutsche, is the monetary system.\\n\\nUnder the gold standard and its successor, the Bretton Woods system of fixed exchange rates, the amount of credit creation was limited.\\n\\nA country that expanded its money supply too quickly would suffer a trade deficit and pressure on its currency’s exchange rate; the government would react by slamming on the monetary brakes.\\n\\nThe result was that it was harder for financial bubbles to inflate.\\n\\nBut since the early 1970s more countries have moved to a floating exchange-rate system.\\n\\nThis gives governments the flexibility to deal with an economic crisis, and means they do not have to subordinate other policy goals to maintaining a currency peg.\\n\\nIt has also created a trend towards greater trade imbalances, which no longer constrain policymakers—the currency is often allowed to take the strain.\\n\\nSimilarly, government debt has risen steadily as a proportion of GDP since the mid-1970s.\\n\\nThere has been little pressure from the markets to balance the budget; Japan has had a deficit every year since 1966, and France since 1993.\\n\\nItaly has managed just one year of surplus since 1950.\\n\\nIn the developed world, consumers and companies have also taken on more debt.\\n\\nThe result has been a cycle of credit expansion and collapse.China has warned that it does not want a trade war with the US, but will not sit idly by if its economy is hurt.\\n\\nZhang Yesui, spokesperson for China’s National People’s Congress, made the comments amid controversy over Donald Trump’s announcement of tariffs on steel and aluminium imports.\\n\\nThe US president has also threatened to impose a tax on EU-made cars, and earlier said \"trade wars are good\".\\n\\nUS trading partners, the IMF and the WTO have strongly criticised his moves.\\n\\nMr Trump has decried the \"$800 Billion Dollar Yearly Trade Deficit because of our ’very stupid’ trade deals and policies\", and vowed to end it.\\n\\nOn Thursday, he said steel imports would face a 25% tariff and aluminium 10%.\\n\\nThen came Saturday’s threat on EU-made cars.\\n\\nIn January, he had already announced tariffs on solar panels and washing machines.\\n\\nChina’s Zhang Yesui said it was natural that \"some friction will exist\" between the US and China, given the volume of trade between them surpassed 580bn last year.\\n\\nBut he said China would take \"necessary measures\" if its interests were hurt.The US economic expansion is set to gain momentum, hardening the arguments for increases in short-term interest rates, Federal Reserve policymakers said at their latest meeting.\\n\\nA number of participants in the US central bank’s January 30-31 meeting said they had marked up their growth forecasts since the previous month, encouraged by firm global growth, supportive financial markets and the potential for US tax cuts to boost the economy more than expected. Others said the “upside risks” to growth may have increased, according to minutes of the gathering.\\n\\n“A majority of participants noted that a stronger outlook for economic growth raised the likelihood that further gradual policy firming would be appropriate,” according to the record released on Wednesday.\\n\\nThe Fed’s rate-setters reflected the increased arguments for rate rises by changing the language in their post-meeting statement to point to “further” rate rises.\\n\\nThe Fed’s most recent policy meeting was held shortly before the departure of Janet Yellen as chair and the outbreak of market volatility that greeted Jay Powell, her successor, during his first days on the job. Policymakers including Bill Dudley, the New York Fed president, have stressed that the gyrations in the equity market were unlikely to shake the central bank’s plans to continue its gradual programme of rate rises.\\n\\nWhile January’s deliberations predated the worst of the market fluctuations, the record suggests that Fed officials have become more confident about the economy since their December meeting, when they last raised interest rates. The Federal Open Market Committee left its target range for the federal funds rate on hold at 1.25 to 1.5 per cent at the January meeting, while laying the ground for another move at the March 20-21 meeting.\\n\\nA key question in markets now is whether the Fed could opt to boost rates four times in 2018, rather than the three moves currently forecast. The immediate market response to the minutes suggested they did not significantly advance that debate: the yield on the 10-year Treasury declined modestly and the dollar softened a little, but both moves were muted. Fed funds futures were little changed.The next financial crisis may be triggered by central banks.\\n\\nAs with London buses, don’t worry if you miss a financial crisis; another will be along shortly.\\n\\nThe latest study on long-term asset returns from Deutsche Bank shows that crises in developed markets have become much more common in recent decades.\\n\\nThat does not bode well.\\n\\nDeutsche defines a crisis as a period when a country suffers one of the following: a 15% annual decline in equities; a 10% fall in its currency or its government bonds; a default on its national debt; or a period of double-digit inflation.\\n\\nDuring the 19th century, only occasionally did more than half of countries for which there are data suffer such a shock in a single year.\\n\\nBut since the 1980s, in numerous years more than half of them have been in a financial crisis of some kind.\\n\\nThe main reason for this, argues Deutsche, is the monetary system.\\n\\nUnder the gold standard and its successor, the Bretton Woods system of fixed exchange rates, the amount of credit creation was limited.\\n\\nA country that expanded its money supply too quickly would suffer a trade deficit and pressure on its currency’s exchange rate; the government would react by slamming on the monetary brakes.\\n\\nThe result was that it was harder for financial bubbles to inflate.\\n\\nBut since the early 1970s more countries have moved to a floating exchange-rate system.\\n\\nThis gives governments the flexibility to deal with an economic crisis, and means they do not have to subordinate other policy goals to maintaining a currency peg.\\n\\nIt has also created a trend towards greater trade imbalances, which no longer constrain policymakers—the currency is often allowed to take the strain.\\n\\nSimilarly, government debt has risen steadily as a proportion of GDP since the mid-1970s.\\n\\nThere has been little pressure from the markets to balance the budget; Japan has had a deficit every year since 1966, and France since 1993.\\n\\nItaly has managed just one year of surplus since 1950.\\n\\nIn the developed world, consumers and companies have also taken on more debt.\\n\\nThe result has been a cycle of credit expansion and collapse.India has regained its title as the world’s fastest-growing major economy, after figures confirmed it grew by more than 7 per cent on an annualised basis in the three months to December, overtaking China once more.\\n\\nData released yesterday show the economy grew at an annual rate of 7.2 per cent in the final quarter of last year, continuing its bounceback from a sharp slowdown in the middle of 2017. The Chinese economy grew 6.8 per cent on an annualised basis over the same period.\\n\\nThe data are a boost for Narendra Modi, prime minister, who has come under pressure because of the economic slowdown, ahead of a general election due next year. The news also comes as a welcome relief following a week in which his administration has been attacked for failing to prevent a $1.8bn fraud at the state-owned Punjab National Bank.\\n\\nPiyush Goyal, the railways minister who is seen as close to Mr Modi, welcomed yesterday’s figures, tweeting: “India’s GDP growth momentum continues strongly & sustainably — jumps to 7.2% in 3rd quarter of 2017-18, makes India the fastest growing large economy in the world.”\\n\\nPronab Sen, the country’s former chief statistician, called the figures “very strong — much stronger than expected”.\\n\\nMr Modi came to power in 2014 promising economic reforms that would help boost the economy and create 10m jobs a year, just shy of the estimated 13m India needs to account for the number of young people entering the workforce each year.\\n\\nBut his record had come under fire following his sudden decision in 2016 to cancel most of the country’s banknotes, followed by a botched attempt to reform the complex sales tax system.\\n\\nThe problems arising from both of these moves helped knock the economy off course last year, as it fell from growth of 9.1 per cent in the first quarter of 2016 to just 5.7 per cent in the three months to June 2017.\\n\\nLast month, Arun Jaitley, the finance minister, attempted to mitigate some of the effects of the slowdown as he announced a budget which included higher minimum prices for farmers and free health insurance for 100m poor families.\\n\\nThat slowdown was reversed in the third quarter of last year, and yesterday’s data showed the improvement con?tinued in the following quarter.\\n\\nThe most recent quarter’s data were boosted in particular by a recovery in construction, which ex?panded 6.8 per cent. This had been one of the sectors to suffer most in the wake of demonetisation, with many of India’s property deals having previously been paid for in cash as a way to avoid tax. Manufacturing meanwhile grew 8.1 per cent, while the country’s important agricultural sector was 4.1 per cent larger.\\n\\nEarlier in the day, the credit rating agency Moody’s had said that it expected India to grow by 7.6 per cent in 2018.\\n\\nIt said: “There are some signs that the Indian economy is starting to recover from the soft growth patch attributed to the negative impact of the demonetisation undertaken in 2016 and disruption related to last year’s rollout of the Goods and Service Tax.”\\n\\nThe International Monetary Fund has forecast India will grow by 7.4 per cent in 2018 and 7.8 per cent in 2019.']\n"
     ]
    },
    {
     "ename": "ValueError",
     "evalue": "I/O operation on closed file.",
     "output_type": "error",
     "traceback": [
      "\u001b[1;31m---------------------------------------------------------------------------\u001b[0m",
      "\u001b[1;31mValueError\u001b[0m                                Traceback (most recent call last)",
      "\u001b[1;32m<ipython-input-28-1128f32d3608>\u001b[0m in \u001b[0;36m<module>\u001b[1;34m()\u001b[0m\n\u001b[0;32m     16\u001b[0m \u001b[1;33m\u001b[0m\u001b[0m\n\u001b[0;32m     17\u001b[0m \u001b[1;31m#将所有的英文字母转换成小写\u001b[0m\u001b[1;33m\u001b[0m\u001b[1;33m\u001b[0m\u001b[0m\n\u001b[1;32m---> 18\u001b[1;33m \u001b[0mwords\u001b[0m \u001b[1;33m=\u001b[0m \u001b[1;33m[\u001b[0m\u001b[0mraw_word\u001b[0m\u001b[1;33m.\u001b[0m\u001b[0mstrip\u001b[0m\u001b[1;33m(\u001b[0m\u001b[0mstring\u001b[0m\u001b[1;33m.\u001b[0m\u001b[0mpunctuation\u001b[0m\u001b[1;33m)\u001b[0m\u001b[1;33m.\u001b[0m\u001b[0mlower\u001b[0m\u001b[1;33m(\u001b[0m\u001b[1;33m)\u001b[0m \u001b[1;32mfor\u001b[0m \u001b[0mraw_word\u001b[0m \u001b[1;32min\u001b[0m \u001b[0mtext\u001b[0m\u001b[1;33m.\u001b[0m\u001b[0mread\u001b[0m\u001b[1;33m(\u001b[0m\u001b[1;33m)\u001b[0m\u001b[1;33m.\u001b[0m\u001b[0msplit\u001b[0m\u001b[1;33m(\u001b[0m\u001b[1;33m)\u001b[0m\u001b[1;33m]\u001b[0m\u001b[1;33m\u001b[0m\u001b[0m\n\u001b[0m\u001b[0;32m     19\u001b[0m \u001b[1;31m#转换成集合形式\u001b[0m\u001b[1;33m\u001b[0m\u001b[1;33m\u001b[0m\u001b[0m\n\u001b[0;32m     20\u001b[0m \u001b[0mwords_index\u001b[0m \u001b[1;33m=\u001b[0m \u001b[0mset\u001b[0m\u001b[1;33m(\u001b[0m\u001b[0mwords\u001b[0m\u001b[1;33m)\u001b[0m\u001b[1;33m\u001b[0m\u001b[0m\n",
      "\u001b[1;31mValueError\u001b[0m: I/O operation on closed file."
     ]
    }
   ],
   "source": [
    "import os  \n",
    "import string\n",
    "path = \"C:/corpara\" #文件夹目录  \n",
    "files= os.listdir(path) #得到文件夹下的所有文件名称  \n",
    "s = []  \n",
    "for file in files: #遍历文件夹  \n",
    "     if not os.path.isdir(file): #判断是否是文件夹，不是文件夹才打开  \n",
    "          f = open(path+\"/\"+file,'r',encoding= 'utf-8'); #打开文件  \n",
    "          iter_f = iter(f); #创建迭代器  \n",
    "          #str = \"\"  \n",
    "          for line in iter_f:#遍历文件，一行行遍历，读取文本 \n",
    "               \n",
    "              str = str + line  \n",
    "          s.append(str) #每个文件的文本存到list中  \n",
    "print(s) #打印结果 \n",
    "\n",
    "#将所有的英文字母转换成小写\n",
    "#words = [raw_word.strip(string.punctuation).lower() for raw_word in text.read().split()]\n",
    "#转换成集合形式\n",
    "#words_index = set(words)\n",
    "#使用字典统计词频\n",
    "#counts_dict = {index:words.count(index) for index in words_index}\n",
    "#按照词频从高到低排序\n",
    "#for word in sorted(counts_dict,key=lambda x: counts_dict[x],reverse=True):\n",
    "   # if counts_dict[word] > 10:\n",
    "        #print('{} -- {} times'.format(word,counts_dict[word]))()\n",
    "               "
   ]
  },
  {
   "cell_type": "code",
   "execution_count": 41,
   "metadata": {},
   "outputs": [],
   "source": [
    "import os  \n",
    "import string\n",
    "path = \"C:/corpara\" #文件夹目录  \n",
    "files= os.listdir(path) #得到文件夹下的所有文件名称  \n",
    "s = []  \n",
    "for file in files: #遍历文件夹  \n",
    "     if not os.path.isdir(file): #判断是否是文件夹，不是文件夹才打开  \n",
    "          f = open(path+\"/\"+file,'r',encoding= 'utf-8'); #打开文件  \n",
    "          iter_f = iter(f); #创建迭代器  \n",
    "          \n",
    "        \n",
    "        #str = \"\"  \n",
    "          for line in iter_f: #遍历文件，一行行遍历，读取文本 \n",
    "                temp1 = line.strip('\\n')       #去掉每行最后的换行符'\\n'\n",
    "                temp2 = temp1.split(',')     #以','为标志，将每行分割成列表\n",
    "                s.append(temp2)          #将上一步得到的列表添加到new中\n",
    "              \n",
    "            #str = str + temp2 \n",
    "                 #s.append(temp2) #每个文件的文本存到list中  \n",
    "print(s) #打印结果 \n"
   ]
  },
  {
   "cell_type": "code",
   "execution_count": 48,
   "metadata": {},
   "outputs": [
    {
     "ename": "UnsupportedOperation",
     "evalue": "not writable",
     "output_type": "error",
     "traceback": [
      "\u001b[1;31m---------------------------------------------------------------------------\u001b[0m",
      "\u001b[1;31mUnsupportedOperation\u001b[0m                      Traceback (most recent call last)",
      "\u001b[1;32m<ipython-input-48-00751aebbe49>\u001b[0m in \u001b[0;36m<module>\u001b[1;34m()\u001b[0m\n\u001b[0;32m     11\u001b[0m           \u001b[0mstr\u001b[0m \u001b[1;33m=\u001b[0m \u001b[1;34m\"\"\u001b[0m\u001b[1;33m\u001b[0m\u001b[0m\n\u001b[0;32m     12\u001b[0m           \u001b[1;32mfor\u001b[0m \u001b[0mline\u001b[0m \u001b[1;32min\u001b[0m \u001b[0miter_f\u001b[0m\u001b[1;33m:\u001b[0m \u001b[1;31m#遍历文件，一行行遍历，读取文本\u001b[0m\u001b[1;33m\u001b[0m\u001b[0m\n\u001b[1;32m---> 13\u001b[1;33m               \u001b[0mf\u001b[0m\u001b[1;33m.\u001b[0m\u001b[0mwritelines\u001b[0m\u001b[1;33m(\u001b[0m\u001b[0mline\u001b[0m\u001b[1;33m)\u001b[0m\u001b[1;33m\u001b[0m\u001b[0m\n\u001b[0m\u001b[0;32m     14\u001b[0m            \u001b[1;31m# str = str + line\u001b[0m\u001b[1;33m\u001b[0m\u001b[1;33m\u001b[0m\u001b[0m\n\u001b[0;32m     15\u001b[0m          \u001b[1;31m# s.append(str) #每个文件的文本存到list中\u001b[0m\u001b[1;33m\u001b[0m\u001b[1;33m\u001b[0m\u001b[0m\n",
      "\u001b[1;31mUnsupportedOperation\u001b[0m: not writable"
     ]
    }
   ],
   "source": [
    "import string\n",
    "path = \"C:/corpara\" #文件夹目录  \n",
    "files= os.listdir(path) #得到文件夹下的所有文件名称  \n",
    "s = []  \n",
    "filedir = os.getcwd()+'/corpara'#获取目标文件夹的路径\n",
    "f=open('result.txt','w')#打开当前目录下的result.txt文件，如果没有则创建\n",
    "for file in files: #遍历文件夹  \n",
    "     if not os.path.isdir(file): #判断是否是文件夹，不是文件夹才打开  \n",
    "          f = open(path+\"/\"+file); #打开文件  \n",
    "          iter_f = iter(f); #创建迭代器  \n",
    "          str = \"\"  \n",
    "          for line in iter_f: #遍历文件，一行行遍历，读取文本  \n",
    "              f.writelines(line)\n",
    "           # str = str + line  \n",
    "         # s.append(str) #每个文件的文本存到list中  \n",
    "#print(s) #打印结果  \n"
   ]
  },
  {
   "cell_type": "code",
   "execution_count": 50,
   "metadata": {},
   "outputs": [
    {
     "name": "stdout",
     "output_type": "stream",
     "text": [
      "the -- 21 times\n",
      "a -- 19 times\n"
     ]
    }
   ],
   "source": [
    "import string\n",
    "\n",
    "#文件列表，遍于读取\n",
    "flist = ['C:/corpara/1.txt',''C:/corpara/2.txt',''C:/corpara/3.txt']\n",
    "#要写入的文件\n",
    "ofile = open('C:/corpara/result.txt', 'w')\n",
    "#遍历读取所有文件，并写入到输出文件\n",
    "for fr in flist:    \n",
    "    for txt in open(fr, 'r'):        \n",
    "        ofile.write(txt)ofile.close()\n",
    "        \n",
    "#读取英文原著alice\n",
    "path = 'C:/corpara/1.txt'\n",
    "\n",
    "with open(path,'r',encoding= 'utf-8') as text:\n",
    "    #将所有的英文字母转换成小写\n",
    "    words = [raw_word.strip(string.punctuation).lower() for raw_word in text.read().split()]\n",
    "#转换成集合形式\n",
    "words_index = set(words)\n",
    "#使用字典统计词频\n",
    "counts_dict = {index:words.count(index) for index in words_index}\n",
    "#按照词频从高到低排序\n",
    "for word in sorted(counts_dict,key=lambda x: counts_dict[x],reverse=True):\n",
    "    if counts_dict[word] > 10:\n",
    "        print('{} -- {} times'.format(word,counts_dict[word]))"
   ]
  },
  {
   "cell_type": "code",
   "execution_count": 51,
   "metadata": {},
   "outputs": [
    {
     "ename": "ValueError",
     "evalue": "I/O operation on closed file.",
     "output_type": "error",
     "traceback": [
      "\u001b[1;31m---------------------------------------------------------------------------\u001b[0m",
      "\u001b[1;31mValueError\u001b[0m                                Traceback (most recent call last)",
      "\u001b[1;32m<ipython-input-51-77513d045234>\u001b[0m in \u001b[0;36m<module>\u001b[1;34m()\u001b[0m\n\u001b[0;32m      7\u001b[0m \u001b[1;32mfor\u001b[0m \u001b[0mfr\u001b[0m \u001b[1;32min\u001b[0m \u001b[0mflist\u001b[0m\u001b[1;33m:\u001b[0m\u001b[1;33m\u001b[0m\u001b[0m\n\u001b[0;32m      8\u001b[0m     \u001b[1;32mfor\u001b[0m \u001b[0mtxt\u001b[0m \u001b[1;32min\u001b[0m \u001b[0mopen\u001b[0m\u001b[1;33m(\u001b[0m\u001b[0mfr\u001b[0m\u001b[1;33m,\u001b[0m \u001b[1;34m'r'\u001b[0m\u001b[1;33m)\u001b[0m\u001b[1;33m:\u001b[0m\u001b[1;33m\u001b[0m\u001b[0m\n\u001b[1;32m----> 9\u001b[1;33m         \u001b[0mofile\u001b[0m\u001b[1;33m.\u001b[0m\u001b[0mwrite\u001b[0m\u001b[1;33m(\u001b[0m\u001b[0mtxt\u001b[0m\u001b[1;33m)\u001b[0m\u001b[1;33m\u001b[0m\u001b[0m\n\u001b[0m\u001b[0;32m     10\u001b[0m         \u001b[0mofile\u001b[0m\u001b[1;33m.\u001b[0m\u001b[0mclose\u001b[0m\u001b[1;33m(\u001b[0m\u001b[1;33m)\u001b[0m\u001b[1;33m\u001b[0m\u001b[0m\n",
      "\u001b[1;31mValueError\u001b[0m: I/O operation on closed file."
     ]
    }
   ],
   "source": [
    "import os\n",
    "#文件列表，遍于读取\n",
    "flist = ['C:/corpara/1.txt','C:/corpara/2.txt','C:/corpara/3.txt']\n",
    "#要写入的文件\n",
    "ofile = open('C:/corpara/result.txt', 'w')\n",
    "#遍历读取所有文件，并写入到输出文件\n",
    "for fr in flist:    \n",
    "    for txt in open(fr, 'r'):        \n",
    "        ofile.write(txt)\n",
    "        ofile.close()"
   ]
  },
  {
   "cell_type": "code",
   "execution_count": 55,
   "metadata": {},
   "outputs": [
    {
     "ename": "SyntaxError",
     "evalue": "EOL while scanning string literal (<ipython-input-55-1ceb118a8f5d>, line 6)",
     "output_type": "error",
     "traceback": [
      "\u001b[1;36m  File \u001b[1;32m\"<ipython-input-55-1ceb118a8f5d>\"\u001b[1;36m, line \u001b[1;32m6\u001b[0m\n\u001b[1;33m    filenames=os.listdir('C:/corpara/)\u001b[0m\n\u001b[1;37m                                      ^\u001b[0m\n\u001b[1;31mSyntaxError\u001b[0m\u001b[1;31m:\u001b[0m EOL while scanning string literal\n"
     ]
    }
   ],
   "source": [
    "#coding=utf-8 \n",
    "import os\n",
    "#获取目标文件夹的路径\n",
    "filedir = os.getcwd()+'/corpara'\n",
    "#获取当前文件夹中的文件名称列表  \n",
    "filenames=os.listdir('C:/corpara/)\n",
    "#打开当前目录下的result.txt文件，如果没有则创建\n",
    "f=open('result.txt','w')\n",
    "#先遍历文件名\n",
    "for filename in filenames:\n",
    "    filepath = filedir+'/'+filename\n",
    "    #遍历单个文件，读取行数\n",
    "    for line in open(filepath):\n",
    "        f.writelines(line)\n",
    "        f.write('\\n')\n",
    "#关闭文件\n",
    "f.close()"
   ]
  },
  {
   "cell_type": "code",
   "execution_count": 59,
   "metadata": {},
   "outputs": [
    {
     "name": "stdout",
     "output_type": "stream",
     "text": [
      "the -- 21 times\n",
      "a -- 19 times\n"
     ]
    }
   ],
   "source": [
    "import string\n",
    "\n",
    "for i in range(1,6):\n",
    "    path[i] = 'C:/corpara/[i].txt'\n",
    "    with open(path[i],'r',encoding= 'utf-8') as text[i]:\n",
    "    #将所有的英文字母转换成小写\n",
    "    words[i] = [raw_word.strip(string.punctuation).lower() for raw_word in text[i].read().split()]\n",
    "    #转换成集合形式\n",
    "    words_index[i] = set(words[i])\n",
    "\n",
    "\n",
    "words_index = words_index1 | words_index2\n",
    "\n",
    "\n",
    "#使用字典统计词频\n",
    "counts_dict = {index:words.count(index) for index in words_index}\n",
    "\n",
    "#按照词频从高到低排序\n",
    "for word in sorted(counts_dict,key=lambda x: counts_dict[x],reverse=True):\n",
    "    if counts_dict[word] > 10:\n",
    "        print('{} -- {} times'.format(word,counts_dict[word]))"
   ]
  },
  {
   "cell_type": "code",
   "execution_count": 76,
   "metadata": {},
   "outputs": [
    {
     "name": "stdout",
     "output_type": "stream",
     "text": [
      "freq*   word\n",
      "-----   -----\n",
      "{'the': 130, 'a': 56, 'of': 50, 'to': 45, 'in': 44, 'and': 29, 'on': 21, 'that': 20, 'for': 19, 'has': 19}\n",
      "{'': 1, 'stressed': 1, 'cash': 1, 'encouraged': 1, 'prime': 1, 'partners': 1, 'jaitley': 1, 'growing': 1, 'comes': 1, 'particular': 1}\n"
     ]
    }
   ],
   "source": [
    "import string\n",
    "#读取英文\n",
    "path = 'C:/corpara/result.txt'\n",
    "\n",
    "with open(path,'r',encoding= 'utf-8') as text:\n",
    "    #将所有的英文字母转换成小写\n",
    "    words = [raw_word.strip(string.punctuation).lower() for raw_word in text.read().split()]\n",
    "#转换成集合形式\n",
    "words_index = set(words)\n",
    "#使用字典统计词频\n",
    "counts_dict = {index:words.count(index) for index in words_index}\n",
    "\n",
    "print('freq*   word')\n",
    "print('-----   -----')\n",
    "#按照词频从高到低排序\n",
    "p={word:counts_dict[word] for word in sorted(counts_dict,key=lambda x:counts_dict[x],reverse=True)[:10]}\n",
    "print(p)\n",
    "#按照词频从低到高排序\n",
    "q={word:counts_dict[word] for word in sorted(counts_dict,key=lambda x:counts_dict[x],reverse=False)[:10]}\n",
    "print(q)\n",
    "\n",
    "#for word in sorted(counts_dict,key=lambda x: counts_dict[x],reverse=True):\n",
    "    #if counts_dict[word] > 10:\n",
    "        #print('{} -- {} times'.format(word,counts_dict[word]))"
   ]
  },
  {
   "cell_type": "code",
   "execution_count": 81,
   "metadata": {},
   "outputs": [
    {
     "ename": "UnicodeDecodeError",
     "evalue": "'gbk' codec can't decode byte 0x99 in position 585: illegal multibyte sequence",
     "output_type": "error",
     "traceback": [
      "\u001b[1;31m---------------------------------------------------------------------------\u001b[0m",
      "\u001b[1;31mUnicodeDecodeError\u001b[0m                        Traceback (most recent call last)",
      "\u001b[1;32m<ipython-input-81-274aa1d84da6>\u001b[0m in \u001b[0;36m<module>\u001b[1;34m()\u001b[0m\n\u001b[0;32m     11\u001b[0m     \u001b[0mfilepath\u001b[0m \u001b[1;33m=\u001b[0m \u001b[0mfiledir\u001b[0m\u001b[1;33m+\u001b[0m\u001b[1;34m'/'\u001b[0m\u001b[1;33m+\u001b[0m\u001b[0mfilename\u001b[0m\u001b[1;33m\u001b[0m\u001b[0m\n\u001b[0;32m     12\u001b[0m     \u001b[1;31m#遍历单个文件，读取行数\u001b[0m\u001b[1;33m\u001b[0m\u001b[1;33m\u001b[0m\u001b[0m\n\u001b[1;32m---> 13\u001b[1;33m     \u001b[1;32mfor\u001b[0m \u001b[0mline\u001b[0m \u001b[1;32min\u001b[0m \u001b[0mopen\u001b[0m\u001b[1;33m(\u001b[0m\u001b[0mfilepath\u001b[0m\u001b[1;33m)\u001b[0m\u001b[1;33m:\u001b[0m\u001b[1;33m\u001b[0m\u001b[0m\n\u001b[0m\u001b[0;32m     14\u001b[0m         \u001b[0mf\u001b[0m\u001b[1;33m.\u001b[0m\u001b[0mwritelines\u001b[0m\u001b[1;33m(\u001b[0m\u001b[0mline\u001b[0m\u001b[1;33m)\u001b[0m\u001b[1;33m\u001b[0m\u001b[0m\n\u001b[0;32m     15\u001b[0m \u001b[1;33m\u001b[0m\u001b[0m\n",
      "\u001b[1;31mUnicodeDecodeError\u001b[0m: 'gbk' codec can't decode byte 0x99 in position 585: illegal multibyte sequence"
     ]
    }
   ],
   "source": [
    "#coding=utf-8 \n",
    "import os\n",
    "#获取目标文件夹的路径\n",
    "filedir = os.getcwd()+'/corpara'\n",
    "#获取当前文件夹中的文件名称列表  \n",
    "filenames=os.listdir(filedir)\n",
    "#打开当前目录下的result.txt文件，如果没有则创建\n",
    "f=open('hey.txt','w')\n",
    "#先遍历文件名\n",
    "for filename in filenames:\n",
    "    filepath = filedir+'/'+filename\n",
    "    #遍历单个文件，读取行数\n",
    "    for line in open(filepath):\n",
    "        f.writelines(line)\n",
    "\n",
    "#关闭文件\n",
    "f.close()"
   ]
  },
  {
   "cell_type": "code",
   "execution_count": 101,
   "metadata": {},
   "outputs": [
    {
     "ename": "TypeError",
     "evalue": "a bytes-like object is required, not 'str'",
     "output_type": "error",
     "traceback": [
      "\u001b[1;31m---------------------------------------------------------------------------\u001b[0m",
      "\u001b[1;31mTypeError\u001b[0m                                 Traceback (most recent call last)",
      "\u001b[1;32m<ipython-input-101-5d1969bc2bb4>\u001b[0m in \u001b[0;36m<module>\u001b[1;34m()\u001b[0m\n\u001b[0;32m     18\u001b[0m     \u001b[1;31m#遍历单个文件，读取行数\u001b[0m\u001b[1;33m\u001b[0m\u001b[1;33m\u001b[0m\u001b[0m\n\u001b[0;32m     19\u001b[0m     \u001b[1;32mfor\u001b[0m \u001b[0mline\u001b[0m \u001b[1;32min\u001b[0m \u001b[0mopen\u001b[0m\u001b[1;33m(\u001b[0m\u001b[0mfilepath\u001b[0m\u001b[1;33m)\u001b[0m\u001b[1;33m:\u001b[0m\u001b[1;33m\u001b[0m\u001b[0m\n\u001b[1;32m---> 20\u001b[1;33m         \u001b[0mfile\u001b[0m\u001b[1;33m.\u001b[0m\u001b[0mwrite\u001b[0m\u001b[1;33m(\u001b[0m\u001b[0mline\u001b[0m\u001b[1;33m)\u001b[0m\u001b[1;33m\u001b[0m\u001b[0m\n\u001b[0m\u001b[0;32m     21\u001b[0m         \u001b[0mfile\u001b[0m\u001b[1;33m.\u001b[0m\u001b[0mwrite\u001b[0m\u001b[1;33m(\u001b[0m\u001b[1;34m'\\n'\u001b[0m\u001b[1;33m)\u001b[0m\u001b[1;33m\u001b[0m\u001b[0m\n\u001b[0;32m     22\u001b[0m \u001b[1;33m\u001b[0m\u001b[0m\n",
      "\u001b[1;31mTypeError\u001b[0m: a bytes-like object is required, not 'str'"
     ]
    }
   ],
   "source": [
    "# -*- coding:utf-8 -*-  \n",
    "# file: FileMerage.py  \n",
    "#os模块中包含很多操作文件和目录的函数  \n",
    "import os  \n",
    "#获取目标文件夹的路径  \n",
    "meragefiledir = os.getcwd()+'\\\\corpara'  \n",
    "#获取当前文件夹中的文件名称列表  \n",
    "filenames=os.listdir(meragefiledir)  \n",
    "#打开当前目录下的result.txt文件，如果没有则创建  \n",
    "#文件也可以是其他类型的格式，如result.js  \n",
    "file=open('hey.txt','wb+')  \n",
    "#向文件中写入字符  \n",
    "#file.write('python\\n')  \n",
    "  \n",
    "#先遍历文件名  \n",
    "for filename in filenames:  \n",
    "    filepath=meragefiledir+'\\\\'+filename  \n",
    "    #遍历单个文件，读取行数  \n",
    "    for line in open(filepath):  \n",
    "        file.writelines(line)  \n",
    "        file.write('\\n')  \n",
    "  \n",
    "#关闭文件  \n",
    "file.close()  "
   ]
  },
  {
   "cell_type": "code",
   "execution_count": 109,
   "metadata": {},
   "outputs": [
    {
     "ename": "UnicodeDecodeError",
     "evalue": "'gbk' codec can't decode byte 0x99 in position 585: illegal multibyte sequence",
     "output_type": "error",
     "traceback": [
      "\u001b[1;31m---------------------------------------------------------------------------\u001b[0m",
      "\u001b[1;31mUnicodeDecodeError\u001b[0m                        Traceback (most recent call last)",
      "\u001b[1;32m<ipython-input-109-2e72d92c6ee2>\u001b[0m in \u001b[0;36m<module>\u001b[1;34m()\u001b[0m\n\u001b[0;32m     25\u001b[0m     \u001b[0mfilepath\u001b[0m\u001b[1;33m=\u001b[0m\u001b[1;34m\"C:/Users/w/corpara\"\u001b[0m\u001b[1;33m\u001b[0m\u001b[0m\n\u001b[0;32m     26\u001b[0m     \u001b[0moutfile\u001b[0m\u001b[1;33m=\u001b[0m\u001b[1;34m\"hey.txt\"\u001b[0m\u001b[1;33m\u001b[0m\u001b[0m\n\u001b[1;32m---> 27\u001b[1;33m     \u001b[0mMergeTxt\u001b[0m\u001b[1;33m(\u001b[0m\u001b[0mfilepath\u001b[0m\u001b[1;33m,\u001b[0m\u001b[0moutfile\u001b[0m\u001b[1;33m)\u001b[0m\u001b[1;33m\u001b[0m\u001b[0m\n\u001b[0m",
      "\u001b[1;32m<ipython-input-109-2e72d92c6ee2>\u001b[0m in \u001b[0;36mMergeTxt\u001b[1;34m(filepath, outfile)\u001b[0m\n\u001b[0;32m     15\u001b[0m             \u001b[0mf\u001b[0m \u001b[1;33m=\u001b[0m \u001b[0mopen\u001b[0m\u001b[1;33m(\u001b[0m\u001b[0mtxtPath\u001b[0m\u001b[1;33m)\u001b[0m\u001b[1;33m\u001b[0m\u001b[0m\n\u001b[0;32m     16\u001b[0m             \u001b[1;31m##########换行写入##################\u001b[0m\u001b[1;33m\u001b[0m\u001b[1;33m\u001b[0m\u001b[0m\n\u001b[1;32m---> 17\u001b[1;33m             \u001b[0mk\u001b[0m\u001b[1;33m.\u001b[0m\u001b[0mwrite\u001b[0m\u001b[1;33m(\u001b[0m\u001b[0mf\u001b[0m\u001b[1;33m.\u001b[0m\u001b[0mread\u001b[0m\u001b[1;33m(\u001b[0m\u001b[1;33m)\u001b[0m\u001b[1;33m+\u001b[0m\u001b[1;34m\"\\n\"\u001b[0m\u001b[1;33m)\u001b[0m\u001b[1;33m\u001b[0m\u001b[0m\n\u001b[0m\u001b[0;32m     18\u001b[0m \u001b[1;33m\u001b[0m\u001b[0m\n\u001b[0;32m     19\u001b[0m     \u001b[0mk\u001b[0m\u001b[1;33m.\u001b[0m\u001b[0mclose\u001b[0m\u001b[1;33m(\u001b[0m\u001b[1;33m)\u001b[0m\u001b[1;33m\u001b[0m\u001b[0m\n",
      "\u001b[1;31mUnicodeDecodeError\u001b[0m: 'gbk' codec can't decode byte 0x99 in position 585: illegal multibyte sequence"
     ]
    }
   ],
   "source": [
    "# -*- coding:utf-8*-\n",
    "import sys\n",
    "#reload(sys)\n",
    "#sys.setdefaultencoding('utf-8')\n",
    "\n",
    "import os\n",
    "import os.path\n",
    "\n",
    "##########################合并同一个文件夹下多个txt################\n",
    "def MergeTxt(filepath,outfile):\n",
    "    k = open(filepath+outfile, 'a+',encoding= 'gbk')\n",
    "    for parent, dirnames, filenames in os.walk(filepath):\n",
    "        for filepath in filenames:\n",
    "            txtPath = os.path.join(parent, filepath)  # txtpath就是所有文件夹的路径\n",
    "            f = open(txtPath)\n",
    "            ##########换行写入##################\n",
    "            k.write(f.read()+\"\\n\")\n",
    "\n",
    "    k.close()\n",
    "\n",
    "    print (\"finished\")\n",
    "\n",
    "\n",
    "if __name__ == '__main__':\n",
    "    filepath=\"C:/Users/w/corpara\"\n",
    "    outfile=\"hey.txt\"\n",
    "    MergeTxt(filepath,outfile)\n"
   ]
  },
  {
   "cell_type": "code",
   "execution_count": null,
   "metadata": {},
   "outputs": [],
   "source": []
  }
 ],
 "metadata": {
  "kernelspec": {
   "display_name": "Python 3",
   "language": "python",
   "name": "python3"
  },
  "language_info": {
   "codemirror_mode": {
    "name": "ipython",
    "version": 3
   },
   "file_extension": ".py",
   "mimetype": "text/x-python",
   "name": "python",
   "nbconvert_exporter": "python",
   "pygments_lexer": "ipython3",
   "version": "3.6.4"
  }
 },
 "nbformat": 4,
 "nbformat_minor": 2
}
