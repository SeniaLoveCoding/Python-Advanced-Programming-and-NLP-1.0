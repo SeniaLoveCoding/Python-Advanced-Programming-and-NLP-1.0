{
 "cells": [
  {
   "cell_type": "code",
   "execution_count": 1,
   "metadata": {},
   "outputs": [],
   "source": [
    "a= [1,3,4,5,8]"
   ]
  },
  {
   "cell_type": "code",
   "execution_count": 2,
   "metadata": {},
   "outputs": [
    {
     "data": {
      "text/plain": [
       "[1, 3, 4, 5, 8]"
      ]
     },
     "execution_count": 2,
     "metadata": {},
     "output_type": "execute_result"
    }
   ],
   "source": [
    "a"
   ]
  },
  {
   "cell_type": "code",
   "execution_count": 3,
   "metadata": {},
   "outputs": [],
   "source": [
    "b = []"
   ]
  },
  {
   "cell_type": "code",
   "execution_count": 4,
   "metadata": {},
   "outputs": [],
   "source": [
    "for i in a:\n",
    "    b.append(i*2)"
   ]
  },
  {
   "cell_type": "code",
   "execution_count": 5,
   "metadata": {},
   "outputs": [
    {
     "data": {
      "text/plain": [
       "[2, 6, 8, 10, 16]"
      ]
     },
     "execution_count": 5,
     "metadata": {},
     "output_type": "execute_result"
    }
   ],
   "source": [
    "b"
   ]
  },
  {
   "cell_type": "code",
   "execution_count": 6,
   "metadata": {},
   "outputs": [],
   "source": [
    "b = [ i*2 for i in a]"
   ]
  },
  {
   "cell_type": "code",
   "execution_count": 7,
   "metadata": {},
   "outputs": [
    {
     "data": {
      "text/plain": [
       "[2, 6, 8, 10, 16]"
      ]
     },
     "execution_count": 7,
     "metadata": {},
     "output_type": "execute_result"
    }
   ],
   "source": [
    "b"
   ]
  },
  {
   "cell_type": "code",
   "execution_count": 8,
   "metadata": {},
   "outputs": [],
   "source": [
    "def pow(a,b):\n",
    "    return a^b"
   ]
  },
  {
   "cell_type": "code",
   "execution_count": 9,
   "metadata": {},
   "outputs": [],
   "source": [
    "c = [ pow(i,2)  for i in a ]"
   ]
  },
  {
   "cell_type": "code",
   "execution_count": 10,
   "metadata": {},
   "outputs": [
    {
     "data": {
      "text/plain": [
       "[3, 1, 6, 7, 10]"
      ]
     },
     "execution_count": 10,
     "metadata": {},
     "output_type": "execute_result"
    }
   ],
   "source": [
    "c"
   ]
  },
  {
   "cell_type": "code",
   "execution_count": 11,
   "metadata": {},
   "outputs": [
    {
     "data": {
      "text/plain": [
       "0"
      ]
     },
     "execution_count": 11,
     "metadata": {},
     "output_type": "execute_result"
    }
   ],
   "source": [
    "2^2"
   ]
  },
  {
   "cell_type": "code",
   "execution_count": 12,
   "metadata": {},
   "outputs": [
    {
     "data": {
      "text/plain": [
       "4"
      ]
     },
     "execution_count": 12,
     "metadata": {},
     "output_type": "execute_result"
    }
   ],
   "source": [
    "6^2"
   ]
  },
  {
   "cell_type": "code",
   "execution_count": 13,
   "metadata": {},
   "outputs": [],
   "source": [
    "def pow(a,b):\n",
    "    return a**b\n"
   ]
  },
  {
   "cell_type": "code",
   "execution_count": 14,
   "metadata": {},
   "outputs": [],
   "source": [
    "c = [ pow(i,2)  for i in a]"
   ]
  },
  {
   "cell_type": "code",
   "execution_count": 15,
   "metadata": {},
   "outputs": [
    {
     "data": {
      "text/plain": [
       "[1, 9, 16, 25, 64]"
      ]
     },
     "execution_count": 15,
     "metadata": {},
     "output_type": "execute_result"
    }
   ],
   "source": [
    "c"
   ]
  },
  {
   "cell_type": "code",
   "execution_count": 16,
   "metadata": {},
   "outputs": [
    {
     "data": {
      "text/plain": [
       "4"
      ]
     },
     "execution_count": 16,
     "metadata": {},
     "output_type": "execute_result"
    }
   ],
   "source": [
    "6^2"
   ]
  },
  {
   "cell_type": "code",
   "execution_count": 17,
   "metadata": {},
   "outputs": [
    {
     "data": {
      "text/plain": [
       "5"
      ]
     },
     "execution_count": 17,
     "metadata": {},
     "output_type": "execute_result"
    }
   ],
   "source": [
    "7^2"
   ]
  },
  {
   "cell_type": "code",
   "execution_count": 18,
   "metadata": {},
   "outputs": [
    {
     "ename": "SyntaxError",
     "evalue": "Missing parentheses in call to 'print' (<ipython-input-18-89521a9a10de>, line 2)",
     "output_type": "error",
     "traceback": [
      "\u001b[0;36m  File \u001b[0;32m\"<ipython-input-18-89521a9a10de>\"\u001b[0;36m, line \u001b[0;32m2\u001b[0m\n\u001b[0;31m    print \"hi\"\u001b[0m\n\u001b[0m             ^\u001b[0m\n\u001b[0;31mSyntaxError\u001b[0m\u001b[0;31m:\u001b[0m Missing parentheses in call to 'print'\n"
     ]
    }
   ],
   "source": [
    "def print_hi():\n",
    "    print \"hi\""
   ]
  },
  {
   "cell_type": "code",
   "execution_count": 19,
   "metadata": {},
   "outputs": [],
   "source": [
    "def print_hi():\n",
    "    print (\"hi\")"
   ]
  },
  {
   "cell_type": "code",
   "execution_count": 20,
   "metadata": {},
   "outputs": [
    {
     "name": "stdout",
     "output_type": "stream",
     "text": [
      "hi\n"
     ]
    }
   ],
   "source": [
    "print_hi()"
   ]
  },
  {
   "cell_type": "code",
   "execution_count": 21,
   "metadata": {},
   "outputs": [],
   "source": [
    "def erxiangshi(a,b,c):\n",
    "    return a**2+2*b+c\n"
   ]
  },
  {
   "cell_type": "code",
   "execution_count": 22,
   "metadata": {},
   "outputs": [
    {
     "name": "stdout",
     "output_type": "stream",
     "text": [
      "12\n"
     ]
    }
   ],
   "source": [
    "print (erxiangshi(1,3,5))"
   ]
  },
  {
   "cell_type": "code",
   "execution_count": 23,
   "metadata": {},
   "outputs": [],
   "source": [
    "def add(x, *args):\n",
    "    total = x\n",
    "    for arg in args:\n",
    "        total += arg\n",
    "    return total"
   ]
  },
  {
   "cell_type": "code",
   "execution_count": 24,
   "metadata": {},
   "outputs": [
    {
     "name": "stdout",
     "output_type": "stream",
     "text": [
      "1 2\n"
     ]
    }
   ],
   "source": [
    "print (1,2)"
   ]
  },
  {
   "cell_type": "code",
   "execution_count": 25,
   "metadata": {},
   "outputs": [
    {
     "ename": "SyntaxError",
     "evalue": "invalid syntax (<ipython-input-25-437fbe31d3ea>, line 1)",
     "output_type": "error",
     "traceback": [
      "\u001b[0;36m  File \u001b[0;32m\"<ipython-input-25-437fbe31d3ea>\"\u001b[0;36m, line \u001b[0;32m1\u001b[0m\n\u001b[0;31m    print add(1,2)\u001b[0m\n\u001b[0m            ^\u001b[0m\n\u001b[0;31mSyntaxError\u001b[0m\u001b[0;31m:\u001b[0m invalid syntax\n"
     ]
    }
   ],
   "source": [
    "print add(1,2)"
   ]
  },
  {
   "cell_type": "code",
   "execution_count": 26,
   "metadata": {},
   "outputs": [
    {
     "name": "stdout",
     "output_type": "stream",
     "text": [
      "3\n"
     ]
    }
   ],
   "source": [
    "print (add(1,2))"
   ]
  },
  {
   "cell_type": "code",
   "execution_count": 27,
   "metadata": {},
   "outputs": [
    {
     "name": "stdout",
     "output_type": "stream",
     "text": [
      "25\n"
     ]
    }
   ],
   "source": [
    "print (add(1,2,3,4,5,5,5))"
   ]
  },
  {
   "cell_type": "code",
   "execution_count": 28,
   "metadata": {},
   "outputs": [
    {
     "ename": "SyntaxError",
     "evalue": "Missing parentheses in call to 'print' (<ipython-input-28-be4514d99860>, line 4)",
     "output_type": "error",
     "traceback": [
      "\u001b[0;36m  File \u001b[0;32m\"<ipython-input-28-be4514d99860>\"\u001b[0;36m, line \u001b[0;32m4\u001b[0m\n\u001b[0;31m    print \"adding \", arg\u001b[0m\n\u001b[0m                  ^\u001b[0m\n\u001b[0;31mSyntaxError\u001b[0m\u001b[0;31m:\u001b[0m Missing parentheses in call to 'print'\n"
     ]
    }
   ],
   "source": [
    "def add(x, **kwargs):\n",
    "    total = x\n",
    "    for arg, value in kwargs.items():\n",
    "        print \"adding \", arg\n",
    "        total += value\n",
    "    return total"
   ]
  },
  {
   "cell_type": "code",
   "execution_count": 29,
   "metadata": {},
   "outputs": [],
   "source": [
    "def add(x, **kwargs):\n",
    "    total = x\n",
    "    for arg, value in kwargs.items():\n",
    "        print (\"adding \", arg)\n",
    "        total += value\n",
    "    return total"
   ]
  },
  {
   "cell_type": "code",
   "execution_count": 30,
   "metadata": {},
   "outputs": [
    {
     "ename": "SyntaxError",
     "evalue": "invalid syntax (<ipython-input-30-5354989b4e6f>, line 2)",
     "output_type": "error",
     "traceback": [
      "\u001b[0;36m  File \u001b[0;32m\"<ipython-input-30-5354989b4e6f>\"\u001b[0;36m, line \u001b[0;32m2\u001b[0m\n\u001b[0;31m    print add(10, y=11, z=12, w=13)\u001b[0m\n\u001b[0m            ^\u001b[0m\n\u001b[0;31mSyntaxError\u001b[0m\u001b[0;31m:\u001b[0m invalid syntax\n"
     ]
    }
   ],
   "source": [
    "\n",
    "print add(10, y=11, z=12, w=13)"
   ]
  },
  {
   "cell_type": "code",
   "execution_count": 31,
   "metadata": {},
   "outputs": [
    {
     "name": "stdout",
     "output_type": "stream",
     "text": [
      "adding  y\n",
      "adding  z\n",
      "adding  w\n",
      "46\n"
     ]
    }
   ],
   "source": [
    "\n",
    "print (add(10, y=11, z=12, w=13))"
   ]
  },
  {
   "cell_type": "code",
   "execution_count": 32,
   "metadata": {},
   "outputs": [],
   "source": [
    "def return2val(a,b,c):\n",
    "    return (a+b, b*c)"
   ]
  },
  {
   "cell_type": "code",
   "execution_count": 33,
   "metadata": {},
   "outputs": [],
   "source": [
    "d = return2val(1,3,5)"
   ]
  },
  {
   "cell_type": "code",
   "execution_count": 34,
   "metadata": {},
   "outputs": [
    {
     "data": {
      "text/plain": [
       "(4, 15)"
      ]
     },
     "execution_count": 34,
     "metadata": {},
     "output_type": "execute_result"
    }
   ],
   "source": [
    "d "
   ]
  },
  {
   "cell_type": "code",
   "execution_count": 35,
   "metadata": {},
   "outputs": [
    {
     "ename": "SyntaxError",
     "evalue": "invalid syntax (<ipython-input-35-3bb24c4e38e0>, line 10)",
     "output_type": "error",
     "traceback": [
      "\u001b[0;36m  File \u001b[0;32m\"<ipython-input-35-3bb24c4e38e0>\"\u001b[0;36m, line \u001b[0;32m10\u001b[0m\n\u001b[0;31m    print \"log10({0}) = {1}\".format(x, y)\u001b[0m\n\u001b[0m                           ^\u001b[0m\n\u001b[0;31mSyntaxError\u001b[0m\u001b[0;31m:\u001b[0m invalid syntax\n"
     ]
    }
   ],
   "source": [
    "import math\n",
    "\n",
    "while True:\n",
    "    try:\n",
    "        text = raw_input('> ')\n",
    "        if text[0] == 'q':\n",
    "            break\n",
    "        x = float(text)\n",
    "        y = math.log10(x)\n",
    "        print \"log10({0}) = {1}\".format(x, y)\n",
    "    except Exception,e :\n",
    "        print (e)"
   ]
  },
  {
   "cell_type": "code",
   "execution_count": 36,
   "metadata": {},
   "outputs": [
    {
     "ename": "SyntaxError",
     "evalue": "invalid syntax (<ipython-input-36-8de445c0a444>, line 11)",
     "output_type": "error",
     "traceback": [
      "\u001b[0;36m  File \u001b[0;32m\"<ipython-input-36-8de445c0a444>\"\u001b[0;36m, line \u001b[0;32m11\u001b[0m\n\u001b[0;31m    except Exception,e :\u001b[0m\n\u001b[0m                    ^\u001b[0m\n\u001b[0;31mSyntaxError\u001b[0m\u001b[0;31m:\u001b[0m invalid syntax\n"
     ]
    }
   ],
   "source": [
    "import math\n",
    "\n",
    "while True:\n",
    "    try:\n",
    "        text = raw_input('> ')\n",
    "        if text[0] == 'q':\n",
    "            break\n",
    "        x = float(text)\n",
    "        y = math.log10(x)\n",
    "        print (\"log10({0}) = {1}\").format(x, y)\n",
    "    except Exception,e :\n",
    "        print (e)"
   ]
  },
  {
   "cell_type": "code",
   "execution_count": 37,
   "metadata": {},
   "outputs": [
    {
     "ename": "SyntaxError",
     "evalue": "invalid syntax (<ipython-input-37-546d7c0c36b9>, line 10)",
     "output_type": "error",
     "traceback": [
      "\u001b[0;36m  File \u001b[0;32m\"<ipython-input-37-546d7c0c36b9>\"\u001b[0;36m, line \u001b[0;32m10\u001b[0m\n\u001b[0;31m    print \"log10({0}) = {1}\".format(x, y)\u001b[0m\n\u001b[0m                           ^\u001b[0m\n\u001b[0;31mSyntaxError\u001b[0m\u001b[0;31m:\u001b[0m invalid syntax\n"
     ]
    }
   ],
   "source": [
    "import math\n",
    "\n",
    "while True:\n",
    "    try:\n",
    "        text = raw_input('> ')\n",
    "        if text[0] == 'q':\n",
    "            break\n",
    "        x = float(text)\n",
    "        y = math.log10(x)\n",
    "        print \"log10({0}) = {1}\".format(x, y)\n",
    "    except (Exception,e ):\n",
    "        print (e)"
   ]
  },
  {
   "cell_type": "code",
   "execution_count": 38,
   "metadata": {},
   "outputs": [
    {
     "ename": "NameError",
     "evalue": "name 'e' is not defined",
     "output_type": "error",
     "traceback": [
      "\u001b[0;31m---------------------------------------------------------------------------\u001b[0m",
      "\u001b[0;31mNameError\u001b[0m                                 Traceback (most recent call last)",
      "\u001b[0;32m<ipython-input-38-9f1972abdcf4>\u001b[0m in \u001b[0;36m<module>\u001b[0;34m()\u001b[0m\n\u001b[1;32m      4\u001b[0m     \u001b[1;32mtry\u001b[0m\u001b[1;33m:\u001b[0m\u001b[1;33m\u001b[0m\u001b[0m\n\u001b[0;32m----> 5\u001b[0;31m         \u001b[0mtext\u001b[0m \u001b[1;33m=\u001b[0m \u001b[0mraw_input\u001b[0m\u001b[1;33m(\u001b[0m\u001b[1;34m'> '\u001b[0m\u001b[1;33m)\u001b[0m\u001b[1;33m\u001b[0m\u001b[0m\n\u001b[0m\u001b[1;32m      6\u001b[0m         \u001b[1;32mif\u001b[0m \u001b[0mtext\u001b[0m\u001b[1;33m[\u001b[0m\u001b[1;36m0\u001b[0m\u001b[1;33m]\u001b[0m \u001b[1;33m==\u001b[0m \u001b[1;34m'q'\u001b[0m\u001b[1;33m:\u001b[0m\u001b[1;33m\u001b[0m\u001b[0m\n",
      "\u001b[0;31mNameError\u001b[0m: name 'raw_input' is not defined",
      "\nDuring handling of the above exception, another exception occurred:\n",
      "\u001b[0;31mNameError\u001b[0m                                 Traceback (most recent call last)",
      "\u001b[0;32m<ipython-input-38-9f1972abdcf4>\u001b[0m in \u001b[0;36m<module>\u001b[0;34m()\u001b[0m\n\u001b[1;32m      9\u001b[0m         \u001b[0my\u001b[0m \u001b[1;33m=\u001b[0m \u001b[0mmath\u001b[0m\u001b[1;33m.\u001b[0m\u001b[0mlog10\u001b[0m\u001b[1;33m(\u001b[0m\u001b[0mx\u001b[0m\u001b[1;33m)\u001b[0m\u001b[1;33m\u001b[0m\u001b[0m\n\u001b[1;32m     10\u001b[0m         \u001b[0mprint\u001b[0m \u001b[1;33m(\u001b[0m\u001b[1;34m\"log10({0}) = {1}\"\u001b[0m\u001b[1;33m)\u001b[0m\u001b[1;33m.\u001b[0m\u001b[0mformat\u001b[0m\u001b[1;33m(\u001b[0m\u001b[0mx\u001b[0m\u001b[1;33m,\u001b[0m \u001b[0my\u001b[0m\u001b[1;33m)\u001b[0m\u001b[1;33m\u001b[0m\u001b[0m\n\u001b[0;32m---> 11\u001b[0;31m     \u001b[1;32mexcept\u001b[0m \u001b[1;33m(\u001b[0m\u001b[0mException\u001b[0m\u001b[1;33m,\u001b[0m\u001b[0me\u001b[0m\u001b[1;33m)\u001b[0m \u001b[1;33m:\u001b[0m\u001b[1;33m\u001b[0m\u001b[0m\n\u001b[0m\u001b[1;32m     12\u001b[0m         \u001b[0mprint\u001b[0m \u001b[1;33m(\u001b[0m\u001b[0me\u001b[0m\u001b[1;33m)\u001b[0m\u001b[1;33m\u001b[0m\u001b[0m\n",
      "\u001b[0;31mNameError\u001b[0m: name 'e' is not defined"
     ]
    }
   ],
   "source": [
    "import math\n",
    "\n",
    "while True:\n",
    "    try:\n",
    "        text = raw_input('> ')\n",
    "        if text[0] == 'q':\n",
    "            break\n",
    "        x = float(text)\n",
    "        y = math.log10(x)\n",
    "        print (\"log10({0}) = {1}\").format(x, y)\n",
    "    except (Exception,e) :\n",
    "        print (e)"
   ]
  },
  {
   "cell_type": "code",
   "execution_count": 39,
   "metadata": {},
   "outputs": [
    {
     "ename": "SyntaxError",
     "evalue": "Missing parentheses in call to 'print' (<ipython-input-39-6b61880e677e>, line 5)",
     "output_type": "error",
     "traceback": [
      "\u001b[0;36m  File \u001b[0;32m\"<ipython-input-39-6b61880e677e>\"\u001b[0;36m, line \u001b[0;32m5\u001b[0m\n\u001b[0;31m    print \"wrong\"\u001b[0m\n\u001b[0m                ^\u001b[0m\n\u001b[0;31mSyntaxError\u001b[0m\u001b[0;31m:\u001b[0m Missing parentheses in call to 'print'\n"
     ]
    }
   ],
   "source": [
    "def  shufa(a,b):\n",
    "    try:\n",
    "        print (a/b)\n",
    "    except Exception:\n",
    "        print \"wrong\""
   ]
  },
  {
   "cell_type": "code",
   "execution_count": 40,
   "metadata": {},
   "outputs": [],
   "source": [
    "def  divide(a,b):\n",
    "    try:\n",
    "        print (a/b)\n",
    "    except Exception:\n",
    "        print (\"wrong\")"
   ]
  },
  {
   "cell_type": "code",
   "execution_count": 41,
   "metadata": {},
   "outputs": [
    {
     "name": "stdout",
     "output_type": "stream",
     "text": [
      "wrong\n"
     ]
    }
   ],
   "source": [
    "divide(2,0)"
   ]
  },
  {
   "cell_type": "code",
   "execution_count": 42,
   "metadata": {},
   "outputs": [],
   "source": [
    "def  divide(a,b):\n",
    "    try:\n",
    "        print (a/b)\n",
    "    except Exception as exc:\n",
    "        print (exc.message)"
   ]
  },
  {
   "cell_type": "code",
   "execution_count": 43,
   "metadata": {},
   "outputs": [
    {
     "ename": "AttributeError",
     "evalue": "'TypeError' object has no attribute 'message'",
     "output_type": "error",
     "traceback": [
      "\u001b[0;31m---------------------------------------------------------------------------\u001b[0m",
      "\u001b[0;31mTypeError\u001b[0m                                 Traceback (most recent call last)",
      "\u001b[0;32m<ipython-input-42-04fa6fbfbbc5>\u001b[0m in \u001b[0;36mdivide\u001b[0;34m(a, b)\u001b[0m\n\u001b[1;32m      2\u001b[0m     \u001b[1;32mtry\u001b[0m\u001b[1;33m:\u001b[0m\u001b[1;33m\u001b[0m\u001b[0m\n\u001b[0;32m----> 3\u001b[0;31m         \u001b[0mprint\u001b[0m \u001b[1;33m(\u001b[0m\u001b[0ma\u001b[0m\u001b[1;33m/\u001b[0m\u001b[0mb\u001b[0m\u001b[1;33m)\u001b[0m\u001b[1;33m\u001b[0m\u001b[0m\n\u001b[0m\u001b[1;32m      4\u001b[0m     \u001b[1;32mexcept\u001b[0m \u001b[0mException\u001b[0m \u001b[1;32mas\u001b[0m \u001b[0mexc\u001b[0m\u001b[1;33m:\u001b[0m\u001b[1;33m\u001b[0m\u001b[0m\n",
      "\u001b[0;31mTypeError\u001b[0m: unsupported operand type(s) for /: 'list' and 'list'",
      "\nDuring handling of the above exception, another exception occurred:\n",
      "\u001b[0;31mAttributeError\u001b[0m                            Traceback (most recent call last)",
      "\u001b[0;32m<ipython-input-43-686c07f55976>\u001b[0m in \u001b[0;36m<module>\u001b[0;34m()\u001b[0m\n\u001b[0;32m----> 1\u001b[0;31m \u001b[0mdivide\u001b[0m\u001b[1;33m(\u001b[0m\u001b[0ma\u001b[0m\u001b[1;33m,\u001b[0m\u001b[0mb\u001b[0m\u001b[1;33m)\u001b[0m\u001b[1;33m\u001b[0m\u001b[0m\n\u001b[0m",
      "\u001b[0;32m<ipython-input-42-04fa6fbfbbc5>\u001b[0m in \u001b[0;36mdivide\u001b[0;34m(a, b)\u001b[0m\n\u001b[1;32m      3\u001b[0m         \u001b[0mprint\u001b[0m \u001b[1;33m(\u001b[0m\u001b[0ma\u001b[0m\u001b[1;33m/\u001b[0m\u001b[0mb\u001b[0m\u001b[1;33m)\u001b[0m\u001b[1;33m\u001b[0m\u001b[0m\n\u001b[1;32m      4\u001b[0m     \u001b[1;32mexcept\u001b[0m \u001b[0mException\u001b[0m \u001b[1;32mas\u001b[0m \u001b[0mexc\u001b[0m\u001b[1;33m:\u001b[0m\u001b[1;33m\u001b[0m\u001b[0m\n\u001b[0;32m----> 5\u001b[0;31m         \u001b[0mprint\u001b[0m \u001b[1;33m(\u001b[0m\u001b[0mexc\u001b[0m\u001b[1;33m.\u001b[0m\u001b[0mmessage\u001b[0m\u001b[1;33m)\u001b[0m\u001b[1;33m\u001b[0m\u001b[0m\n\u001b[0m",
      "\u001b[0;31mAttributeError\u001b[0m: 'TypeError' object has no attribute 'message'"
     ]
    }
   ],
   "source": [
    "ddivide(a,b)"
   ]
  },
  {
   "cell_type": "code",
   "execution_count": 44,
   "metadata": {},
   "outputs": [
    {
     "ename": "AttributeError",
     "evalue": "'ZeroDivisionError' object has no attribute 'message'",
     "output_type": "error",
     "traceback": [
      "\u001b[0;31m---------------------------------------------------------------------------\u001b[0m",
      "\u001b[0;31mZeroDivisionError\u001b[0m                         Traceback (most recent call last)",
      "\u001b[0;32m<ipython-input-42-04fa6fbfbbc5>\u001b[0m in \u001b[0;36mdivide\u001b[0;34m(a, b)\u001b[0m\n\u001b[1;32m      2\u001b[0m     \u001b[1;32mtry\u001b[0m\u001b[1;33m:\u001b[0m\u001b[1;33m\u001b[0m\u001b[0m\n\u001b[0;32m----> 3\u001b[0;31m         \u001b[0mprint\u001b[0m \u001b[1;33m(\u001b[0m\u001b[0ma\u001b[0m\u001b[1;33m/\u001b[0m\u001b[0mb\u001b[0m\u001b[1;33m)\u001b[0m\u001b[1;33m\u001b[0m\u001b[0m\n\u001b[0m\u001b[1;32m      4\u001b[0m     \u001b[1;32mexcept\u001b[0m \u001b[0mException\u001b[0m \u001b[1;32mas\u001b[0m \u001b[0mexc\u001b[0m\u001b[1;33m:\u001b[0m\u001b[1;33m\u001b[0m\u001b[0m\n",
      "\u001b[0;31mZeroDivisionError\u001b[0m: division by zero",
      "\nDuring handling of the above exception, another exception occurred:\n",
      "\u001b[0;31mAttributeError\u001b[0m                            Traceback (most recent call last)",
      "\u001b[0;32m<ipython-input-44-8625e4952dd5>\u001b[0m in \u001b[0;36m<module>\u001b[0;34m()\u001b[0m\n\u001b[0;32m----> 1\u001b[0;31m \u001b[0mdivide\u001b[0m\u001b[1;33m(\u001b[0m\u001b[1;36m2\u001b[0m\u001b[1;33m,\u001b[0m\u001b[1;36m0\u001b[0m\u001b[1;33m)\u001b[0m\u001b[1;33m\u001b[0m\u001b[0m\n\u001b[0m",
      "\u001b[0;32m<ipython-input-42-04fa6fbfbbc5>\u001b[0m in \u001b[0;36mdivide\u001b[0;34m(a, b)\u001b[0m\n\u001b[1;32m      3\u001b[0m         \u001b[0mprint\u001b[0m \u001b[1;33m(\u001b[0m\u001b[0ma\u001b[0m\u001b[1;33m/\u001b[0m\u001b[0mb\u001b[0m\u001b[1;33m)\u001b[0m\u001b[1;33m\u001b[0m\u001b[0m\n\u001b[1;32m      4\u001b[0m     \u001b[1;32mexcept\u001b[0m \u001b[0mException\u001b[0m \u001b[1;32mas\u001b[0m \u001b[0mexc\u001b[0m\u001b[1;33m:\u001b[0m\u001b[1;33m\u001b[0m\u001b[0m\n\u001b[0;32m----> 5\u001b[0;31m         \u001b[0mprint\u001b[0m \u001b[1;33m(\u001b[0m\u001b[0mexc\u001b[0m\u001b[1;33m.\u001b[0m\u001b[0mmessage\u001b[0m\u001b[1;33m)\u001b[0m\u001b[1;33m\u001b[0m\u001b[0m\n\u001b[0m",
      "\u001b[0;31mAttributeError\u001b[0m: 'ZeroDivisionError' object has no attribute 'message'"
     ]
    }
   ],
   "source": [
    "divide(2,0)"
   ]
  },
  {
   "cell_type": "code",
   "execution_count": 45,
   "metadata": {},
   "outputs": [],
   "source": [
    "class Person():\n",
    "    def __init__(self,name,age,gender):\n",
    "        self.name = name\n",
    "        self.age = age\n",
    "        self.gender = gender\n",
    "    \n",
    "    def getName(self):\n",
    "        return self.name"
   ]
  },
  {
   "cell_type": "code",
   "execution_count": 46,
   "metadata": {},
   "outputs": [],
   "source": [
    "p1 = Person('xiaohong',23, 'female')"
   ]
  },
  {
   "cell_type": "code",
   "execution_count": 47,
   "metadata": {},
   "outputs": [
    {
     "data": {
      "text/plain": [
       "<__main__.Person at 0x52b8ef0>"
      ]
     },
     "execution_count": 47,
     "metadata": {},
     "output_type": "execute_result"
    }
   ],
   "source": [
    "p1"
   ]
  },
  {
   "cell_type": "code",
   "execution_count": 48,
   "metadata": {},
   "outputs": [],
   "source": [
    "from pprint import pprint"
   ]
  },
  {
   "cell_type": "code",
   "execution_count": 49,
   "metadata": {},
   "outputs": [
    {
     "name": "stdout",
     "output_type": "stream",
     "text": [
      "<__main__.Person object at 0x00000000052B8EF0>\n"
     ]
    }
   ],
   "source": [
    "pprint(p1)"
   ]
  },
  {
   "cell_type": "code",
   "execution_count": 50,
   "metadata": {},
   "outputs": [
    {
     "data": {
      "text/plain": [
       "'xiaohong'"
      ]
     },
     "execution_count": 50,
     "metadata": {},
     "output_type": "execute_result"
    }
   ],
   "source": [
    "p1.name"
   ]
  },
  {
   "cell_type": "code",
   "execution_count": 51,
   "metadata": {},
   "outputs": [
    {
     "data": {
      "text/plain": [
       "['__class__',\n",
       " '__delattr__',\n",
       " '__dict__',\n",
       " '__dir__',\n",
       " '__doc__',\n",
       " '__eq__',\n",
       " '__format__',\n",
       " '__ge__',\n",
       " '__getattribute__',\n",
       " '__gt__',\n",
       " '__hash__',\n",
       " '__init__',\n",
       " '__init_subclass__',\n",
       " '__le__',\n",
       " '__lt__',\n",
       " '__module__',\n",
       " '__ne__',\n",
       " '__new__',\n",
       " '__reduce__',\n",
       " '__reduce_ex__',\n",
       " '__repr__',\n",
       " '__setattr__',\n",
       " '__sizeof__',\n",
       " '__str__',\n",
       " '__subclasshook__',\n",
       " '__weakref__',\n",
       " 'age',\n",
       " 'gender',\n",
       " 'getName',\n",
       " 'name']"
      ]
     },
     "execution_count": 51,
     "metadata": {},
     "output_type": "execute_result"
    }
   ],
   "source": [
    "dir(p1)"
   ]
  },
  {
   "cell_type": "code",
   "execution_count": 52,
   "metadata": {},
   "outputs": [
    {
     "data": {
      "text/plain": [
       "'xiaohong'"
      ]
     },
     "execution_count": 52,
     "metadata": {},
     "output_type": "execute_result"
    }
   ],
   "source": [
    "p1.getName()"
   ]
  },
  {
   "cell_type": "code",
   "execution_count": 53,
   "metadata": {},
   "outputs": [],
   "source": [
    "class student(Person):\n",
    "    def __init__(self,grade):\n",
    "        self.grade=grade"
   ]
  },
  {
   "cell_type": "code",
   "execution_count": 54,
   "metadata": {},
   "outputs": [],
   "source": [
    "s1 = student(2015)"
   ]
  },
  {
   "cell_type": "code",
   "execution_count": 55,
   "metadata": {},
   "outputs": [
    {
     "data": {
      "text/plain": [
       "['__class__',\n",
       " '__delattr__',\n",
       " '__dict__',\n",
       " '__dir__',\n",
       " '__doc__',\n",
       " '__eq__',\n",
       " '__format__',\n",
       " '__ge__',\n",
       " '__getattribute__',\n",
       " '__gt__',\n",
       " '__hash__',\n",
       " '__init__',\n",
       " '__init_subclass__',\n",
       " '__le__',\n",
       " '__lt__',\n",
       " '__module__',\n",
       " '__ne__',\n",
       " '__new__',\n",
       " '__reduce__',\n",
       " '__reduce_ex__',\n",
       " '__repr__',\n",
       " '__setattr__',\n",
       " '__sizeof__',\n",
       " '__str__',\n",
       " '__subclasshook__',\n",
       " '__weakref__',\n",
       " 'getName',\n",
       " 'grade']"
      ]
     },
     "execution_count": 55,
     "metadata": {},
     "output_type": "execute_result"
    }
   ],
   "source": [
    "dir(s1)"
   ]
  },
  {
   "cell_type": "code",
   "execution_count": 56,
   "metadata": {},
   "outputs": [],
   "source": [
    "from nltk.corpus import PlaintextCorpusReader as PCR"
   ]
  },
  {
   "cell_type": "code",
   "execution_count": 57,
   "metadata": {},
   "outputs": [
    {
     "ename": "ModuleNotFoundError",
     "evalue": "No module named 'ntlk'",
     "output_type": "error",
     "traceback": [
      "\u001b[0;31m---------------------------------------------------------------------------\u001b[0m",
      "\u001b[0;31mModuleNotFoundError\u001b[0m                       Traceback (most recent call last)",
      "\u001b[0;32m<ipython-input-57-1ad3030684a9>\u001b[0m in \u001b[0;36m<module>\u001b[0;34m()\u001b[0m\n\u001b[0;32m----> 1\u001b[0;31m \u001b[1;32mfrom\u001b[0m \u001b[0mntlk\u001b[0m \u001b[1;32mimport\u001b[0m \u001b[0mword_tokenize\u001b[0m\u001b[1;33m,\u001b[0m \u001b[0mText\u001b[0m\u001b[1;33m,\u001b[0m \u001b[0mFreqDist\u001b[0m\u001b[1;33m\u001b[0m\u001b[0m\n\u001b[0m",
      "\u001b[0;31mModuleNotFoundError\u001b[0m: No module named 'ntlk'"
     ]
    }
   ],
   "source": [
    "from ntlk import word_tokenize, Text, FreqDist"
   ]
  },
  {
   "cell_type": "code",
   "execution_count": 58,
   "metadata": {},
   "outputs": [],
   "source": [
    "from nltk import word_tokenize, Text, FreqDist"
   ]
  },
  {
   "cell_type": "code",
   "execution_count": 59,
   "metadata": {},
   "outputs": [
    {
     "ename": "SyntaxError",
     "evalue": "(unicode error) 'unicodeescape' codec can't decode bytes in position 2-3: truncated \\UXXXXXXXX escape (<ipython-input-59-7fd6d6cc860f>, line 1)",
     "output_type": "error",
     "traceback": [
      "\u001b[0;36m  File \u001b[0;32m\"<ipython-input-59-7fd6d6cc860f>\"\u001b[0;36m, line \u001b[0;32m1\u001b[0m\n\u001b[0;31m    files = PCR(\"C:\\Users\\Administrator\\corpara\",'.*\\.txt')\u001b[0m\n\u001b[0m               ^\u001b[0m\n\u001b[0;31mSyntaxError\u001b[0m\u001b[0;31m:\u001b[0m (unicode error) 'unicodeescape' codec can't decode bytes in position 2-3: truncated \\UXXXXXXXX escape\n"
     ]
    }
   ],
   "source": [
    "files = PCR(\"C:\\Users\\Administrator\\corpara\",'.*\\.txt')"
   ]
  },
  {
   "cell_type": "code",
   "execution_count": 60,
   "metadata": {},
   "outputs": [],
   "source": [
    "files = PCR(\"C:/Users/Administrator/corpara\",'.*\\.txt')"
   ]
  },
  {
   "cell_type": "code",
   "execution_count": 61,
   "metadata": {},
   "outputs": [
    {
     "data": {
      "text/plain": [
       "['1.txt', '2.txt', '3.txt', '4.txt', '5.txt']"
      ]
     },
     "execution_count": 61,
     "metadata": {},
     "output_type": "execute_result"
    }
   ],
   "source": [
    "files.fileids()"
   ]
  },
  {
   "cell_type": "code",
   "execution_count": 62,
   "metadata": {},
   "outputs": [
    {
     "name": "stdout",
     "output_type": "stream",
     "text": [
      "Help on function word_tokenize in module nltk.tokenize:\n",
      "\n",
      "word_tokenize(text, language='english')\n",
      "    Return a tokenized copy of *text*,\n",
      "    using NLTK's recommended word tokenizer\n",
      "    (currently :class:`.TreebankWordTokenizer`\n",
      "    along with :class:`.PunktSentenceTokenizer`\n",
      "    for the specified language).\n",
      "    \n",
      "    :param text: text to split into sentences\n",
      "    :param language: the model name in the Punkt corpus\n",
      "\n"
     ]
    }
   ],
   "source": [
    "help(word_tokenize)"
   ]
  },
  {
   "cell_type": "code",
   "execution_count": 63,
   "metadata": {},
   "outputs": [],
   "source": [
    "raw_text = files.raw(fileids=files.fileids())"
   ]
  },
  {
   "cell_type": "code",
   "execution_count": 64,
   "metadata": {},
   "outputs": [
    {
     "data": {
      "text/plain": [
       "str"
      ]
     },
     "execution_count": 64,
     "metadata": {},
     "output_type": "execute_result"
    }
   ],
   "source": [
    "type(raw_text)"
   ]
  },
  {
   "cell_type": "code",
   "execution_count": 65,
   "metadata": {
    "scrolled": true
   },
   "outputs": [
    {
     "ename": "LookupError",
     "evalue": "\n**********************************************************************\n  Resource 'tokenizers/punkt/english.pickle' not found.  Please\n  use the NLTK Downloader to obtain the resource:  >>>\n  nltk.download()\n  Searched in:\n    - 'C:\\\\Users\\\\Administrator/nltk_data'\n    - 'C:\\\\nltk_data'\n    - 'D:\\\\nltk_data'\n    - 'E:\\\\nltk_data'\n    - 'c:\\\\programdata\\\\anaconda3\\\\nltk_data'\n    - 'c:\\\\programdata\\\\anaconda3\\\\lib\\\\nltk_data'\n    - 'C:\\\\Users\\\\Administrator\\\\AppData\\\\Roaming\\\\nltk_data'\n    - ''\n**********************************************************************",
     "output_type": "error",
     "traceback": [
      "\u001b[0;31m---------------------------------------------------------------------------\u001b[0m",
      "\u001b[0;31mLookupError\u001b[0m                               Traceback (most recent call last)",
      "\u001b[0;32m<ipython-input-65-af8aa3cdf86a>\u001b[0m in \u001b[0;36m<module>\u001b[0;34m()\u001b[0m\n\u001b[0;32m----> 1\u001b[0;31m \u001b[0mwords\u001b[0m \u001b[1;33m=\u001b[0m \u001b[0mword_tokenize\u001b[0m\u001b[1;33m(\u001b[0m\u001b[0mraw_text\u001b[0m\u001b[1;33m)\u001b[0m\u001b[1;33m\u001b[0m\u001b[0m\n\u001b[0m",
      "\u001b[0;32mc:\\programdata\\anaconda3\\lib\\site-packages\\nltk\\tokenize\\__init__.py\u001b[0m in \u001b[0;36mword_tokenize\u001b[0;34m(text, language)\u001b[0m\n\u001b[1;32m    107\u001b[0m     \u001b[1;33m:\u001b[0m\u001b[0mparam\u001b[0m \u001b[0mlanguage\u001b[0m\u001b[1;33m:\u001b[0m \u001b[0mthe\u001b[0m \u001b[0mmodel\u001b[0m \u001b[0mname\u001b[0m \u001b[1;32min\u001b[0m \u001b[0mthe\u001b[0m \u001b[0mPunkt\u001b[0m \u001b[0mcorpus\u001b[0m\u001b[1;33m\u001b[0m\u001b[0m\n\u001b[1;32m    108\u001b[0m     \"\"\"\n\u001b[0;32m--> 109\u001b[0;31m     return [token for sent in sent_tokenize(text, language)\n\u001b[0m\u001b[1;32m    110\u001b[0m             for token in _treebank_word_tokenize(sent)]\n\u001b[1;32m    111\u001b[0m \u001b[1;33m\u001b[0m\u001b[0m\n",
      "\u001b[0;32mc:\\programdata\\anaconda3\\lib\\site-packages\\nltk\\tokenize\\__init__.py\u001b[0m in \u001b[0;36msent_tokenize\u001b[0;34m(text, language)\u001b[0m\n\u001b[1;32m     91\u001b[0m     \u001b[1;33m:\u001b[0m\u001b[0mparam\u001b[0m \u001b[0mlanguage\u001b[0m\u001b[1;33m:\u001b[0m \u001b[0mthe\u001b[0m \u001b[0mmodel\u001b[0m \u001b[0mname\u001b[0m \u001b[1;32min\u001b[0m \u001b[0mthe\u001b[0m \u001b[0mPunkt\u001b[0m \u001b[0mcorpus\u001b[0m\u001b[1;33m\u001b[0m\u001b[0m\n\u001b[1;32m     92\u001b[0m     \"\"\"\n\u001b[0;32m---> 93\u001b[0;31m     \u001b[0mtokenizer\u001b[0m \u001b[1;33m=\u001b[0m \u001b[0mload\u001b[0m\u001b[1;33m(\u001b[0m\u001b[1;34m'tokenizers/punkt/{0}.pickle'\u001b[0m\u001b[1;33m.\u001b[0m\u001b[0mformat\u001b[0m\u001b[1;33m(\u001b[0m\u001b[0mlanguage\u001b[0m\u001b[1;33m)\u001b[0m\u001b[1;33m)\u001b[0m\u001b[1;33m\u001b[0m\u001b[0m\n\u001b[0m\u001b[1;32m     94\u001b[0m     \u001b[1;32mreturn\u001b[0m \u001b[0mtokenizer\u001b[0m\u001b[1;33m.\u001b[0m\u001b[0mtokenize\u001b[0m\u001b[1;33m(\u001b[0m\u001b[0mtext\u001b[0m\u001b[1;33m)\u001b[0m\u001b[1;33m\u001b[0m\u001b[0m\n\u001b[1;32m     95\u001b[0m \u001b[1;33m\u001b[0m\u001b[0m\n",
      "\u001b[0;32mc:\\programdata\\anaconda3\\lib\\site-packages\\nltk\\data.py\u001b[0m in \u001b[0;36mload\u001b[0;34m(resource_url, format, cache, verbose, logic_parser, fstruct_reader, encoding)\u001b[0m\n\u001b[1;32m    806\u001b[0m \u001b[1;33m\u001b[0m\u001b[0m\n\u001b[1;32m    807\u001b[0m     \u001b[1;31m# Load the resource.\u001b[0m\u001b[1;33m\u001b[0m\u001b[1;33m\u001b[0m\u001b[0m\n\u001b[0;32m--> 808\u001b[0;31m     \u001b[0mopened_resource\u001b[0m \u001b[1;33m=\u001b[0m \u001b[0m_open\u001b[0m\u001b[1;33m(\u001b[0m\u001b[0mresource_url\u001b[0m\u001b[1;33m)\u001b[0m\u001b[1;33m\u001b[0m\u001b[0m\n\u001b[0m\u001b[1;32m    809\u001b[0m \u001b[1;33m\u001b[0m\u001b[0m\n\u001b[1;32m    810\u001b[0m     \u001b[1;32mif\u001b[0m \u001b[0mformat\u001b[0m \u001b[1;33m==\u001b[0m \u001b[1;34m'raw'\u001b[0m\u001b[1;33m:\u001b[0m\u001b[1;33m\u001b[0m\u001b[0m\n",
      "\u001b[0;32mc:\\programdata\\anaconda3\\lib\\site-packages\\nltk\\data.py\u001b[0m in \u001b[0;36m_open\u001b[0;34m(resource_url)\u001b[0m\n\u001b[1;32m    924\u001b[0m \u001b[1;33m\u001b[0m\u001b[0m\n\u001b[1;32m    925\u001b[0m     \u001b[1;32mif\u001b[0m \u001b[0mprotocol\u001b[0m \u001b[1;32mis\u001b[0m \u001b[1;32mNone\u001b[0m \u001b[1;32mor\u001b[0m \u001b[0mprotocol\u001b[0m\u001b[1;33m.\u001b[0m\u001b[0mlower\u001b[0m\u001b[1;33m(\u001b[0m\u001b[1;33m)\u001b[0m \u001b[1;33m==\u001b[0m \u001b[1;34m'nltk'\u001b[0m\u001b[1;33m:\u001b[0m\u001b[1;33m\u001b[0m\u001b[0m\n\u001b[0;32m--> 926\u001b[0;31m         \u001b[1;32mreturn\u001b[0m \u001b[0mfind\u001b[0m\u001b[1;33m(\u001b[0m\u001b[0mpath_\u001b[0m\u001b[1;33m,\u001b[0m \u001b[0mpath\u001b[0m \u001b[1;33m+\u001b[0m \u001b[1;33m[\u001b[0m\u001b[1;34m''\u001b[0m\u001b[1;33m]\u001b[0m\u001b[1;33m)\u001b[0m\u001b[1;33m.\u001b[0m\u001b[0mopen\u001b[0m\u001b[1;33m(\u001b[0m\u001b[1;33m)\u001b[0m\u001b[1;33m\u001b[0m\u001b[0m\n\u001b[0m\u001b[1;32m    927\u001b[0m     \u001b[1;32melif\u001b[0m \u001b[0mprotocol\u001b[0m\u001b[1;33m.\u001b[0m\u001b[0mlower\u001b[0m\u001b[1;33m(\u001b[0m\u001b[1;33m)\u001b[0m \u001b[1;33m==\u001b[0m \u001b[1;34m'file'\u001b[0m\u001b[1;33m:\u001b[0m\u001b[1;33m\u001b[0m\u001b[0m\n\u001b[1;32m    928\u001b[0m         \u001b[1;31m# urllib might not use mode='rb', so handle this one ourselves:\u001b[0m\u001b[1;33m\u001b[0m\u001b[1;33m\u001b[0m\u001b[0m\n",
      "\u001b[0;32mc:\\programdata\\anaconda3\\lib\\site-packages\\nltk\\data.py\u001b[0m in \u001b[0;36mfind\u001b[0;34m(resource_name, paths)\u001b[0m\n\u001b[1;32m    646\u001b[0m     \u001b[0msep\u001b[0m \u001b[1;33m=\u001b[0m \u001b[1;34m'*'\u001b[0m \u001b[1;33m*\u001b[0m \u001b[1;36m70\u001b[0m\u001b[1;33m\u001b[0m\u001b[0m\n\u001b[1;32m    647\u001b[0m     \u001b[0mresource_not_found\u001b[0m \u001b[1;33m=\u001b[0m \u001b[1;34m'\\n%s\\n%s\\n%s'\u001b[0m \u001b[1;33m%\u001b[0m \u001b[1;33m(\u001b[0m\u001b[0msep\u001b[0m\u001b[1;33m,\u001b[0m \u001b[0mmsg\u001b[0m\u001b[1;33m,\u001b[0m \u001b[0msep\u001b[0m\u001b[1;33m)\u001b[0m\u001b[1;33m\u001b[0m\u001b[0m\n\u001b[0;32m--> 648\u001b[0;31m     \u001b[1;32mraise\u001b[0m \u001b[0mLookupError\u001b[0m\u001b[1;33m(\u001b[0m\u001b[0mresource_not_found\u001b[0m\u001b[1;33m)\u001b[0m\u001b[1;33m\u001b[0m\u001b[0m\n\u001b[0m\u001b[1;32m    649\u001b[0m \u001b[1;33m\u001b[0m\u001b[0m\n\u001b[1;32m    650\u001b[0m \u001b[1;33m\u001b[0m\u001b[0m\n",
      "\u001b[0;31mLookupError\u001b[0m: \n**********************************************************************\n  Resource 'tokenizers/punkt/english.pickle' not found.  Please\n  use the NLTK Downloader to obtain the resource:  >>>\n  nltk.download()\n  Searched in:\n    - 'C:\\\\Users\\\\Administrator/nltk_data'\n    - 'C:\\\\nltk_data'\n    - 'D:\\\\nltk_data'\n    - 'E:\\\\nltk_data'\n    - 'c:\\\\programdata\\\\anaconda3\\\\nltk_data'\n    - 'c:\\\\programdata\\\\anaconda3\\\\lib\\\\nltk_data'\n    - 'C:\\\\Users\\\\Administrator\\\\AppData\\\\Roaming\\\\nltk_data'\n    - ''\n**********************************************************************"
     ]
    }
   ],
   "source": [
    "words = word_tokenize(raw_text)"
   ]
  },
  {
   "cell_type": "code",
   "execution_count": 66,
   "metadata": {},
   "outputs": [],
   "source": [
    "words = word_tokenize(raw_text)"
   ]
  },
  {
   "cell_type": "code",
   "execution_count": 67,
   "metadata": {},
   "outputs": [
    {
     "data": {
      "text/plain": [
       "list"
      ]
     },
     "execution_count": 67,
     "metadata": {},
     "output_type": "execute_result"
    }
   ],
   "source": [
    "type(words)"
   ]
  },
  {
   "cell_type": "code",
   "execution_count": 68,
   "metadata": {},
   "outputs": [
    {
     "data": {
      "text/plain": [
       "['The',\n",
       " 'next',\n",
       " 'financial',\n",
       " 'crisis',\n",
       " 'may',\n",
       " 'be',\n",
       " 'triggered',\n",
       " 'by',\n",
       " 'central',\n",
       " 'banks',\n",
       " '.',\n",
       " 'As',\n",
       " 'with',\n",
       " 'London',\n",
       " 'buses',\n",
       " ',',\n",
       " 'don’t',\n",
       " 'worry',\n",
       " 'if',\n",
       " 'you',\n",
       " 'miss',\n",
       " 'a',\n",
       " 'financial',\n",
       " 'crisis',\n",
       " ';',\n",
       " 'another',\n",
       " 'will',\n",
       " 'be',\n",
       " 'along',\n",
       " 'shortly',\n",
       " '.',\n",
       " 'The',\n",
       " 'latest',\n",
       " 'study',\n",
       " 'on',\n",
       " 'long-term',\n",
       " 'asset',\n",
       " 'returns',\n",
       " 'from',\n",
       " 'Deutsche',\n",
       " 'Bank',\n",
       " 'shows',\n",
       " 'that',\n",
       " 'crises',\n",
       " 'in',\n",
       " 'developed',\n",
       " 'markets',\n",
       " 'have',\n",
       " 'become',\n",
       " 'much',\n",
       " 'more',\n",
       " 'common',\n",
       " 'in',\n",
       " 'recent',\n",
       " 'decades',\n",
       " '.',\n",
       " 'That',\n",
       " 'does',\n",
       " 'not',\n",
       " 'bode',\n",
       " 'well',\n",
       " '.',\n",
       " 'Deutsche',\n",
       " 'defines',\n",
       " 'a',\n",
       " 'crisis',\n",
       " 'as',\n",
       " 'a',\n",
       " 'period',\n",
       " 'when',\n",
       " 'a',\n",
       " 'country',\n",
       " 'suffers',\n",
       " 'one',\n",
       " 'of',\n",
       " 'the',\n",
       " 'following',\n",
       " ':',\n",
       " 'a',\n",
       " '15',\n",
       " '%',\n",
       " 'annual',\n",
       " 'decline',\n",
       " 'in',\n",
       " 'equities',\n",
       " ';',\n",
       " 'a',\n",
       " '10',\n",
       " '%',\n",
       " 'fall',\n",
       " 'in',\n",
       " 'its',\n",
       " 'currency',\n",
       " 'or',\n",
       " 'its',\n",
       " 'government',\n",
       " 'bonds',\n",
       " ';',\n",
       " 'a',\n",
       " 'default',\n",
       " 'on',\n",
       " 'its',\n",
       " 'national',\n",
       " 'debt',\n",
       " ';',\n",
       " 'or',\n",
       " 'a',\n",
       " 'period',\n",
       " 'of',\n",
       " 'double-digit',\n",
       " 'inflation',\n",
       " '.',\n",
       " 'During',\n",
       " 'the',\n",
       " '19th',\n",
       " 'century',\n",
       " ',',\n",
       " 'only',\n",
       " 'occasionally',\n",
       " 'did',\n",
       " 'more',\n",
       " 'than',\n",
       " 'half',\n",
       " 'of',\n",
       " 'countries',\n",
       " 'for',\n",
       " 'which',\n",
       " 'there',\n",
       " 'are',\n",
       " 'data',\n",
       " 'suffer',\n",
       " 'such',\n",
       " 'a',\n",
       " 'shock',\n",
       " 'in',\n",
       " 'a',\n",
       " 'single',\n",
       " 'year',\n",
       " '.',\n",
       " 'But',\n",
       " 'since',\n",
       " 'the',\n",
       " '1980s',\n",
       " ',',\n",
       " 'in',\n",
       " 'numerous',\n",
       " 'years',\n",
       " 'more',\n",
       " 'than',\n",
       " 'half',\n",
       " 'of',\n",
       " 'them',\n",
       " 'have',\n",
       " 'been',\n",
       " 'in',\n",
       " 'a',\n",
       " 'financial',\n",
       " 'crisis',\n",
       " 'of',\n",
       " 'some',\n",
       " 'kind',\n",
       " '.',\n",
       " 'The',\n",
       " 'main',\n",
       " 'reason',\n",
       " 'for',\n",
       " 'this',\n",
       " ',',\n",
       " 'argues',\n",
       " 'Deutsche',\n",
       " ',',\n",
       " 'is',\n",
       " 'the',\n",
       " 'monetary',\n",
       " 'system',\n",
       " '.',\n",
       " 'Under',\n",
       " 'the',\n",
       " 'gold',\n",
       " 'standard',\n",
       " 'and',\n",
       " 'its',\n",
       " 'successor',\n",
       " ',',\n",
       " 'the',\n",
       " 'Bretton',\n",
       " 'Woods',\n",
       " 'system',\n",
       " 'of',\n",
       " 'fixed',\n",
       " 'exchange',\n",
       " 'rates',\n",
       " ',',\n",
       " 'the',\n",
       " 'amount',\n",
       " 'of',\n",
       " 'credit',\n",
       " 'creation',\n",
       " 'was',\n",
       " 'limited',\n",
       " '.',\n",
       " 'A',\n",
       " 'country',\n",
       " 'that',\n",
       " 'expanded',\n",
       " 'its',\n",
       " 'money',\n",
       " 'supply',\n",
       " 'too',\n",
       " 'quickly',\n",
       " 'would',\n",
       " 'suffer',\n",
       " 'a',\n",
       " 'trade',\n",
       " 'deficit',\n",
       " 'and',\n",
       " 'pressure',\n",
       " 'on',\n",
       " 'its',\n",
       " 'currency’s',\n",
       " 'exchange',\n",
       " 'rate',\n",
       " ';',\n",
       " 'the',\n",
       " 'government',\n",
       " 'would',\n",
       " 'react',\n",
       " 'by',\n",
       " 'slamming',\n",
       " 'on',\n",
       " 'the',\n",
       " 'monetary',\n",
       " 'brakes',\n",
       " '.',\n",
       " 'The',\n",
       " 'result',\n",
       " 'was',\n",
       " 'that',\n",
       " 'it',\n",
       " 'was',\n",
       " 'harder',\n",
       " 'for',\n",
       " 'financial',\n",
       " 'bubbles',\n",
       " 'to',\n",
       " 'inflate',\n",
       " '.',\n",
       " 'But',\n",
       " 'since',\n",
       " 'the',\n",
       " 'early',\n",
       " '1970s',\n",
       " 'more',\n",
       " 'countries',\n",
       " 'have',\n",
       " 'moved',\n",
       " 'to',\n",
       " 'a',\n",
       " 'floating',\n",
       " 'exchange-rate',\n",
       " 'system',\n",
       " '.',\n",
       " 'This',\n",
       " 'gives',\n",
       " 'governments',\n",
       " 'the',\n",
       " 'flexibility',\n",
       " 'to',\n",
       " 'deal',\n",
       " 'with',\n",
       " 'an',\n",
       " 'economic',\n",
       " 'crisis',\n",
       " ',',\n",
       " 'and',\n",
       " 'means',\n",
       " 'they',\n",
       " 'do',\n",
       " 'not',\n",
       " 'have',\n",
       " 'to',\n",
       " 'subordinate',\n",
       " 'other',\n",
       " 'policy',\n",
       " 'goals',\n",
       " 'to',\n",
       " 'maintaining',\n",
       " 'a',\n",
       " 'currency',\n",
       " 'peg',\n",
       " '.',\n",
       " 'It',\n",
       " 'has',\n",
       " 'also',\n",
       " 'created',\n",
       " 'a',\n",
       " 'trend',\n",
       " 'towards',\n",
       " 'greater',\n",
       " 'trade',\n",
       " 'imbalances',\n",
       " ',',\n",
       " 'which',\n",
       " 'no',\n",
       " 'longer',\n",
       " 'constrain',\n",
       " 'policymakers—the',\n",
       " 'currency',\n",
       " 'is',\n",
       " 'often',\n",
       " 'allowed',\n",
       " 'to',\n",
       " 'take',\n",
       " 'the',\n",
       " 'strain',\n",
       " '.',\n",
       " 'Similarly',\n",
       " ',',\n",
       " 'government',\n",
       " 'debt',\n",
       " 'has',\n",
       " 'risen',\n",
       " 'steadily',\n",
       " 'as',\n",
       " 'a',\n",
       " 'proportion',\n",
       " 'of',\n",
       " 'GDP',\n",
       " 'since',\n",
       " 'the',\n",
       " 'mid-1970s',\n",
       " '.',\n",
       " 'There',\n",
       " 'has',\n",
       " 'been',\n",
       " 'little',\n",
       " 'pressure',\n",
       " 'from',\n",
       " 'the',\n",
       " 'markets',\n",
       " 'to',\n",
       " 'balance',\n",
       " 'the',\n",
       " 'budget',\n",
       " ';',\n",
       " 'Japan',\n",
       " 'has',\n",
       " 'had',\n",
       " 'a',\n",
       " 'deficit',\n",
       " 'every',\n",
       " 'year',\n",
       " 'since',\n",
       " '1966',\n",
       " ',',\n",
       " 'and',\n",
       " 'France',\n",
       " 'since',\n",
       " '1993',\n",
       " '.',\n",
       " 'Italy',\n",
       " 'has',\n",
       " 'managed',\n",
       " 'just',\n",
       " 'one',\n",
       " 'year',\n",
       " 'of',\n",
       " 'surplus',\n",
       " 'since',\n",
       " '1950',\n",
       " '.',\n",
       " 'In',\n",
       " 'the',\n",
       " 'developed',\n",
       " 'world',\n",
       " ',',\n",
       " 'consumers',\n",
       " 'and',\n",
       " 'companies',\n",
       " 'have',\n",
       " 'also',\n",
       " 'taken',\n",
       " 'on',\n",
       " 'more',\n",
       " 'debt',\n",
       " '.',\n",
       " 'The',\n",
       " 'result',\n",
       " 'has',\n",
       " 'been',\n",
       " 'a',\n",
       " 'cycle',\n",
       " 'of',\n",
       " 'credit',\n",
       " 'expansion',\n",
       " 'and',\n",
       " 'collapse.China',\n",
       " 'has',\n",
       " 'warned',\n",
       " 'that',\n",
       " 'it',\n",
       " 'does',\n",
       " 'not',\n",
       " 'want',\n",
       " 'a',\n",
       " 'trade',\n",
       " 'war',\n",
       " 'with',\n",
       " 'the',\n",
       " 'US',\n",
       " ',',\n",
       " 'but',\n",
       " 'will',\n",
       " 'not',\n",
       " 'sit',\n",
       " 'idly',\n",
       " 'by',\n",
       " 'if',\n",
       " 'its',\n",
       " 'economy',\n",
       " 'is',\n",
       " 'hurt',\n",
       " '.',\n",
       " 'Zhang',\n",
       " 'Yesui',\n",
       " ',',\n",
       " 'spokesperson',\n",
       " 'for',\n",
       " 'China’s',\n",
       " 'National',\n",
       " 'People’s',\n",
       " 'Congress',\n",
       " ',',\n",
       " 'made',\n",
       " 'the',\n",
       " 'comments',\n",
       " 'amid',\n",
       " 'controversy',\n",
       " 'over',\n",
       " 'Donald',\n",
       " 'Trump’s',\n",
       " 'announcement',\n",
       " 'of',\n",
       " 'tariffs',\n",
       " 'on',\n",
       " 'steel',\n",
       " 'and',\n",
       " 'aluminium',\n",
       " 'imports',\n",
       " '.',\n",
       " 'The',\n",
       " 'US',\n",
       " 'president',\n",
       " 'has',\n",
       " 'also',\n",
       " 'threatened',\n",
       " 'to',\n",
       " 'impose',\n",
       " 'a',\n",
       " 'tax',\n",
       " 'on',\n",
       " 'EU-made',\n",
       " 'cars',\n",
       " ',',\n",
       " 'and',\n",
       " 'earlier',\n",
       " 'said',\n",
       " '``',\n",
       " 'trade',\n",
       " 'wars',\n",
       " 'are',\n",
       " 'good',\n",
       " \"''\",\n",
       " '.',\n",
       " 'US',\n",
       " 'trading',\n",
       " 'partners',\n",
       " ',',\n",
       " 'the',\n",
       " 'IMF',\n",
       " 'and',\n",
       " 'the',\n",
       " 'WTO',\n",
       " 'have',\n",
       " 'strongly',\n",
       " 'criticised',\n",
       " 'his',\n",
       " 'moves',\n",
       " '.',\n",
       " 'Mr',\n",
       " 'Trump',\n",
       " 'has',\n",
       " 'decried',\n",
       " 'the',\n",
       " '``',\n",
       " '$',\n",
       " '800',\n",
       " 'Billion',\n",
       " 'Dollar',\n",
       " 'Yearly',\n",
       " 'Trade',\n",
       " 'Deficit',\n",
       " 'because',\n",
       " 'of',\n",
       " 'our',\n",
       " '’very',\n",
       " 'stupid’',\n",
       " 'trade',\n",
       " 'deals',\n",
       " 'and',\n",
       " 'policies',\n",
       " \"''\",\n",
       " ',',\n",
       " 'and',\n",
       " 'vowed',\n",
       " 'to',\n",
       " 'end',\n",
       " 'it',\n",
       " '.',\n",
       " 'On',\n",
       " 'Thursday',\n",
       " ',',\n",
       " 'he',\n",
       " 'said',\n",
       " 'steel',\n",
       " 'imports',\n",
       " 'would',\n",
       " 'face',\n",
       " 'a',\n",
       " '25',\n",
       " '%',\n",
       " 'tariff',\n",
       " 'and',\n",
       " 'aluminium',\n",
       " '10',\n",
       " '%',\n",
       " '.',\n",
       " 'Then',\n",
       " 'came',\n",
       " 'Saturday’s',\n",
       " 'threat',\n",
       " 'on',\n",
       " 'EU-made',\n",
       " 'cars',\n",
       " '.',\n",
       " 'In',\n",
       " 'January',\n",
       " ',',\n",
       " 'he',\n",
       " 'had',\n",
       " 'already',\n",
       " 'announced',\n",
       " 'tariffs',\n",
       " 'on',\n",
       " 'solar',\n",
       " 'panels',\n",
       " 'and',\n",
       " 'washing',\n",
       " 'machines',\n",
       " '.',\n",
       " 'China’s',\n",
       " 'Zhang',\n",
       " 'Yesui',\n",
       " 'said',\n",
       " 'it',\n",
       " 'was',\n",
       " 'natural',\n",
       " 'that',\n",
       " '``',\n",
       " 'some',\n",
       " 'friction',\n",
       " 'will',\n",
       " 'exist',\n",
       " \"''\",\n",
       " 'between',\n",
       " 'the',\n",
       " 'US',\n",
       " 'and',\n",
       " 'China',\n",
       " ',',\n",
       " 'given',\n",
       " 'the',\n",
       " 'volume',\n",
       " 'of',\n",
       " 'trade',\n",
       " 'between',\n",
       " 'them',\n",
       " 'surpassed',\n",
       " '580bn',\n",
       " 'last',\n",
       " 'year',\n",
       " '.',\n",
       " 'But',\n",
       " 'he',\n",
       " 'said',\n",
       " 'China',\n",
       " 'would',\n",
       " 'take',\n",
       " '``',\n",
       " 'necessary',\n",
       " 'measures',\n",
       " \"''\",\n",
       " 'if',\n",
       " 'its',\n",
       " 'interests',\n",
       " 'were',\n",
       " 'hurt.The',\n",
       " 'US',\n",
       " 'economic',\n",
       " 'expansion',\n",
       " 'is',\n",
       " 'set',\n",
       " 'to',\n",
       " 'gain',\n",
       " 'momentum',\n",
       " ',',\n",
       " 'hardening',\n",
       " 'the',\n",
       " 'arguments',\n",
       " 'for',\n",
       " 'increases',\n",
       " 'in',\n",
       " 'short-term',\n",
       " 'interest',\n",
       " 'rates',\n",
       " ',',\n",
       " 'Federal',\n",
       " 'Reserve',\n",
       " 'policymakers',\n",
       " 'said',\n",
       " 'at',\n",
       " 'their',\n",
       " 'latest',\n",
       " 'meeting',\n",
       " '.',\n",
       " 'A',\n",
       " 'number',\n",
       " 'of',\n",
       " 'participants',\n",
       " 'in',\n",
       " 'the',\n",
       " 'US',\n",
       " 'central',\n",
       " 'bank’s',\n",
       " 'January',\n",
       " '30-31',\n",
       " 'meeting',\n",
       " 'said',\n",
       " 'they',\n",
       " 'had',\n",
       " 'marked',\n",
       " 'up',\n",
       " 'their',\n",
       " 'growth',\n",
       " 'forecasts',\n",
       " 'since',\n",
       " 'the',\n",
       " 'previous',\n",
       " 'month',\n",
       " ',',\n",
       " 'encouraged',\n",
       " 'by',\n",
       " 'firm',\n",
       " 'global',\n",
       " 'growth',\n",
       " ',',\n",
       " 'supportive',\n",
       " 'financial',\n",
       " 'markets',\n",
       " 'and',\n",
       " 'the',\n",
       " 'potential',\n",
       " 'for',\n",
       " 'US',\n",
       " 'tax',\n",
       " 'cuts',\n",
       " 'to',\n",
       " 'boost',\n",
       " 'the',\n",
       " 'economy',\n",
       " 'more',\n",
       " 'than',\n",
       " 'expected',\n",
       " '.',\n",
       " 'Others',\n",
       " 'said',\n",
       " 'the',\n",
       " '“upside',\n",
       " 'risks”',\n",
       " 'to',\n",
       " 'growth',\n",
       " 'may',\n",
       " 'have',\n",
       " 'increased',\n",
       " ',',\n",
       " 'according',\n",
       " 'to',\n",
       " 'minutes',\n",
       " 'of',\n",
       " 'the',\n",
       " 'gathering',\n",
       " '.',\n",
       " '“A',\n",
       " 'majority',\n",
       " 'of',\n",
       " 'participants',\n",
       " 'noted',\n",
       " 'that',\n",
       " 'a',\n",
       " 'stronger',\n",
       " 'outlook',\n",
       " 'for',\n",
       " 'economic',\n",
       " 'growth',\n",
       " 'raised',\n",
       " 'the',\n",
       " 'likelihood',\n",
       " 'that',\n",
       " 'further',\n",
       " 'gradual',\n",
       " 'policy',\n",
       " 'firming',\n",
       " 'would',\n",
       " 'be',\n",
       " 'appropriate',\n",
       " ',',\n",
       " '”',\n",
       " 'according',\n",
       " 'to',\n",
       " 'the',\n",
       " 'record',\n",
       " 'released',\n",
       " 'on',\n",
       " 'Wednesday',\n",
       " '.',\n",
       " 'The',\n",
       " 'Fed’s',\n",
       " 'rate-setters',\n",
       " 'reflected',\n",
       " 'the',\n",
       " 'increased',\n",
       " 'arguments',\n",
       " 'for',\n",
       " 'rate',\n",
       " 'rises',\n",
       " 'by',\n",
       " 'changing',\n",
       " 'the',\n",
       " 'language',\n",
       " 'in',\n",
       " 'their',\n",
       " 'post-meeting',\n",
       " 'statement',\n",
       " 'to',\n",
       " 'point',\n",
       " 'to',\n",
       " '“further”',\n",
       " 'rate',\n",
       " 'rises',\n",
       " '.',\n",
       " 'The',\n",
       " 'Fed’s',\n",
       " 'most',\n",
       " 'recent',\n",
       " 'policy',\n",
       " 'meeting',\n",
       " 'was',\n",
       " 'held',\n",
       " 'shortly',\n",
       " 'before',\n",
       " 'the',\n",
       " 'departure',\n",
       " 'of',\n",
       " 'Janet',\n",
       " 'Yellen',\n",
       " 'as',\n",
       " 'chair',\n",
       " 'and',\n",
       " 'the',\n",
       " 'outbreak',\n",
       " 'of',\n",
       " 'market',\n",
       " 'volatility',\n",
       " 'that',\n",
       " 'greeted',\n",
       " 'Jay',\n",
       " 'Powell',\n",
       " ',',\n",
       " 'her',\n",
       " 'successor',\n",
       " ',',\n",
       " 'during',\n",
       " 'his',\n",
       " 'first',\n",
       " 'days',\n",
       " 'on',\n",
       " 'the',\n",
       " 'job',\n",
       " '.',\n",
       " 'Policymakers',\n",
       " 'including',\n",
       " 'Bill',\n",
       " 'Dudley',\n",
       " ',',\n",
       " 'the',\n",
       " 'New',\n",
       " 'York',\n",
       " 'Fed',\n",
       " 'president',\n",
       " ',',\n",
       " 'have',\n",
       " 'stressed',\n",
       " 'that',\n",
       " 'the',\n",
       " 'gyrations',\n",
       " 'in',\n",
       " 'the',\n",
       " 'equity',\n",
       " 'market',\n",
       " 'were',\n",
       " 'unlikely',\n",
       " 'to',\n",
       " 'shake',\n",
       " 'the',\n",
       " 'central',\n",
       " 'bank’s',\n",
       " 'plans',\n",
       " 'to',\n",
       " 'continue',\n",
       " 'its',\n",
       " 'gradual',\n",
       " 'programme',\n",
       " 'of',\n",
       " 'rate',\n",
       " 'rises',\n",
       " '.',\n",
       " 'While',\n",
       " 'January’s',\n",
       " 'deliberations',\n",
       " 'predated',\n",
       " 'the',\n",
       " 'worst',\n",
       " 'of',\n",
       " 'the',\n",
       " 'market',\n",
       " 'fluctuations',\n",
       " ',',\n",
       " 'the',\n",
       " 'record',\n",
       " 'suggests',\n",
       " 'that',\n",
       " 'Fed',\n",
       " 'officials',\n",
       " 'have',\n",
       " 'become',\n",
       " 'more',\n",
       " 'confident',\n",
       " 'about',\n",
       " 'the',\n",
       " 'economy',\n",
       " 'since',\n",
       " 'their',\n",
       " 'December',\n",
       " 'meeting',\n",
       " ',',\n",
       " 'when',\n",
       " 'they',\n",
       " 'last',\n",
       " 'raised',\n",
       " 'interest',\n",
       " 'rates',\n",
       " '.',\n",
       " 'The',\n",
       " 'Federal',\n",
       " 'Open',\n",
       " 'Market',\n",
       " 'Committee',\n",
       " 'left',\n",
       " 'its',\n",
       " 'target',\n",
       " 'range',\n",
       " 'for',\n",
       " 'the',\n",
       " 'federal',\n",
       " 'funds',\n",
       " 'rate',\n",
       " 'on',\n",
       " 'hold',\n",
       " 'at',\n",
       " '1.25',\n",
       " 'to',\n",
       " '1.5',\n",
       " 'per',\n",
       " 'cent',\n",
       " 'at',\n",
       " 'the',\n",
       " 'January',\n",
       " 'meeting',\n",
       " ',',\n",
       " 'while',\n",
       " 'laying',\n",
       " 'the',\n",
       " 'ground',\n",
       " 'for',\n",
       " 'another',\n",
       " 'move',\n",
       " 'at',\n",
       " 'the',\n",
       " 'March',\n",
       " '20-21',\n",
       " 'meeting',\n",
       " '.',\n",
       " 'A',\n",
       " 'key',\n",
       " 'question',\n",
       " 'in',\n",
       " 'markets',\n",
       " 'now',\n",
       " 'is',\n",
       " 'whether',\n",
       " 'the',\n",
       " 'Fed',\n",
       " 'could',\n",
       " 'opt',\n",
       " 'to',\n",
       " 'boost',\n",
       " 'rates',\n",
       " 'four',\n",
       " 'times',\n",
       " 'in',\n",
       " '2018',\n",
       " ',',\n",
       " 'rather',\n",
       " 'than',\n",
       " 'the',\n",
       " 'three',\n",
       " 'moves',\n",
       " 'currently',\n",
       " 'forecast',\n",
       " '.',\n",
       " 'The',\n",
       " 'immediate',\n",
       " 'market',\n",
       " 'response',\n",
       " 'to',\n",
       " 'the',\n",
       " 'minutes',\n",
       " 'suggested',\n",
       " 'they',\n",
       " 'did',\n",
       " 'not',\n",
       " 'significantly',\n",
       " 'advance',\n",
       " 'that',\n",
       " 'debate',\n",
       " ':',\n",
       " 'the',\n",
       " 'yield',\n",
       " 'on',\n",
       " 'the',\n",
       " '10-year',\n",
       " 'Treasury',\n",
       " 'declined',\n",
       " 'modestly',\n",
       " 'and',\n",
       " 'the',\n",
       " 'dollar',\n",
       " 'softened',\n",
       " 'a',\n",
       " 'little',\n",
       " ',',\n",
       " 'but',\n",
       " 'both',\n",
       " 'moves',\n",
       " 'were',\n",
       " 'muted',\n",
       " '.',\n",
       " 'Fed',\n",
       " 'funds',\n",
       " 'futures',\n",
       " 'were',\n",
       " 'little',\n",
       " 'changed.The',\n",
       " 'next',\n",
       " 'financial',\n",
       " 'crisis',\n",
       " 'may',\n",
       " 'be',\n",
       " 'triggered',\n",
       " 'by',\n",
       " 'central',\n",
       " 'banks',\n",
       " '.',\n",
       " 'As',\n",
       " 'with',\n",
       " 'London',\n",
       " 'buses',\n",
       " ',',\n",
       " 'don’t',\n",
       " 'worry',\n",
       " ...]"
      ]
     },
     "execution_count": 68,
     "metadata": {},
     "output_type": "execute_result"
    }
   ],
   "source": [
    "words"
   ]
  },
  {
   "cell_type": "code",
   "execution_count": 69,
   "metadata": {},
   "outputs": [],
   "source": [
    "cps1 = Text(words)"
   ]
  },
  {
   "cell_type": "code",
   "execution_count": 70,
   "metadata": {},
   "outputs": [
    {
     "data": {
      "text/plain": [
       "['_CONTEXT_RE',\n",
       " '_COPY_TOKENS',\n",
       " '__class__',\n",
       " '__delattr__',\n",
       " '__dict__',\n",
       " '__dir__',\n",
       " '__doc__',\n",
       " '__eq__',\n",
       " '__format__',\n",
       " '__ge__',\n",
       " '__getattribute__',\n",
       " '__getitem__',\n",
       " '__gt__',\n",
       " '__hash__',\n",
       " '__init__',\n",
       " '__init_subclass__',\n",
       " '__le__',\n",
       " '__len__',\n",
       " '__lt__',\n",
       " '__module__',\n",
       " '__ne__',\n",
       " '__new__',\n",
       " '__reduce__',\n",
       " '__reduce_ex__',\n",
       " '__repr__',\n",
       " '__setattr__',\n",
       " '__sizeof__',\n",
       " '__str__',\n",
       " '__subclasshook__',\n",
       " '__unicode__',\n",
       " '__weakref__',\n",
       " '_context',\n",
       " 'collocations',\n",
       " 'common_contexts',\n",
       " 'concordance',\n",
       " 'count',\n",
       " 'dispersion_plot',\n",
       " 'findall',\n",
       " 'generate',\n",
       " 'index',\n",
       " 'name',\n",
       " 'plot',\n",
       " 'readability',\n",
       " 'similar',\n",
       " 'tokens',\n",
       " 'unicode_repr',\n",
       " 'vocab']"
      ]
     },
     "execution_count": 70,
     "metadata": {},
     "output_type": "execute_result"
    }
   ],
   "source": [
    "dir(cps1)"
   ]
  },
  {
   "cell_type": "code",
   "execution_count": 71,
   "metadata": {},
   "outputs": [
    {
     "ename": "AttributeError",
     "evalue": "'Text' object has no attribute 'items'",
     "output_type": "error",
     "traceback": [
      "\u001b[0;31m---------------------------------------------------------------------------\u001b[0m",
      "\u001b[0;31mAttributeError\u001b[0m                            Traceback (most recent call last)",
      "\u001b[0;32m<ipython-input-71-3dee05ed631b>\u001b[0m in \u001b[0;36m<module>\u001b[0;34m()\u001b[0m\n\u001b[0;32m----> 1\u001b[0;31m \u001b[0mcps1\u001b[0m\u001b[1;33m.\u001b[0m\u001b[0mitems\u001b[0m\u001b[1;33m(\u001b[0m\u001b[1;33m)\u001b[0m\u001b[1;33m\u001b[0m\u001b[0m\n\u001b[0m",
      "\u001b[0;31mAttributeError\u001b[0m: 'Text' object has no attribute 'items'"
     ]
    }
   ],
   "source": [
    "cps1.items()"
   ]
  },
  {
   "cell_type": "code",
   "execution_count": 72,
   "metadata": {},
   "outputs": [],
   "source": [
    "fdist1 = FreqDist(cps1)"
   ]
  },
  {
   "cell_type": "code",
   "execution_count": 73,
   "metadata": {},
   "outputs": [
    {
     "data": {
      "text/plain": [
       "nltk.probability.FreqDist"
      ]
     },
     "execution_count": 73,
     "metadata": {},
     "output_type": "execute_result"
    }
   ],
   "source": [
    "type(fdist1)"
   ]
  },
  {
   "cell_type": "code",
   "execution_count": 74,
   "metadata": {},
   "outputs": [
    {
     "data": {
      "text/plain": [
       "dict_items([('The', 20), ('next', 3), ('financial', 9), ('crisis', 10), ('may', 3), ('be', 5), ('triggered', 2), ('by', 12), ('central', 4), ('banks', 2), ('.', 72), ('As', 2), ('with', 6), ('London', 2), ('buses', 2), (',', 71), ('don’t', 2), ('worry', 2), ('if', 4), ('you', 2), ('miss', 2), ('a', 52), (';', 12), ('another', 3), ('will', 5), ('along', 2), ('shortly', 3), ('latest', 3), ('study', 2), ('on', 20), ('long-term', 2), ('asset', 2), ('returns', 2), ('from', 8), ('Deutsche', 6), ('Bank', 3), ('shows', 2), ('that', 17), ('crises', 2), ('in', 41), ('developed', 4), ('markets', 6), ('have', 14), ('become', 3), ('much', 3), ('more', 14), ('common', 2), ('recent', 4), ('decades', 2), ('That', 3), ('does', 3), ('not', 7), ('bode', 2), ('well', 2), ('defines', 2), ('as', 11), ('period', 5), ('when', 3), ('country', 4), ('suffers', 2), ('one', 5), ('of', 50), ('the', 109), ('following', 5), (':', 5), ('15', 2), ('%', 7), ('annual', 3), ('decline', 2), ('equities', 2), ('10', 3), ('fall', 2), ('its', 18), ('currency', 6), ('or', 4), ('government', 6), ('bonds', 2), ('default', 2), ('national', 2), ('debt', 6), ('double-digit', 2), ('inflation', 2), ('During', 2), ('19th', 2), ('century', 2), ('only', 2), ('occasionally', 2), ('did', 3), ('than', 8), ('half', 4), ('countries', 4), ('for', 19), ('which', 7), ('there', 2), ('are', 5), ('data', 5), ('suffer', 5), ('such', 2), ('shock', 2), ('single', 2), ('year', 13), ('But', 6), ('since', 14), ('1980s', 2), ('numerous', 2), ('years', 2), ('them', 3), ('been', 9), ('some', 5), ('kind', 2), ('main', 2), ('reason', 2), ('this', 2), ('argues', 2), ('is', 9), ('monetary', 4), ('system', 7), ('Under', 2), ('gold', 2), ('standard', 2), ('and', 29), ('successor', 3), ('Bretton', 2), ('Woods', 2), ('fixed', 2), ('exchange', 4), ('rates', 5), ('amount', 2), ('credit', 5), ('creation', 2), ('was', 10), ('limited', 2), ('A', 4), ('expanded', 2), ('money', 2), ('supply', 2), ('too', 2), ('quickly', 2), ('would', 8), ('trade', 8), ('deficit', 4), ('pressure', 5), ('currency’s', 2), ('rate', 7), ('react', 2), ('slamming', 2), ('brakes', 2), ('result', 4), ('it', 8), ('harder', 2), ('bubbles', 2), ('to', 45), ('inflate', 2), ('early', 2), ('1970s', 2), ('moved', 2), ('floating', 2), ('exchange-rate', 2), ('This', 3), ('gives', 2), ('governments', 2), ('flexibility', 2), ('deal', 2), ('an', 5), ('economic', 6), ('means', 2), ('they', 5), ('do', 2), ('subordinate', 2), ('other', 2), ('policy', 4), ('goals', 2), ('maintaining', 2), ('peg', 2), ('It', 3), ('has', 19), ('also', 6), ('created', 2), ('trend', 2), ('towards', 2), ('greater', 2), ('imbalances', 2), ('no', 2), ('longer', 2), ('constrain', 2), ('policymakers—the', 2), ('often', 2), ('allowed', 2), ('take', 3), ('strain', 2), ('Similarly', 2), ('risen', 2), ('steadily', 2), ('proportion', 2), ('GDP', 3), ('mid-1970s', 2), ('There', 2), ('little', 4), ('balance', 2), ('budget', 3), ('Japan', 2), ('had', 7), ('every', 2), ('1966', 2), ('France', 2), ('1993', 2), ('Italy', 2), ('managed', 2), ('just', 4), ('surplus', 2), ('1950', 2), ('In', 3), ('world', 2), ('consumers', 2), ('companies', 2), ('taken', 2), ('cycle', 2), ('expansion', 3), ('collapse.China', 1), ('warned', 1), ('want', 1), ('war', 1), ('US', 7), ('but', 2), ('sit', 1), ('idly', 1), ('economy', 10), ('hurt', 1), ('Zhang', 2), ('Yesui', 2), ('spokesperson', 1), ('China’s', 2), ('National', 2), ('People’s', 1), ('Congress', 1), ('made', 1), ('comments', 1), ('amid', 1), ('controversy', 1), ('over', 2), ('Donald', 1), ('Trump’s', 1), ('announcement', 1), ('tariffs', 2), ('steel', 2), ('aluminium', 2), ('imports', 2), ('president', 2), ('threatened', 1), ('impose', 1), ('tax', 4), ('EU-made', 2), ('cars', 2), ('earlier', 1), ('said', 9), ('``', 4), ('wars', 1), ('good', 1), (\"''\", 4), ('trading', 1), ('partners', 1), ('IMF', 1), ('WTO', 1), ('strongly', 2), ('criticised', 1), ('his', 5), ('moves', 4), ('Mr', 3), ('Trump', 1), ('decried', 1), ('$', 2), ('800', 1), ('Billion', 1), ('Dollar', 1), ('Yearly', 1), ('Trade', 1), ('Deficit', 1), ('because', 2), ('our', 1), ('’very', 1), ('stupid’', 1), ('deals', 2), ('policies', 1), ('vowed', 1), ('end', 1), ('On', 1), ('Thursday', 1), ('he', 4), ('face', 1), ('25', 1), ('tariff', 1), ('Then', 1), ('came', 2), ('Saturday’s', 1), ('threat', 1), ('January', 3), ('already', 1), ('announced', 2), ('solar', 1), ('panels', 1), ('washing', 1), ('machines', 1), ('natural', 1), ('friction', 1), ('exist', 1), ('between', 2), ('China', 3), ('given', 1), ('volume', 1), ('surpassed', 1), ('580bn', 1), ('last', 6), ('necessary', 1), ('measures', 1), ('interests', 1), ('were', 5), ('hurt.The', 1), ('set', 1), ('gain', 1), ('momentum', 2), ('hardening', 1), ('arguments', 2), ('increases', 1), ('short-term', 1), ('interest', 2), ('Federal', 2), ('Reserve', 1), ('policymakers', 1), ('at', 6), ('their', 4), ('meeting', 6), ('number', 2), ('participants', 2), ('bank’s', 2), ('30-31', 1), ('marked', 1), ('up', 1), ('growth', 7), ('forecasts', 1), ('previous', 1), ('month', 2), ('encouraged', 1), ('firm', 1), ('global', 1), ('supportive', 1), ('potential', 1), ('cuts', 1), ('boost', 4), ('expected', 2), ('Others', 1), ('“upside', 1), ('risks”', 1), ('increased', 2), ('according', 2), ('minutes', 2), ('gathering', 1), ('“A', 1), ('majority', 1), ('noted', 1), ('stronger', 2), ('outlook', 1), ('raised', 2), ('likelihood', 1), ('further', 1), ('gradual', 2), ('firming', 1), ('appropriate', 1), ('”', 1), ('record', 3), ('released', 2), ('Wednesday', 1), ('Fed’s', 2), ('rate-setters', 1), ('reflected', 1), ('rises', 3), ('changing', 1), ('language', 1), ('post-meeting', 1), ('statement', 1), ('point', 1), ('“further”', 1), ('most', 4), ('held', 1), ('before', 1), ('departure', 1), ('Janet', 1), ('Yellen', 1), ('chair', 1), ('outbreak', 1), ('market', 4), ('volatility', 1), ('greeted', 1), ('Jay', 1), ('Powell', 1), ('her', 1), ('during', 1), ('first', 2), ('days', 1), ('job', 1), ('Policymakers', 1), ('including', 1), ('Bill', 1), ('Dudley', 1), ('New', 1), ('York', 1), ('Fed', 4), ('stressed', 1), ('gyrations', 1), ('equity', 1), ('unlikely', 1), ('shake', 1), ('plans', 1), ('continue', 1), ('programme', 1), ('While', 1), ('January’s', 1), ('deliberations', 1), ('predated', 1), ('worst', 1), ('fluctuations', 1), ('suggests', 1), ('officials', 1), ('confident', 1), ('about', 1), ('December', 2), ('Open', 1), ('Market', 1), ('Committee', 1), ('left', 1), ('target', 1), ('range', 1), ('federal', 1), ('funds', 2), ('hold', 1), ('1.25', 1), ('1.5', 1), ('per', 12), ('cent', 12), ('while', 2), ('laying', 1), ('ground', 1), ('move', 1), ('March', 1), ('20-21', 1), ('key', 1), ('question', 1), ('now', 1), ('whether', 1), ('could', 1), ('opt', 1), ('four', 1), ('times', 1), ('2018', 3), ('rather', 1), ('three', 3), ('currently', 1), ('forecast', 2), ('immediate', 1), ('response', 1), ('suggested', 1), ('significantly', 1), ('advance', 1), ('debate', 1), ('yield', 1), ('10-year', 1), ('Treasury', 1), ('declined', 1), ('modestly', 1), ('dollar', 1), ('softened', 1), ('both', 2), ('muted', 1), ('futures', 1), ('changed.The', 1), ('collapse.India', 1), ('regained', 1), ('title', 1), ('world’s', 1), ('fastest-growing', 1), ('major', 1), ('after', 1), ('figures', 3), ('confirmed', 1), ('grew', 4), ('7', 1), ('annualised', 2), ('basis', 2), ('months', 2), ('overtaking', 1), ('once', 1), ('Data', 1), ('yesterday', 1), ('show', 1), ('7.2', 2), ('final', 1), ('quarter', 5), ('continuing', 1), ('bounceback', 1), ('sharp', 1), ('slowdown', 4), ('middle', 1), ('2017', 2), ('Chinese', 1), ('6.8', 2), ('same', 1), ('Narendra', 1), ('Modi', 3), ('prime', 1), ('minister', 3), ('who', 2), ('come', 2), ('under', 2), ('ahead', 1), ('general', 1), ('election', 1), ('due', 1), ('news', 1), ('comes', 1), ('welcome', 1), ('relief', 1), ('week', 1), ('administration', 1), ('attacked', 1), ('failing', 1), ('prevent', 1), ('1.8bn', 1), ('fraud', 1), ('state-owned', 1), ('Punjab', 1), ('Piyush', 1), ('Goyal', 1), ('railways', 1), ('seen', 1), ('close', 1), ('welcomed', 1), ('yesterday’s', 2), ('tweeting', 1), ('“India’s', 1), ('continues', 1), ('&', 1), ('sustainably', 1), ('—', 2), ('jumps', 1), ('3rd', 1), ('2017-18', 1), ('makes', 1), ('India', 4), ('fastest', 1), ('growing', 1), ('large', 1), ('world.”', 1), ('Pronab', 1), ('Sen', 1), ('country’s', 3), ('former', 1), ('chief', 1), ('statistician', 1), ('called', 1), ('“very', 1), ('strong', 1), ('expected”', 1), ('power', 1), ('2014', 1), ('promising', 1), ('reforms', 1), ('help', 1), ('create', 1), ('10m', 1), ('jobs', 1), ('shy', 1), ('estimated', 1), ('13m', 1), ('needs', 1), ('account', 1), ('young', 1), ('people', 1), ('entering', 1), ('workforce', 1), ('each', 1), ('fire', 1), ('sudden', 1), ('decision', 1), ('2016', 3), ('cancel', 1), ('banknotes', 1), ('followed', 1), ('botched', 1), ('attempt', 1), ('reform', 1), ('complex', 1), ('sales', 1), ('problems', 1), ('arising', 1), ('these', 1), ('helped', 1), ('knock', 1), ('off', 1), ('course', 1), ('fell', 1), ('9.1', 1), ('5.7', 1), ('June', 1), ('Last', 1), ('Arun', 1), ('Jaitley', 1), ('finance', 1), ('attempted', 1), ('mitigate', 1), ('effects', 1), ('included', 1), ('higher', 1), ('minimum', 1), ('prices', 1), ('farmers', 1), ('free', 1), ('health', 1), ('insurance', 1), ('100m', 1), ('poor', 1), ('families', 1), ('reversed', 1), ('third', 1), ('showed', 1), ('improvement', 1), ('con', 1), ('?', 2), ('tinued', 1), ('quarter’s', 1), ('boosted', 1), ('particular', 1), ('recovery', 1), ('construction', 1), ('ex', 1), ('panded', 1), ('sectors', 1), ('wake', 1), ('demonetisation', 2), ('many', 1), ('India’s', 1), ('property', 1), ('having', 1), ('previously', 1), ('paid', 1), ('cash', 1), ('way', 1), ('avoid', 1), ('Manufacturing', 1), ('meanwhile', 1), ('8.1', 1), ('important', 1), ('agricultural', 1), ('sector', 1), ('4.1', 1), ('larger', 1), ('Earlier', 1), ('day', 1), ('rating', 1), ('agency', 1), ('Moody’s', 1), ('grow', 2), ('7.6', 1), ('“There', 1), ('signs', 1), ('Indian', 1), ('starting', 1), ('recover', 1), ('soft', 1), ('patch', 1), ('attributed', 1), ('negative', 1), ('impact', 1), ('undertaken', 1), ('disruption', 1), ('related', 1), ('year’s', 1), ('rollout', 1), ('Goods', 1), ('Service', 1), ('Tax.”', 1), ('International', 1), ('Monetary', 1), ('Fund', 1), ('7.4', 1), ('7.8', 1), ('2019', 1)])"
      ]
     },
     "execution_count": 74,
     "metadata": {},
     "output_type": "execute_result"
    }
   ],
   "source": [
    "fdist1.items()"
   ]
  },
  {
   "cell_type": "code",
   "execution_count": 75,
   "metadata": {},
   "outputs": [
    {
     "data": {
      "text/plain": [
       "['B',\n",
       " 'N',\n",
       " 'Nr',\n",
       " '__add__',\n",
       " '__and__',\n",
       " '__class__',\n",
       " '__contains__',\n",
       " '__delattr__',\n",
       " '__delitem__',\n",
       " '__dict__',\n",
       " '__dir__',\n",
       " '__doc__',\n",
       " '__eq__',\n",
       " '__format__',\n",
       " '__ge__',\n",
       " '__getattribute__',\n",
       " '__getitem__',\n",
       " '__gt__',\n",
       " '__hash__',\n",
       " '__iadd__',\n",
       " '__iand__',\n",
       " '__init__',\n",
       " '__init_subclass__',\n",
       " '__ior__',\n",
       " '__isub__',\n",
       " '__iter__',\n",
       " '__le__',\n",
       " '__len__',\n",
       " '__lt__',\n",
       " '__missing__',\n",
       " '__module__',\n",
       " '__ne__',\n",
       " '__neg__',\n",
       " '__new__',\n",
       " '__or__',\n",
       " '__pos__',\n",
       " '__reduce__',\n",
       " '__reduce_ex__',\n",
       " '__repr__',\n",
       " '__setattr__',\n",
       " '__setitem__',\n",
       " '__sizeof__',\n",
       " '__str__',\n",
       " '__sub__',\n",
       " '__subclasshook__',\n",
       " '__unicode__',\n",
       " '__weakref__',\n",
       " '_cumulative_frequencies',\n",
       " '_keep_positive',\n",
       " 'clear',\n",
       " 'copy',\n",
       " 'elements',\n",
       " 'freq',\n",
       " 'fromkeys',\n",
       " 'get',\n",
       " 'hapaxes',\n",
       " 'items',\n",
       " 'keys',\n",
       " 'max',\n",
       " 'most_common',\n",
       " 'pformat',\n",
       " 'plot',\n",
       " 'pop',\n",
       " 'popitem',\n",
       " 'pprint',\n",
       " 'r_Nr',\n",
       " 'setdefault',\n",
       " 'subtract',\n",
       " 'tabulate',\n",
       " 'unicode_repr',\n",
       " 'update',\n",
       " 'values']"
      ]
     },
     "execution_count": 75,
     "metadata": {},
     "output_type": "execute_result"
    }
   ],
   "source": [
    "dir(fdist1)"
   ]
  },
  {
   "cell_type": "code",
   "execution_count": 76,
   "metadata": {},
   "outputs": [],
   "source": [
    "wl = fdist1.items()"
   ]
  },
  {
   "cell_type": "code",
   "execution_count": 77,
   "metadata": {},
   "outputs": [],
   "source": [
    "wl_sorted_desc = sorted(wl, key= lambda w:w[1], reverse=True )"
   ]
  },
  {
   "cell_type": "code",
   "execution_count": 78,
   "metadata": {},
   "outputs": [
    {
     "data": {
      "text/plain": [
       "[('the', 109),\n",
       " ('.', 72),\n",
       " (',', 71),\n",
       " ('a', 52),\n",
       " ('of', 50),\n",
       " ('to', 45),\n",
       " ('in', 41),\n",
       " ('and', 29),\n",
       " ('The', 20),\n",
       " ('on', 20),\n",
       " ('for', 19),\n",
       " ('has', 19),\n",
       " ('its', 18),\n",
       " ('that', 17),\n",
       " ('have', 14),\n",
       " ('more', 14),\n",
       " ('since', 14),\n",
       " ('year', 13),\n",
       " ('by', 12),\n",
       " (';', 12),\n",
       " ('per', 12),\n",
       " ('cent', 12),\n",
       " ('as', 11),\n",
       " ('crisis', 10),\n",
       " ('was', 10),\n",
       " ('economy', 10),\n",
       " ('financial', 9),\n",
       " ('been', 9),\n",
       " ('is', 9),\n",
       " ('said', 9),\n",
       " ('from', 8),\n",
       " ('than', 8),\n",
       " ('would', 8),\n",
       " ('trade', 8),\n",
       " ('it', 8),\n",
       " ('not', 7),\n",
       " ('%', 7),\n",
       " ('which', 7),\n",
       " ('system', 7),\n",
       " ('rate', 7),\n",
       " ('had', 7),\n",
       " ('US', 7),\n",
       " ('growth', 7),\n",
       " ('with', 6),\n",
       " ('Deutsche', 6),\n",
       " ('markets', 6),\n",
       " ('currency', 6),\n",
       " ('government', 6),\n",
       " ('debt', 6),\n",
       " ('But', 6),\n",
       " ('economic', 6),\n",
       " ('also', 6),\n",
       " ('last', 6),\n",
       " ('at', 6),\n",
       " ('meeting', 6),\n",
       " ('be', 5),\n",
       " ('will', 5),\n",
       " ('period', 5),\n",
       " ('one', 5),\n",
       " ('following', 5),\n",
       " (':', 5),\n",
       " ('are', 5),\n",
       " ('data', 5),\n",
       " ('suffer', 5),\n",
       " ('some', 5),\n",
       " ('rates', 5),\n",
       " ('credit', 5),\n",
       " ('pressure', 5),\n",
       " ('an', 5),\n",
       " ('they', 5),\n",
       " ('his', 5),\n",
       " ('were', 5),\n",
       " ('quarter', 5),\n",
       " ('central', 4),\n",
       " ('if', 4),\n",
       " ('developed', 4),\n",
       " ('recent', 4),\n",
       " ('country', 4),\n",
       " ('or', 4),\n",
       " ('half', 4),\n",
       " ('countries', 4),\n",
       " ('monetary', 4),\n",
       " ('exchange', 4),\n",
       " ('A', 4),\n",
       " ('deficit', 4),\n",
       " ('result', 4),\n",
       " ('policy', 4),\n",
       " ('little', 4),\n",
       " ('just', 4),\n",
       " ('tax', 4),\n",
       " ('``', 4),\n",
       " (\"''\", 4),\n",
       " ('moves', 4),\n",
       " ('he', 4),\n",
       " ('their', 4),\n",
       " ('boost', 4),\n",
       " ('most', 4),\n",
       " ('market', 4),\n",
       " ('Fed', 4),\n",
       " ('grew', 4),\n",
       " ('slowdown', 4),\n",
       " ('India', 4),\n",
       " ('next', 3),\n",
       " ('may', 3),\n",
       " ('another', 3),\n",
       " ('shortly', 3),\n",
       " ('latest', 3),\n",
       " ('Bank', 3),\n",
       " ('become', 3),\n",
       " ('much', 3),\n",
       " ('That', 3),\n",
       " ('does', 3),\n",
       " ('when', 3),\n",
       " ('annual', 3),\n",
       " ('10', 3),\n",
       " ('did', 3),\n",
       " ('them', 3),\n",
       " ('successor', 3),\n",
       " ('This', 3),\n",
       " ('It', 3),\n",
       " ('take', 3),\n",
       " ('GDP', 3),\n",
       " ('budget', 3),\n",
       " ('In', 3),\n",
       " ('expansion', 3),\n",
       " ('Mr', 3),\n",
       " ('January', 3),\n",
       " ('China', 3),\n",
       " ('record', 3),\n",
       " ('rises', 3),\n",
       " ('2018', 3),\n",
       " ('three', 3),\n",
       " ('figures', 3),\n",
       " ('Modi', 3),\n",
       " ('minister', 3),\n",
       " ('country’s', 3),\n",
       " ('2016', 3),\n",
       " ('triggered', 2),\n",
       " ('banks', 2),\n",
       " ('As', 2),\n",
       " ('London', 2),\n",
       " ('buses', 2),\n",
       " ('don’t', 2),\n",
       " ('worry', 2),\n",
       " ('you', 2),\n",
       " ('miss', 2),\n",
       " ('along', 2),\n",
       " ('study', 2),\n",
       " ('long-term', 2),\n",
       " ('asset', 2),\n",
       " ('returns', 2),\n",
       " ('shows', 2),\n",
       " ('crises', 2),\n",
       " ('common', 2),\n",
       " ('decades', 2),\n",
       " ('bode', 2),\n",
       " ('well', 2),\n",
       " ('defines', 2),\n",
       " ('suffers', 2),\n",
       " ('15', 2),\n",
       " ('decline', 2),\n",
       " ('equities', 2),\n",
       " ('fall', 2),\n",
       " ('bonds', 2),\n",
       " ('default', 2),\n",
       " ('national', 2),\n",
       " ('double-digit', 2),\n",
       " ('inflation', 2),\n",
       " ('During', 2),\n",
       " ('19th', 2),\n",
       " ('century', 2),\n",
       " ('only', 2),\n",
       " ('occasionally', 2),\n",
       " ('there', 2),\n",
       " ('such', 2),\n",
       " ('shock', 2),\n",
       " ('single', 2),\n",
       " ('1980s', 2),\n",
       " ('numerous', 2),\n",
       " ('years', 2),\n",
       " ('kind', 2),\n",
       " ('main', 2),\n",
       " ('reason', 2),\n",
       " ('this', 2),\n",
       " ('argues', 2),\n",
       " ('Under', 2),\n",
       " ('gold', 2),\n",
       " ('standard', 2),\n",
       " ('Bretton', 2),\n",
       " ('Woods', 2),\n",
       " ('fixed', 2),\n",
       " ('amount', 2),\n",
       " ('creation', 2),\n",
       " ('limited', 2),\n",
       " ('expanded', 2),\n",
       " ('money', 2),\n",
       " ('supply', 2),\n",
       " ('too', 2),\n",
       " ('quickly', 2),\n",
       " ('currency’s', 2),\n",
       " ('react', 2),\n",
       " ('slamming', 2),\n",
       " ('brakes', 2),\n",
       " ('harder', 2),\n",
       " ('bubbles', 2),\n",
       " ('inflate', 2),\n",
       " ('early', 2),\n",
       " ('1970s', 2),\n",
       " ('moved', 2),\n",
       " ('floating', 2),\n",
       " ('exchange-rate', 2),\n",
       " ('gives', 2),\n",
       " ('governments', 2),\n",
       " ('flexibility', 2),\n",
       " ('deal', 2),\n",
       " ('means', 2),\n",
       " ('do', 2),\n",
       " ('subordinate', 2),\n",
       " ('other', 2),\n",
       " ('goals', 2),\n",
       " ('maintaining', 2),\n",
       " ('peg', 2),\n",
       " ('created', 2),\n",
       " ('trend', 2),\n",
       " ('towards', 2),\n",
       " ('greater', 2),\n",
       " ('imbalances', 2),\n",
       " ('no', 2),\n",
       " ('longer', 2),\n",
       " ('constrain', 2),\n",
       " ('policymakers—the', 2),\n",
       " ('often', 2),\n",
       " ('allowed', 2),\n",
       " ('strain', 2),\n",
       " ('Similarly', 2),\n",
       " ('risen', 2),\n",
       " ('steadily', 2),\n",
       " ('proportion', 2),\n",
       " ('mid-1970s', 2),\n",
       " ('There', 2),\n",
       " ('balance', 2),\n",
       " ('Japan', 2),\n",
       " ('every', 2),\n",
       " ('1966', 2),\n",
       " ('France', 2),\n",
       " ('1993', 2),\n",
       " ('Italy', 2),\n",
       " ('managed', 2),\n",
       " ('surplus', 2),\n",
       " ('1950', 2),\n",
       " ('world', 2),\n",
       " ('consumers', 2),\n",
       " ('companies', 2),\n",
       " ('taken', 2),\n",
       " ('cycle', 2),\n",
       " ('but', 2),\n",
       " ('Zhang', 2),\n",
       " ('Yesui', 2),\n",
       " ('China’s', 2),\n",
       " ('National', 2),\n",
       " ('over', 2),\n",
       " ('tariffs', 2),\n",
       " ('steel', 2),\n",
       " ('aluminium', 2),\n",
       " ('imports', 2),\n",
       " ('president', 2),\n",
       " ('EU-made', 2),\n",
       " ('cars', 2),\n",
       " ('strongly', 2),\n",
       " ('$', 2),\n",
       " ('because', 2),\n",
       " ('deals', 2),\n",
       " ('came', 2),\n",
       " ('announced', 2),\n",
       " ('between', 2),\n",
       " ('momentum', 2),\n",
       " ('arguments', 2),\n",
       " ('interest', 2),\n",
       " ('Federal', 2),\n",
       " ('number', 2),\n",
       " ('participants', 2),\n",
       " ('bank’s', 2),\n",
       " ('month', 2),\n",
       " ('expected', 2),\n",
       " ('increased', 2),\n",
       " ('according', 2),\n",
       " ('minutes', 2),\n",
       " ('stronger', 2),\n",
       " ('raised', 2),\n",
       " ('gradual', 2),\n",
       " ('released', 2),\n",
       " ('Fed’s', 2),\n",
       " ('first', 2),\n",
       " ('December', 2),\n",
       " ('funds', 2),\n",
       " ('while', 2),\n",
       " ('forecast', 2),\n",
       " ('both', 2),\n",
       " ('annualised', 2),\n",
       " ('basis', 2),\n",
       " ('months', 2),\n",
       " ('7.2', 2),\n",
       " ('2017', 2),\n",
       " ('6.8', 2),\n",
       " ('who', 2),\n",
       " ('come', 2),\n",
       " ('under', 2),\n",
       " ('yesterday’s', 2),\n",
       " ('—', 2),\n",
       " ('?', 2),\n",
       " ('demonetisation', 2),\n",
       " ('grow', 2),\n",
       " ('collapse.China', 1),\n",
       " ('warned', 1),\n",
       " ('want', 1),\n",
       " ('war', 1),\n",
       " ('sit', 1),\n",
       " ('idly', 1),\n",
       " ('hurt', 1),\n",
       " ('spokesperson', 1),\n",
       " ('People’s', 1),\n",
       " ('Congress', 1),\n",
       " ('made', 1),\n",
       " ('comments', 1),\n",
       " ('amid', 1),\n",
       " ('controversy', 1),\n",
       " ('Donald', 1),\n",
       " ('Trump’s', 1),\n",
       " ('announcement', 1),\n",
       " ('threatened', 1),\n",
       " ('impose', 1),\n",
       " ('earlier', 1),\n",
       " ('wars', 1),\n",
       " ('good', 1),\n",
       " ('trading', 1),\n",
       " ('partners', 1),\n",
       " ('IMF', 1),\n",
       " ('WTO', 1),\n",
       " ('criticised', 1),\n",
       " ('Trump', 1),\n",
       " ('decried', 1),\n",
       " ('800', 1),\n",
       " ('Billion', 1),\n",
       " ('Dollar', 1),\n",
       " ('Yearly', 1),\n",
       " ('Trade', 1),\n",
       " ('Deficit', 1),\n",
       " ('our', 1),\n",
       " ('’very', 1),\n",
       " ('stupid’', 1),\n",
       " ('policies', 1),\n",
       " ('vowed', 1),\n",
       " ('end', 1),\n",
       " ('On', 1),\n",
       " ('Thursday', 1),\n",
       " ('face', 1),\n",
       " ('25', 1),\n",
       " ('tariff', 1),\n",
       " ('Then', 1),\n",
       " ('Saturday’s', 1),\n",
       " ('threat', 1),\n",
       " ('already', 1),\n",
       " ('solar', 1),\n",
       " ('panels', 1),\n",
       " ('washing', 1),\n",
       " ('machines', 1),\n",
       " ('natural', 1),\n",
       " ('friction', 1),\n",
       " ('exist', 1),\n",
       " ('given', 1),\n",
       " ('volume', 1),\n",
       " ('surpassed', 1),\n",
       " ('580bn', 1),\n",
       " ('necessary', 1),\n",
       " ('measures', 1),\n",
       " ('interests', 1),\n",
       " ('hurt.The', 1),\n",
       " ('set', 1),\n",
       " ('gain', 1),\n",
       " ('hardening', 1),\n",
       " ('increases', 1),\n",
       " ('short-term', 1),\n",
       " ('Reserve', 1),\n",
       " ('policymakers', 1),\n",
       " ('30-31', 1),\n",
       " ('marked', 1),\n",
       " ('up', 1),\n",
       " ('forecasts', 1),\n",
       " ('previous', 1),\n",
       " ('encouraged', 1),\n",
       " ('firm', 1),\n",
       " ('global', 1),\n",
       " ('supportive', 1),\n",
       " ('potential', 1),\n",
       " ('cuts', 1),\n",
       " ('Others', 1),\n",
       " ('“upside', 1),\n",
       " ('risks”', 1),\n",
       " ('gathering', 1),\n",
       " ('“A', 1),\n",
       " ('majority', 1),\n",
       " ('noted', 1),\n",
       " ('outlook', 1),\n",
       " ('likelihood', 1),\n",
       " ('further', 1),\n",
       " ('firming', 1),\n",
       " ('appropriate', 1),\n",
       " ('”', 1),\n",
       " ('Wednesday', 1),\n",
       " ('rate-setters', 1),\n",
       " ('reflected', 1),\n",
       " ('changing', 1),\n",
       " ('language', 1),\n",
       " ('post-meeting', 1),\n",
       " ('statement', 1),\n",
       " ('point', 1),\n",
       " ('“further”', 1),\n",
       " ('held', 1),\n",
       " ('before', 1),\n",
       " ('departure', 1),\n",
       " ('Janet', 1),\n",
       " ('Yellen', 1),\n",
       " ('chair', 1),\n",
       " ('outbreak', 1),\n",
       " ('volatility', 1),\n",
       " ('greeted', 1),\n",
       " ('Jay', 1),\n",
       " ('Powell', 1),\n",
       " ('her', 1),\n",
       " ('during', 1),\n",
       " ('days', 1),\n",
       " ('job', 1),\n",
       " ('Policymakers', 1),\n",
       " ('including', 1),\n",
       " ('Bill', 1),\n",
       " ('Dudley', 1),\n",
       " ('New', 1),\n",
       " ('York', 1),\n",
       " ('stressed', 1),\n",
       " ('gyrations', 1),\n",
       " ('equity', 1),\n",
       " ('unlikely', 1),\n",
       " ('shake', 1),\n",
       " ('plans', 1),\n",
       " ('continue', 1),\n",
       " ('programme', 1),\n",
       " ('While', 1),\n",
       " ('January’s', 1),\n",
       " ('deliberations', 1),\n",
       " ('predated', 1),\n",
       " ('worst', 1),\n",
       " ('fluctuations', 1),\n",
       " ('suggests', 1),\n",
       " ('officials', 1),\n",
       " ('confident', 1),\n",
       " ('about', 1),\n",
       " ('Open', 1),\n",
       " ('Market', 1),\n",
       " ('Committee', 1),\n",
       " ('left', 1),\n",
       " ('target', 1),\n",
       " ('range', 1),\n",
       " ('federal', 1),\n",
       " ('hold', 1),\n",
       " ('1.25', 1),\n",
       " ('1.5', 1),\n",
       " ('laying', 1),\n",
       " ('ground', 1),\n",
       " ('move', 1),\n",
       " ('March', 1),\n",
       " ('20-21', 1),\n",
       " ('key', 1),\n",
       " ('question', 1),\n",
       " ('now', 1),\n",
       " ('whether', 1),\n",
       " ('could', 1),\n",
       " ('opt', 1),\n",
       " ('four', 1),\n",
       " ('times', 1),\n",
       " ('rather', 1),\n",
       " ('currently', 1),\n",
       " ('immediate', 1),\n",
       " ('response', 1),\n",
       " ('suggested', 1),\n",
       " ('significantly', 1),\n",
       " ('advance', 1),\n",
       " ('debate', 1),\n",
       " ('yield', 1),\n",
       " ('10-year', 1),\n",
       " ('Treasury', 1),\n",
       " ('declined', 1),\n",
       " ('modestly', 1),\n",
       " ('dollar', 1),\n",
       " ('softened', 1),\n",
       " ('muted', 1),\n",
       " ('futures', 1),\n",
       " ('changed.The', 1),\n",
       " ('collapse.India', 1),\n",
       " ('regained', 1),\n",
       " ('title', 1),\n",
       " ('world’s', 1),\n",
       " ('fastest-growing', 1),\n",
       " ('major', 1),\n",
       " ('after', 1),\n",
       " ('confirmed', 1),\n",
       " ('7', 1),\n",
       " ('overtaking', 1),\n",
       " ('once', 1),\n",
       " ('Data', 1),\n",
       " ('yesterday', 1),\n",
       " ('show', 1),\n",
       " ('final', 1),\n",
       " ('continuing', 1),\n",
       " ('bounceback', 1),\n",
       " ('sharp', 1),\n",
       " ('middle', 1),\n",
       " ('Chinese', 1),\n",
       " ('same', 1),\n",
       " ('Narendra', 1),\n",
       " ('prime', 1),\n",
       " ('ahead', 1),\n",
       " ('general', 1),\n",
       " ('election', 1),\n",
       " ('due', 1),\n",
       " ('news', 1),\n",
       " ('comes', 1),\n",
       " ('welcome', 1),\n",
       " ('relief', 1),\n",
       " ('week', 1),\n",
       " ('administration', 1),\n",
       " ('attacked', 1),\n",
       " ('failing', 1),\n",
       " ('prevent', 1),\n",
       " ('1.8bn', 1),\n",
       " ('fraud', 1),\n",
       " ('state-owned', 1),\n",
       " ('Punjab', 1),\n",
       " ('Piyush', 1),\n",
       " ('Goyal', 1),\n",
       " ('railways', 1),\n",
       " ('seen', 1),\n",
       " ('close', 1),\n",
       " ('welcomed', 1),\n",
       " ('tweeting', 1),\n",
       " ('“India’s', 1),\n",
       " ('continues', 1),\n",
       " ('&', 1),\n",
       " ('sustainably', 1),\n",
       " ('jumps', 1),\n",
       " ('3rd', 1),\n",
       " ('2017-18', 1),\n",
       " ('makes', 1),\n",
       " ('fastest', 1),\n",
       " ('growing', 1),\n",
       " ('large', 1),\n",
       " ('world.”', 1),\n",
       " ('Pronab', 1),\n",
       " ('Sen', 1),\n",
       " ('former', 1),\n",
       " ('chief', 1),\n",
       " ('statistician', 1),\n",
       " ('called', 1),\n",
       " ('“very', 1),\n",
       " ('strong', 1),\n",
       " ('expected”', 1),\n",
       " ('power', 1),\n",
       " ('2014', 1),\n",
       " ('promising', 1),\n",
       " ('reforms', 1),\n",
       " ('help', 1),\n",
       " ('create', 1),\n",
       " ('10m', 1),\n",
       " ('jobs', 1),\n",
       " ('shy', 1),\n",
       " ('estimated', 1),\n",
       " ('13m', 1),\n",
       " ('needs', 1),\n",
       " ('account', 1),\n",
       " ('young', 1),\n",
       " ('people', 1),\n",
       " ('entering', 1),\n",
       " ('workforce', 1),\n",
       " ('each', 1),\n",
       " ('fire', 1),\n",
       " ('sudden', 1),\n",
       " ('decision', 1),\n",
       " ('cancel', 1),\n",
       " ('banknotes', 1),\n",
       " ('followed', 1),\n",
       " ('botched', 1),\n",
       " ('attempt', 1),\n",
       " ('reform', 1),\n",
       " ('complex', 1),\n",
       " ('sales', 1),\n",
       " ('problems', 1),\n",
       " ('arising', 1),\n",
       " ('these', 1),\n",
       " ('helped', 1),\n",
       " ('knock', 1),\n",
       " ('off', 1),\n",
       " ('course', 1),\n",
       " ('fell', 1),\n",
       " ('9.1', 1),\n",
       " ('5.7', 1),\n",
       " ('June', 1),\n",
       " ('Last', 1),\n",
       " ('Arun', 1),\n",
       " ('Jaitley', 1),\n",
       " ('finance', 1),\n",
       " ('attempted', 1),\n",
       " ('mitigate', 1),\n",
       " ('effects', 1),\n",
       " ('included', 1),\n",
       " ('higher', 1),\n",
       " ('minimum', 1),\n",
       " ('prices', 1),\n",
       " ('farmers', 1),\n",
       " ('free', 1),\n",
       " ('health', 1),\n",
       " ('insurance', 1),\n",
       " ('100m', 1),\n",
       " ('poor', 1),\n",
       " ('families', 1),\n",
       " ('reversed', 1),\n",
       " ('third', 1),\n",
       " ('showed', 1),\n",
       " ('improvement', 1),\n",
       " ('con', 1),\n",
       " ('tinued', 1),\n",
       " ('quarter’s', 1),\n",
       " ('boosted', 1),\n",
       " ('particular', 1),\n",
       " ('recovery', 1),\n",
       " ('construction', 1),\n",
       " ('ex', 1),\n",
       " ('panded', 1),\n",
       " ('sectors', 1),\n",
       " ('wake', 1),\n",
       " ('many', 1),\n",
       " ('India’s', 1),\n",
       " ('property', 1),\n",
       " ('having', 1),\n",
       " ('previously', 1),\n",
       " ('paid', 1),\n",
       " ('cash', 1),\n",
       " ('way', 1),\n",
       " ('avoid', 1),\n",
       " ('Manufacturing', 1),\n",
       " ('meanwhile', 1),\n",
       " ('8.1', 1),\n",
       " ('important', 1),\n",
       " ('agricultural', 1),\n",
       " ('sector', 1),\n",
       " ('4.1', 1),\n",
       " ('larger', 1),\n",
       " ('Earlier', 1),\n",
       " ('day', 1),\n",
       " ('rating', 1),\n",
       " ('agency', 1),\n",
       " ('Moody’s', 1),\n",
       " ('7.6', 1),\n",
       " ('“There', 1),\n",
       " ('signs', 1),\n",
       " ('Indian', 1),\n",
       " ('starting', 1),\n",
       " ('recover', 1),\n",
       " ('soft', 1),\n",
       " ('patch', 1),\n",
       " ('attributed', 1),\n",
       " ('negative', 1),\n",
       " ('impact', 1),\n",
       " ('undertaken', 1),\n",
       " ('disruption', 1),\n",
       " ('related', 1),\n",
       " ('year’s', 1),\n",
       " ('rollout', 1),\n",
       " ('Goods', 1),\n",
       " ('Service', 1),\n",
       " ('Tax.”', 1),\n",
       " ('International', 1),\n",
       " ('Monetary', 1),\n",
       " ('Fund', 1),\n",
       " ('7.4', 1),\n",
       " ('7.8', 1),\n",
       " ('2019', 1)]"
      ]
     },
     "execution_count": 78,
     "metadata": {},
     "output_type": "execute_result"
    }
   ],
   "source": [
    "wl_sorted_desc"
   ]
  },
  {
   "cell_type": "code",
   "execution_count": 79,
   "metadata": {},
   "outputs": [
    {
     "data": {
      "text/plain": [
       "<function __main__.<lambda>>"
      ]
     },
     "execution_count": 79,
     "metadata": {},
     "output_type": "execute_result"
    }
   ],
   "source": [
    "lambda w:w[1]"
   ]
  },
  {
   "cell_type": "code",
   "execution_count": 80,
   "metadata": {},
   "outputs": [],
   "source": [
    "def sortfunc(w):\n",
    "    w[1]"
   ]
  },
  {
   "cell_type": "code",
   "execution_count": 81,
   "metadata": {},
   "outputs": [],
   "source": [
    "def sortfunc(w):\n",
    "   return w[1]"
   ]
  },
  {
   "cell_type": "code",
   "execution_count": 1,
   "metadata": {},
   "outputs": [
    {
     "ename": "NameError",
     "evalue": "name 'raw_text' is not defined",
     "output_type": "error",
     "traceback": [
      "\u001b[0;31m---------------------------------------------------------------------------\u001b[0m",
      "\u001b[0;31mNameError\u001b[0m                                 Traceback (most recent call last)",
      "\u001b[0;32m<ipython-input-1-cc4a393ff746>\u001b[0m in \u001b[0;36m<module>\u001b[0;34m()\u001b[0m\n\u001b[0;32m----> 1\u001b[0;31m \u001b[0mraw_text\u001b[0m\u001b[1;33m\u001b[0m\u001b[0m\n\u001b[0m",
      "\u001b[0;31mNameError\u001b[0m: name 'raw_text' is not defined"
     ]
    }
   ],
   "source": [
    "raw_text"
   ]
  },
  {
   "cell_type": "code",
   "execution_count": null,
   "metadata": {},
   "outputs": [],
   "source": [
    "files = PCR(\"C:/Users/Administrator/corpara\",'.*\\.txt')"
   ]
  }
 ],
 "metadata": {
  "kernelspec": {
   "display_name": "Python 3",
   "language": "python",
   "name": "python3"
  },
  "language_info": {
   "codemirror_mode": {
    "name": "ipython",
    "version": 3
   },
   "file_extension": ".py",
   "mimetype": "text/x-python",
   "name": "python",
   "nbconvert_exporter": "python",
   "pygments_lexer": "ipython3",
   "version": "3.6.0"
  }
 },
 "nbformat": 4,
 "nbformat_minor": 2
}
