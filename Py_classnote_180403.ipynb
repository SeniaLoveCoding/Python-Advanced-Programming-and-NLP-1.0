{
 "cells": [
  {
   "cell_type": "code",
   "execution_count": 3,
   "metadata": {},
   "outputs": [],
   "source": [
    "from numpy import *"
   ]
  },
  {
   "cell_type": "code",
   "execution_count": 5,
   "metadata": {},
   "outputs": [],
   "source": [
    "import numpy"
   ]
  },
  {
   "cell_type": "code",
   "execution_count": 8,
   "metadata": {},
   "outputs": [],
   "source": [
    "from numpy import pi"
   ]
  },
  {
   "cell_type": "code",
   "execution_count": 10,
   "metadata": {},
   "outputs": [],
   "source": [
    "from numpy import array,sin"
   ]
  },
  {
   "cell_type": "code",
   "execution_count": 13,
   "metadata": {},
   "outputs": [],
   "source": [
    "a = [i for i in range(1,20)]"
   ]
  },
  {
   "cell_type": "code",
   "execution_count": 14,
   "metadata": {},
   "outputs": [],
   "source": [
    "a = [i for i in range(1,20)]"
   ]
  },
  {
   "cell_type": "code",
   "execution_count": 15,
   "metadata": {},
   "outputs": [],
   "source": [
    "a = [i*pi for i in range(1,20)]"
   ]
  },
  {
   "cell_type": "code",
   "execution_count": 17,
   "metadata": {},
   "outputs": [],
   "source": [
    "a_array = array(a)"
   ]
  },
  {
   "cell_type": "code",
   "execution_count": 19,
   "metadata": {},
   "outputs": [
    {
     "data": {
      "text/plain": [
       "array([ 3.14159265,  6.28318531,  9.42477796, 12.56637061, 15.70796327,\n",
       "       18.84955592, 21.99114858, 25.13274123, 28.27433388, 31.41592654,\n",
       "       34.55751919, 37.69911184, 40.8407045 , 43.98229715, 47.1238898 ,\n",
       "       50.26548246, 53.40707511, 56.54866776, 59.69026042])"
      ]
     },
     "execution_count": 19,
     "metadata": {},
     "output_type": "execute_result"
    }
   ],
   "source": [
    "a_array"
   ]
  },
  {
   "cell_type": "code",
   "execution_count": 21,
   "metadata": {},
   "outputs": [],
   "source": [
    "b= sin(a)"
   ]
  },
  {
   "cell_type": "code",
   "execution_count": 22,
   "metadata": {},
   "outputs": [
    {
     "data": {
      "text/plain": [
       "array([ 1.22464680e-16, -2.44929360e-16,  3.67394040e-16, -4.89858720e-16,\n",
       "        6.12323400e-16, -7.34788079e-16,  8.57252759e-16, -9.79717439e-16,\n",
       "        1.10218212e-15, -1.22464680e-15,  4.89982516e-15, -1.46957616e-15,\n",
       "       -1.96067284e-15, -1.71450552e-15,  5.38968388e-15, -1.95943488e-15,\n",
       "       -1.47081412e-15, -2.20436424e-15,  5.87954260e-15])"
      ]
     },
     "execution_count": 22,
     "metadata": {},
     "output_type": "execute_result"
    }
   ],
   "source": [
    "b"
   ]
  },
  {
   "cell_type": "code",
   "execution_count": 24,
   "metadata": {},
   "outputs": [],
   "source": [
    "%matplotlib inline"
   ]
  },
  {
   "cell_type": "code",
   "execution_count": 27,
   "metadata": {},
   "outputs": [],
   "source": [
    "\n",
    "import matplotlib.pyplot as plt"
   ]
  },
  {
   "cell_type": "code",
   "execution_count": 32,
   "metadata": {},
   "outputs": [
    {
     "data": {
      "text/plain": [
       "[<matplotlib.lines.Line2D at 0x2130bdc9898>]"
      ]
     },
     "execution_count": 32,
     "metadata": {},
     "output_type": "execute_result"
    },
    {
     "data": {
      "image/png": "[encoded data removed]",
      "text/plain": [
       "<matplotlib.figure.Figure at 0x2130bd2a1d0>"
      ]
     },
     "metadata": {},
     "output_type": "display_data"
    }
   ],
   "source": [
    "plt.plot(a,b)"
   ]
  },
  {
   "cell_type": "code",
   "execution_count": 33,
   "metadata": {},
   "outputs": [
    {
     "name": "stdout",
     "output_type": "stream",
     "text": [
      "Help on function linspace in module numpy.core.function_base:\n",
      "\n",
      "linspace(start, stop, num=50, endpoint=True, retstep=False, dtype=None)\n",
      "    Return evenly spaced numbers over a specified interval.\n",
      "    \n",
      "    Returns `num` evenly spaced samples, calculated over the\n",
      "    interval [`start`, `stop`].\n",
      "    \n",
      "    The endpoint of the interval can optionally be excluded.\n",
      "    \n",
      "    Parameters\n",
      "    ----------\n",
      "    start : scalar\n",
      "        The starting value of the sequence.\n",
      "    stop : scalar\n",
      "        The end value of the sequence, unless `endpoint` is set to False.\n",
      "        In that case, the sequence consists of all but the last of ``num + 1``\n",
      "        evenly spaced samples, so that `stop` is excluded.  Note that the step\n",
      "        size changes when `endpoint` is False.\n",
      "    num : int, optional\n",
      "        Number of samples to generate. Default is 50. Must be non-negative.\n",
      "    endpoint : bool, optional\n",
      "        If True, `stop` is the last sample. Otherwise, it is not included.\n",
      "        Default is True.\n",
      "    retstep : bool, optional\n",
      "        If True, return (`samples`, `step`), where `step` is the spacing\n",
      "        between samples.\n",
      "    dtype : dtype, optional\n",
      "        The type of the output array.  If `dtype` is not given, infer the data\n",
      "        type from the other input arguments.\n",
      "    \n",
      "        .. versionadded:: 1.9.0\n",
      "    \n",
      "    Returns\n",
      "    -------\n",
      "    samples : ndarray\n",
      "        There are `num` equally spaced samples in the closed interval\n",
      "        ``[start, stop]`` or the half-open interval ``[start, stop)``\n",
      "        (depending on whether `endpoint` is True or False).\n",
      "    step : float, optional\n",
      "        Only returned if `retstep` is True\n",
      "    \n",
      "        Size of spacing between samples.\n",
      "    \n",
      "    \n",
      "    See Also\n",
      "    --------\n",
      "    arange : Similar to `linspace`, but uses a step size (instead of the\n",
      "             number of samples).\n",
      "    logspace : Samples uniformly distributed in log space.\n",
      "    \n",
      "    Examples\n",
      "    --------\n",
      "    >>> np.linspace(2.0, 3.0, num=5)\n",
      "    array([ 2.  ,  2.25,  2.5 ,  2.75,  3.  ])\n",
      "    >>> np.linspace(2.0, 3.0, num=5, endpoint=False)\n",
      "    array([ 2. ,  2.2,  2.4,  2.6,  2.8])\n",
      "    >>> np.linspace(2.0, 3.0, num=5, retstep=True)\n",
      "    (array([ 2.  ,  2.25,  2.5 ,  2.75,  3.  ]), 0.25)\n",
      "    \n",
      "    Graphical illustration:\n",
      "    \n",
      "    >>> import matplotlib.pyplot as plt\n",
      "    >>> N = 8\n",
      "    >>> y = np.zeros(N)\n",
      "    >>> x1 = np.linspace(0, 10, N, endpoint=True)\n",
      "    >>> x2 = np.linspace(0, 10, N, endpoint=False)\n",
      "    >>> plt.plot(x1, y, 'o')\n",
      "    [<matplotlib.lines.Line2D object at 0x...>]\n",
      "    >>> plt.plot(x2, y + 0.5, 'o')\n",
      "    [<matplotlib.lines.Line2D object at 0x...>]\n",
      "    >>> plt.ylim([-0.5, 1])\n",
      "    (-0.5, 1)\n",
      "    >>> plt.show()\n",
      "\n"
     ]
    }
   ],
   "source": [
    "help (linspace)"
   ]
  },
  {
   "cell_type": "code",
   "execution_count": 35,
   "metadata": {},
   "outputs": [],
   "source": [
    "x=linspace(0,2*pi,21)"
   ]
  },
  {
   "cell_type": "code",
   "execution_count": 38,
   "metadata": {},
   "outputs": [
    {
     "data": {
      "text/plain": [
       "array([0.        , 0.31415927, 0.62831853, 0.9424778 , 1.25663706,\n",
       "       1.57079633, 1.88495559, 2.19911486, 2.51327412, 2.82743339,\n",
       "       3.14159265, 3.45575192, 3.76991118, 4.08407045, 4.39822972,\n",
       "       4.71238898, 5.02654825, 5.34070751, 5.65486678, 5.96902604,\n",
       "       6.28318531])"
      ]
     },
     "execution_count": 38,
     "metadata": {},
     "output_type": "execute_result"
    }
   ],
   "source": [
    "x"
   ]
  },
  {
   "cell_type": "code",
   "execution_count": 42,
   "metadata": {},
   "outputs": [],
   "source": [
    "y = sin(x)"
   ]
  },
  {
   "cell_type": "code",
   "execution_count": 44,
   "metadata": {},
   "outputs": [
    {
     "data": {
      "text/plain": [
       "[<matplotlib.lines.Line2D at 0x2130be9e5f8>]"
      ]
     },
     "execution_count": 44,
     "metadata": {},
     "output_type": "execute_result"
    },
    {
     "data": {
      "image/png": "[encoded data removed]",
      "text/plain": [
       "<matplotlib.figure.Figure at 0x2130be45ac8>"
      ]
     },
     "metadata": {},
     "output_type": "display_data"
    }
   ],
   "source": [
    "plt.plot(x,y)"
   ]
  },
  {
   "cell_type": "code",
   "execution_count": 45,
   "metadata": {},
   "outputs": [
    {
     "data": {
      "text/plain": [
       "['__annotations__',\n",
       " '__call__',\n",
       " '__class__',\n",
       " '__closure__',\n",
       " '__code__',\n",
       " '__defaults__',\n",
       " '__delattr__',\n",
       " '__dict__',\n",
       " '__dir__',\n",
       " '__doc__',\n",
       " '__eq__',\n",
       " '__format__',\n",
       " '__ge__',\n",
       " '__get__',\n",
       " '__getattribute__',\n",
       " '__globals__',\n",
       " '__gt__',\n",
       " '__hash__',\n",
       " '__init__',\n",
       " '__init_subclass__',\n",
       " '__kwdefaults__',\n",
       " '__le__',\n",
       " '__lt__',\n",
       " '__module__',\n",
       " '__name__',\n",
       " '__ne__',\n",
       " '__new__',\n",
       " '__qualname__',\n",
       " '__reduce__',\n",
       " '__reduce_ex__',\n",
       " '__repr__',\n",
       " '__setattr__',\n",
       " '__sizeof__',\n",
       " '__str__',\n",
       " '__subclasshook__']"
      ]
     },
     "execution_count": 45,
     "metadata": {},
     "output_type": "execute_result"
    }
   ],
   "source": [
    "dir(linspace)"
   ]
  },
  {
   "cell_type": "code",
   "execution_count": 46,
   "metadata": {},
   "outputs": [],
   "source": [
    "#在cmd中如何操作\n"
   ]
  },
  {
   "cell_type": "code",
   "execution_count": 48,
   "metadata": {},
   "outputs": [],
   "source": [
    "b = array([2,3,4,5])"
   ]
  },
  {
   "cell_type": "code",
   "execution_count": 50,
   "metadata": {},
   "outputs": [
    {
     "data": {
      "text/plain": [
       "array([3, 4, 5, 6])"
      ]
     },
     "execution_count": 50,
     "metadata": {},
     "output_type": "execute_result"
    }
   ],
   "source": [
    "b+1"
   ]
  },
  {
   "cell_type": "code",
   "execution_count": 52,
   "metadata": {},
   "outputs": [
    {
     "data": {
      "text/plain": [
       "array([ 6.28318531,  9.42477796, 12.56637061, 15.70796327])"
      ]
     },
     "execution_count": 52,
     "metadata": {},
     "output_type": "execute_result"
    }
   ],
   "source": [
    "b*pi"
   ]
  },
  {
   "cell_type": "code",
   "execution_count": 54,
   "metadata": {},
   "outputs": [
    {
     "data": {
      "text/plain": [
       "[3.141592653589793,\n",
       " 6.283185307179586,\n",
       " 9.42477796076938,\n",
       " 12.566370614359172,\n",
       " 15.707963267948966,\n",
       " 18.84955592153876,\n",
       " 21.991148575128552,\n",
       " 25.132741228718345,\n",
       " 28.274333882308138,\n",
       " 31.41592653589793,\n",
       " 34.55751918948772,\n",
       " 37.69911184307752,\n",
       " 40.840704496667314,\n",
       " 43.982297150257104,\n",
       " 47.12388980384689,\n",
       " 50.26548245743669,\n",
       " 53.40707511102649,\n",
       " 56.548667764616276,\n",
       " 59.690260418206066]"
      ]
     },
     "execution_count": 54,
     "metadata": {},
     "output_type": "execute_result"
    }
   ],
   "source": [
    "a"
   ]
  },
  {
   "cell_type": "code",
   "execution_count": 57,
   "metadata": {},
   "outputs": [
    {
     "ename": "ValueError",
     "evalue": "operands could not be broadcast together with shapes (19,) (4,) ",
     "output_type": "error",
     "traceback": [
      "\u001b[1;31m---------------------------------------------------------------------------\u001b[0m",
      "\u001b[1;31mValueError\u001b[0m                                Traceback (most recent call last)",
      "\u001b[1;32m<ipython-input-57-8eac1795676a>\u001b[0m in \u001b[0;36m<module>\u001b[1;34m()\u001b[0m\n\u001b[1;32m----> 1\u001b[1;33m \u001b[0ma\u001b[0m\u001b[1;33m*\u001b[0m\u001b[0mb\u001b[0m\u001b[1;31m#数组和数组无法直接相乘\u001b[0m\u001b[1;33m\u001b[0m\u001b[0m\n\u001b[0m",
      "\u001b[1;31mValueError\u001b[0m: operands could not be broadcast together with shapes (19,) (4,) "
     ]
    }
   ],
   "source": [
    "a*b#数组和数组无法直接相乘"
   ]
  },
  {
   "cell_type": "code",
   "execution_count": 59,
   "metadata": {},
   "outputs": [
    {
     "data": {
      "text/plain": [
       "array([2, 3, 4, 5])"
      ]
     },
     "execution_count": 59,
     "metadata": {},
     "output_type": "execute_result"
    }
   ],
   "source": [
    "b"
   ]
  },
  {
   "cell_type": "code",
   "execution_count": 61,
   "metadata": {},
   "outputs": [],
   "source": [
    "a=b+1"
   ]
  },
  {
   "cell_type": "code",
   "execution_count": 63,
   "metadata": {},
   "outputs": [
    {
     "data": {
      "text/plain": [
       "array([3, 4, 5, 6])"
      ]
     },
     "execution_count": 63,
     "metadata": {},
     "output_type": "execute_result"
    }
   ],
   "source": [
    "a"
   ]
  },
  {
   "cell_type": "code",
   "execution_count": 66,
   "metadata": {},
   "outputs": [
    {
     "data": {
      "text/plain": [
       "array([ 6, 12, 20, 30])"
      ]
     },
     "execution_count": 66,
     "metadata": {},
     "output_type": "execute_result"
    }
   ],
   "source": [
    "a*b#向量相乘"
   ]
  },
  {
   "cell_type": "code",
   "execution_count": 68,
   "metadata": {},
   "outputs": [
    {
     "data": {
      "text/plain": [
       "array([   9,   64,  625, 7776], dtype=int32)"
      ]
     },
     "execution_count": 68,
     "metadata": {},
     "output_type": "execute_result"
    }
   ],
   "source": [
    "a**b#幂相乘"
   ]
  },
  {
   "cell_type": "code",
   "execution_count": 70,
   "metadata": {},
   "outputs": [
    {
     "data": {
      "text/plain": [
       "3"
      ]
     },
     "execution_count": 70,
     "metadata": {},
     "output_type": "execute_result"
    }
   ],
   "source": [
    "a[0]"
   ]
  },
  {
   "cell_type": "code",
   "execution_count": 71,
   "metadata": {},
   "outputs": [
    {
     "data": {
      "text/plain": [
       "(4,)"
      ]
     },
     "execution_count": 71,
     "metadata": {},
     "output_type": "execute_result"
    }
   ],
   "source": [
    "a.shape"
   ]
  },
  {
   "cell_type": "code",
   "execution_count": 72,
   "metadata": {},
   "outputs": [],
   "source": [
    "c=a+a"
   ]
  },
  {
   "cell_type": "code",
   "execution_count": 73,
   "metadata": {},
   "outputs": [
    {
     "data": {
      "text/plain": [
       "array([ 6,  8, 10, 12])"
      ]
     },
     "execution_count": 73,
     "metadata": {},
     "output_type": "execute_result"
    }
   ],
   "source": [
    "c"
   ]
  },
  {
   "cell_type": "code",
   "execution_count": 74,
   "metadata": {},
   "outputs": [],
   "source": [
    "c.shape = 2,2"
   ]
  },
  {
   "cell_type": "code",
   "execution_count": 75,
   "metadata": {},
   "outputs": [
    {
     "data": {
      "text/plain": [
       "array([[ 6,  8],\n",
       "       [10, 12]])"
      ]
     },
     "execution_count": 75,
     "metadata": {},
     "output_type": "execute_result"
    }
   ],
   "source": [
    "c"
   ]
  },
  {
   "cell_type": "code",
   "execution_count": 77,
   "metadata": {},
   "outputs": [],
   "source": [
    "c.shape = 1,4#4行1列"
   ]
  },
  {
   "cell_type": "code",
   "execution_count": 78,
   "metadata": {},
   "outputs": [
    {
     "data": {
      "text/plain": [
       "array([[ 6,  8, 10, 12]])"
      ]
     },
     "execution_count": 78,
     "metadata": {},
     "output_type": "execute_result"
    }
   ],
   "source": [
    "c"
   ]
  },
  {
   "cell_type": "code",
   "execution_count": 79,
   "metadata": {},
   "outputs": [],
   "source": [
    "c.shape = 4,"
   ]
  },
  {
   "cell_type": "code",
   "execution_count": 80,
   "metadata": {},
   "outputs": [
    {
     "data": {
      "text/plain": [
       "array([ 6,  8, 10, 12])"
      ]
     },
     "execution_count": 80,
     "metadata": {},
     "output_type": "execute_result"
    }
   ],
   "source": [
    "c"
   ]
  },
  {
   "cell_type": "code",
   "execution_count": 81,
   "metadata": {},
   "outputs": [],
   "source": [
    "d=cos(c)"
   ]
  },
  {
   "cell_type": "code",
   "execution_count": 82,
   "metadata": {},
   "outputs": [
    {
     "data": {
      "text/plain": [
       "array([ 0.96017029, -0.14550003, -0.83907153,  0.84385396])"
      ]
     },
     "execution_count": 82,
     "metadata": {},
     "output_type": "execute_result"
    }
   ],
   "source": [
    "d"
   ]
  },
  {
   "cell_type": "code",
   "execution_count": 83,
   "metadata": {},
   "outputs": [
    {
     "data": {
      "text/plain": [
       "array([False, False,  True,  True])"
      ]
     },
     "execution_count": 83,
     "metadata": {},
     "output_type": "execute_result"
    }
   ],
   "source": [
    "c>=10"
   ]
  },
  {
   "cell_type": "code",
   "execution_count": 85,
   "metadata": {},
   "outputs": [],
   "source": [
    "x = linspace(0,2*pi,21)"
   ]
  },
  {
   "cell_type": "code",
   "execution_count": 86,
   "metadata": {},
   "outputs": [],
   "source": [
    "x = linspace(0,2*pi,63)"
   ]
  },
  {
   "cell_type": "code",
   "execution_count": 87,
   "metadata": {},
   "outputs": [
    {
     "data": {
      "text/plain": [
       "[<matplotlib.lines.Line2D at 0x2130bf0bc50>,\n",
       " <matplotlib.lines.Line2D at 0x2130bf0be10>]"
      ]
     },
     "execution_count": 87,
     "metadata": {},
     "output_type": "execute_result"
    },
    {
     "data": {
      "image/png": "[encoded data removed]",
      "text/plain": [
       "<matplotlib.figure.Figure at 0x2130bea61d0>"
      ]
     },
     "metadata": {},
     "output_type": "display_data"
    }
   ],
   "source": [
    "plt.plot(x,sin(x),x,sin(2*x))"
   ]
  },
  {
   "cell_type": "code",
   "execution_count": 88,
   "metadata": {},
   "outputs": [
    {
     "data": {
      "text/plain": [
       "[<matplotlib.lines.Line2D at 0x2130bf72f60>]"
      ]
     },
     "execution_count": 88,
     "metadata": {},
     "output_type": "execute_result"
    },
    {
     "data": {
      "image/png": "[encoded data removed]",
      "text/plain": [
       "<matplotlib.figure.Figure at 0x2130be5ec88>"
      ]
     },
     "metadata": {},
     "output_type": "display_data"
    }
   ],
   "source": [
    "plt.plot(x,cos(x),'r-')"
   ]
  },
  {
   "cell_type": "code",
   "execution_count": 90,
   "metadata": {},
   "outputs": [
    {
     "data": {
      "text/plain": [
       "[<matplotlib.lines.Line2D at 0x2130c042d30>]"
      ]
     },
     "execution_count": 90,
     "metadata": {},
     "output_type": "execute_result"
    },
    {
     "data": {
      "image/png": "[encoded data removed]",
      "text/plain": [
       "<matplotlib.figure.Figure at 0x2130bff7f60>"
      ]
     },
     "metadata": {},
     "output_type": "display_data"
    }
   ],
   "source": [
    "plt.plot(x,cos(x),'r-^')"
   ]
  },
  {
   "cell_type": "code",
   "execution_count": 92,
   "metadata": {},
   "outputs": [
    {
     "data": {
      "text/plain": [
       "[<matplotlib.lines.Line2D at 0x2130d0e91d0>,\n",
       " <matplotlib.lines.Line2D at 0x2130d0e9358>]"
      ]
     },
     "execution_count": 92,
     "metadata": {},
     "output_type": "execute_result"
    },
    {
     "data": {
      "image/png": "[encoded data removed]",
      "text/plain": [
       "<matplotlib.figure.Figure at 0x2130c089470>"
      ]
     },
     "metadata": {},
     "output_type": "display_data"
    }
   ],
   "source": [
    "plt.plot(x,sin(x),'b-o',x,sin(2*x),'r-^')"
   ]
  },
  {
   "cell_type": "code",
   "execution_count": 95,
   "metadata": {},
   "outputs": [],
   "source": [
    "import random"
   ]
  },
  {
   "cell_type": "code",
   "execution_count": 96,
   "metadata": {},
   "outputs": [
    {
     "name": "stdout",
     "output_type": "stream",
     "text": [
      "Help on built-in function random:\n",
      "\n",
      "random(...) method of random.Random instance\n",
      "    random() -> x in the interval [0, 1).\n",
      "\n"
     ]
    }
   ],
   "source": [
    "help(random.random)"
   ]
  },
  {
   "cell_type": "code",
   "execution_count": 98,
   "metadata": {},
   "outputs": [
    {
     "ename": "TypeError",
     "evalue": "random() takes no arguments (1 given)",
     "output_type": "error",
     "traceback": [
      "\u001b[1;31m---------------------------------------------------------------------------\u001b[0m",
      "\u001b[1;31mTypeError\u001b[0m                                 Traceback (most recent call last)",
      "\u001b[1;32m<ipython-input-98-d6adf3ea6fce>\u001b[0m in \u001b[0;36m<module>\u001b[1;34m()\u001b[0m\n\u001b[1;32m----> 1\u001b[1;33m \u001b[0mx\u001b[0m \u001b[1;33m=\u001b[0m \u001b[0mrandom\u001b[0m\u001b[1;33m.\u001b[0m\u001b[0mrandom\u001b[0m\u001b[1;33m(\u001b[0m\u001b[1;36m200\u001b[0m\u001b[1;33m)\u001b[0m\u001b[1;33m\u001b[0m\u001b[0m\n\u001b[0m",
      "\u001b[1;31mTypeError\u001b[0m: random() takes no arguments (1 given)"
     ]
    }
   ],
   "source": [
    "x = random.random(200)"
   ]
  },
  {
   "cell_type": "code",
   "execution_count": 99,
   "metadata": {},
   "outputs": [],
   "source": [
    "x = linspace(0,5)"
   ]
  },
  {
   "cell_type": "code",
   "execution_count": 100,
   "metadata": {},
   "outputs": [],
   "source": [
    "x = array([i for i in range(1,50)])"
   ]
  },
  {
   "cell_type": "code",
   "execution_count": 101,
   "metadata": {},
   "outputs": [
    {
     "data": {
      "text/plain": [
       "[<matplotlib.lines.Line2D at 0x2130d15aa58>]"
      ]
     },
     "execution_count": 101,
     "metadata": {},
     "output_type": "execute_result"
    },
    {
     "data": {
      "image/png": "[encoded data removed]",
      "text/plain": [
       "<matplotlib.figure.Figure at 0x2130d0d5518>"
      ]
     },
     "metadata": {},
     "output_type": "display_data"
    }
   ],
   "source": [
    "plt.plot(x,x**x)"
   ]
  },
  {
   "cell_type": "code",
   "execution_count": 102,
   "metadata": {},
   "outputs": [
    {
     "data": {
      "text/plain": [
       "[<matplotlib.lines.Line2D at 0x2130d1bb2e8>]"
      ]
     },
     "execution_count": 102,
     "metadata": {},
     "output_type": "execute_result"
    },
    {
     "data": {
      "image/png": "[encoded data removed]",
      "text/plain": [
       "<matplotlib.figure.Figure at 0x2130d1390b8>"
      ]
     },
     "metadata": {},
     "output_type": "display_data"
    }
   ],
   "source": [
    "plt.plot(x,x**2)"
   ]
  },
  {
   "cell_type": "code",
   "execution_count": 103,
   "metadata": {},
   "outputs": [
    {
     "data": {
      "text/plain": [
       "array([3, 4, 5, 6])"
      ]
     },
     "execution_count": 103,
     "metadata": {},
     "output_type": "execute_result"
    }
   ],
   "source": [
    "a"
   ]
  },
  {
   "cell_type": "code",
   "execution_count": 104,
   "metadata": {},
   "outputs": [
    {
     "data": {
      "text/plain": [
       "(array([3, 4, 5, 6]), numpy.dtype)"
      ]
     },
     "execution_count": 104,
     "metadata": {},
     "output_type": "execute_result"
    }
   ],
   "source": [
    "a,dtype"
   ]
  },
  {
   "cell_type": "code",
   "execution_count": 106,
   "metadata": {},
   "outputs": [
    {
     "data": {
      "text/plain": [
       "dtype('int32')"
      ]
     },
     "execution_count": 106,
     "metadata": {},
     "output_type": "execute_result"
    }
   ],
   "source": [
    "a.dtype"
   ]
  },
  {
   "cell_type": "code",
   "execution_count": 108,
   "metadata": {},
   "outputs": [
    {
     "data": {
      "text/plain": [
       "['T',\n",
       " '__abs__',\n",
       " '__add__',\n",
       " '__and__',\n",
       " '__array__',\n",
       " '__array_finalize__',\n",
       " '__array_interface__',\n",
       " '__array_prepare__',\n",
       " '__array_priority__',\n",
       " '__array_struct__',\n",
       " '__array_ufunc__',\n",
       " '__array_wrap__',\n",
       " '__bool__',\n",
       " '__class__',\n",
       " '__complex__',\n",
       " '__contains__',\n",
       " '__copy__',\n",
       " '__deepcopy__',\n",
       " '__delattr__',\n",
       " '__delitem__',\n",
       " '__dir__',\n",
       " '__divmod__',\n",
       " '__doc__',\n",
       " '__eq__',\n",
       " '__float__',\n",
       " '__floordiv__',\n",
       " '__format__',\n",
       " '__ge__',\n",
       " '__getattribute__',\n",
       " '__getitem__',\n",
       " '__gt__',\n",
       " '__hash__',\n",
       " '__iadd__',\n",
       " '__iand__',\n",
       " '__ifloordiv__',\n",
       " '__ilshift__',\n",
       " '__imatmul__',\n",
       " '__imod__',\n",
       " '__imul__',\n",
       " '__index__',\n",
       " '__init__',\n",
       " '__init_subclass__',\n",
       " '__int__',\n",
       " '__invert__',\n",
       " '__ior__',\n",
       " '__ipow__',\n",
       " '__irshift__',\n",
       " '__isub__',\n",
       " '__iter__',\n",
       " '__itruediv__',\n",
       " '__ixor__',\n",
       " '__le__',\n",
       " '__len__',\n",
       " '__lshift__',\n",
       " '__lt__',\n",
       " '__matmul__',\n",
       " '__mod__',\n",
       " '__mul__',\n",
       " '__ne__',\n",
       " '__neg__',\n",
       " '__new__',\n",
       " '__or__',\n",
       " '__pos__',\n",
       " '__pow__',\n",
       " '__radd__',\n",
       " '__rand__',\n",
       " '__rdivmod__',\n",
       " '__reduce__',\n",
       " '__reduce_ex__',\n",
       " '__repr__',\n",
       " '__rfloordiv__',\n",
       " '__rlshift__',\n",
       " '__rmatmul__',\n",
       " '__rmod__',\n",
       " '__rmul__',\n",
       " '__ror__',\n",
       " '__rpow__',\n",
       " '__rrshift__',\n",
       " '__rshift__',\n",
       " '__rsub__',\n",
       " '__rtruediv__',\n",
       " '__rxor__',\n",
       " '__setattr__',\n",
       " '__setitem__',\n",
       " '__setstate__',\n",
       " '__sizeof__',\n",
       " '__str__',\n",
       " '__sub__',\n",
       " '__subclasshook__',\n",
       " '__truediv__',\n",
       " '__xor__',\n",
       " 'all',\n",
       " 'any',\n",
       " 'argmax',\n",
       " 'argmin',\n",
       " 'argpartition',\n",
       " 'argsort',\n",
       " 'astype',\n",
       " 'base',\n",
       " 'byteswap',\n",
       " 'choose',\n",
       " 'clip',\n",
       " 'compress',\n",
       " 'conj',\n",
       " 'conjugate',\n",
       " 'copy',\n",
       " 'ctypes',\n",
       " 'cumprod',\n",
       " 'cumsum',\n",
       " 'data',\n",
       " 'diagonal',\n",
       " 'dot',\n",
       " 'dtype',\n",
       " 'dump',\n",
       " 'dumps',\n",
       " 'fill',\n",
       " 'flags',\n",
       " 'flat',\n",
       " 'flatten',\n",
       " 'getfield',\n",
       " 'imag',\n",
       " 'item',\n",
       " 'itemset',\n",
       " 'itemsize',\n",
       " 'max',\n",
       " 'mean',\n",
       " 'min',\n",
       " 'nbytes',\n",
       " 'ndim',\n",
       " 'newbyteorder',\n",
       " 'nonzero',\n",
       " 'partition',\n",
       " 'prod',\n",
       " 'ptp',\n",
       " 'put',\n",
       " 'ravel',\n",
       " 'real',\n",
       " 'repeat',\n",
       " 'reshape',\n",
       " 'resize',\n",
       " 'round',\n",
       " 'searchsorted',\n",
       " 'setfield',\n",
       " 'setflags',\n",
       " 'shape',\n",
       " 'size',\n",
       " 'sort',\n",
       " 'squeeze',\n",
       " 'std',\n",
       " 'strides',\n",
       " 'sum',\n",
       " 'swapaxes',\n",
       " 'take',\n",
       " 'tobytes',\n",
       " 'tofile',\n",
       " 'tolist',\n",
       " 'tostring',\n",
       " 'trace',\n",
       " 'transpose',\n",
       " 'var',\n",
       " 'view']"
      ]
     },
     "execution_count": 108,
     "metadata": {},
     "output_type": "execute_result"
    }
   ],
   "source": [
    "dir(a)"
   ]
  },
  {
   "cell_type": "code",
   "execution_count": 112,
   "metadata": {},
   "outputs": [
    {
     "data": {
      "text/plain": [
       "16"
      ]
     },
     "execution_count": 112,
     "metadata": {},
     "output_type": "execute_result"
    }
   ],
   "source": [
    "a.nbytes#字节"
   ]
  },
  {
   "cell_type": "code",
   "execution_count": 113,
   "metadata": {},
   "outputs": [
    {
     "data": {
      "text/plain": [
       "1"
      ]
     },
     "execution_count": 113,
     "metadata": {},
     "output_type": "execute_result"
    }
   ],
   "source": [
    "a.ndim#维度"
   ]
  },
  {
   "cell_type": "code",
   "execution_count": 114,
   "metadata": {},
   "outputs": [],
   "source": [
    "a.shape = 2,2"
   ]
  },
  {
   "cell_type": "code",
   "execution_count": 115,
   "metadata": {},
   "outputs": [
    {
     "data": {
      "text/plain": [
       "2"
      ]
     },
     "execution_count": 115,
     "metadata": {},
     "output_type": "execute_result"
    }
   ],
   "source": [
    "a.ndim"
   ]
  },
  {
   "cell_type": "code",
   "execution_count": 116,
   "metadata": {},
   "outputs": [
    {
     "data": {
      "text/plain": [
       "array([[3, 4],\n",
       "       [5, 6]])"
      ]
     },
     "execution_count": 116,
     "metadata": {},
     "output_type": "execute_result"
    }
   ],
   "source": [
    "a"
   ]
  },
  {
   "cell_type": "code",
   "execution_count": 117,
   "metadata": {},
   "outputs": [],
   "source": [
    "a.shape =4,"
   ]
  },
  {
   "cell_type": "code",
   "execution_count": 118,
   "metadata": {},
   "outputs": [
    {
     "data": {
      "text/plain": [
       "array([3, 4, 5, 6])"
      ]
     },
     "execution_count": 118,
     "metadata": {},
     "output_type": "execute_result"
    }
   ],
   "source": [
    "a"
   ]
  },
  {
   "cell_type": "code",
   "execution_count": 119,
   "metadata": {},
   "outputs": [
    {
     "data": {
      "text/plain": [
       "array([4, 5])"
      ]
     },
     "execution_count": 119,
     "metadata": {},
     "output_type": "execute_result"
    }
   ],
   "source": [
    "a[1:3]"
   ]
  },
  {
   "cell_type": "code",
   "execution_count": 121,
   "metadata": {},
   "outputs": [],
   "source": [
    "a = array([[1,2,3],[1,2,3],[1,2,3]])"
   ]
  },
  {
   "cell_type": "code",
   "execution_count": 122,
   "metadata": {},
   "outputs": [
    {
     "data": {
      "text/plain": [
       "array([[1, 2, 3],\n",
       "       [1, 2, 3],\n",
       "       [1, 2, 3]])"
      ]
     },
     "execution_count": 122,
     "metadata": {},
     "output_type": "execute_result"
    }
   ],
   "source": [
    "a"
   ]
  },
  {
   "cell_type": "code",
   "execution_count": 123,
   "metadata": {},
   "outputs": [
    {
     "data": {
      "text/plain": [
       "(3, 3)"
      ]
     },
     "execution_count": 123,
     "metadata": {},
     "output_type": "execute_result"
    }
   ],
   "source": [
    "a.shape"
   ]
  },
  {
   "cell_type": "code",
   "execution_count": 126,
   "metadata": {},
   "outputs": [
    {
     "ename": "IndexError",
     "evalue": "index 3 is out of bounds for axis 1 with size 3",
     "output_type": "error",
     "traceback": [
      "\u001b[1;31m---------------------------------------------------------------------------\u001b[0m",
      "\u001b[1;31mIndexError\u001b[0m                                Traceback (most recent call last)",
      "\u001b[1;32m<ipython-input-126-d87d1a691872>\u001b[0m in \u001b[0;36m<module>\u001b[1;34m()\u001b[0m\n\u001b[1;32m----> 1\u001b[1;33m \u001b[0ma\u001b[0m\u001b[1;33m[\u001b[0m\u001b[1;36m1\u001b[0m\u001b[1;33m,\u001b[0m\u001b[1;36m3\u001b[0m\u001b[1;33m]\u001b[0m\u001b[1;31m#chaoguozuidasuoyin\u001b[0m\u001b[1;33m\u001b[0m\u001b[0m\n\u001b[0m",
      "\u001b[1;31mIndexError\u001b[0m: index 3 is out of bounds for axis 1 with size 3"
     ]
    }
   ],
   "source": [
    "a[1,3]#chaoguozuidasuoyin"
   ]
  },
  {
   "cell_type": "code",
   "execution_count": 127,
   "metadata": {},
   "outputs": [
    {
     "data": {
      "text/plain": [
       "2"
      ]
     },
     "execution_count": 127,
     "metadata": {},
     "output_type": "execute_result"
    }
   ],
   "source": [
    "a[1,1]"
   ]
  },
  {
   "cell_type": "code",
   "execution_count": 139,
   "metadata": {},
   "outputs": [],
   "source": [
    "a = array([[0,1,2,3,4,5],[0,1,2,3,4,5],[0,11,12,13,14,15],[0,21,22,23,24,25],[0,1,2,3,4,6]])"
   ]
  },
  {
   "cell_type": "code",
   "execution_count": 141,
   "metadata": {},
   "outputs": [
    {
     "data": {
      "text/plain": [
       "array([[ 0, 11, 12, 13, 14, 15],\n",
       "       [ 0, 21, 22, 23, 24, 25]])"
      ]
     },
     "execution_count": 141,
     "metadata": {},
     "output_type": "execute_result"
    }
   ],
   "source": [
    "a[2:4]"
   ]
  },
  {
   "cell_type": "code",
   "execution_count": 140,
   "metadata": {},
   "outputs": [
    {
     "data": {
      "text/plain": [
       "array([[12, 13, 14],\n",
       "       [22, 23, 24]])"
      ]
     },
     "execution_count": 140,
     "metadata": {},
     "output_type": "execute_result"
    }
   ],
   "source": [
    "a[2:4,2:5]"
   ]
  },
  {
   "cell_type": "code",
   "execution_count": 144,
   "metadata": {},
   "outputs": [
    {
     "data": {
      "text/plain": [
       "array([[ 0, 11, 12, 13, 14, 15],\n",
       "       [ 0, 21, 22, 23, 24, 25]])"
      ]
     },
     "execution_count": 144,
     "metadata": {},
     "output_type": "execute_result"
    }
   ],
   "source": [
    "a[2:4,:]"
   ]
  },
  {
   "cell_type": "code",
   "execution_count": 145,
   "metadata": {},
   "outputs": [],
   "source": [
    "a = array([[0,1,2,3,4,5],[0,71,72,73,74,75],[0,11,12,13,14,15],[0,21,22,23,24,25],[0,31,32,33,34,36]])"
   ]
  },
  {
   "cell_type": "code",
   "execution_count": 146,
   "metadata": {},
   "outputs": [
    {
     "data": {
      "text/plain": [
       "array([ 0, 11, 12, 13, 14, 15])"
      ]
     },
     "execution_count": 146,
     "metadata": {},
     "output_type": "execute_result"
    }
   ],
   "source": [
    "a[2,:]"
   ]
  },
  {
   "cell_type": "code",
   "execution_count": 147,
   "metadata": {},
   "outputs": [
    {
     "data": {
      "text/plain": [
       "array([ 3, 73, 13, 23, 33])"
      ]
     },
     "execution_count": 147,
     "metadata": {},
     "output_type": "execute_result"
    }
   ],
   "source": [
    "a[:,3]"
   ]
  },
  {
   "cell_type": "code",
   "execution_count": 151,
   "metadata": {},
   "outputs": [
    {
     "data": {
      "text/plain": [
       "array([[ 0,  1,  2,  3,  4,  5],\n",
       "       [ 0, 11, 12, 13, 14, 15],\n",
       "       [ 0, 31, 32, 33, 34, 36]])"
      ]
     },
     "execution_count": 151,
     "metadata": {},
     "output_type": "execute_result"
    }
   ],
   "source": [
    "a[[0,2,4]]#横行"
   ]
  },
  {
   "cell_type": "code",
   "execution_count": 152,
   "metadata": {},
   "outputs": [],
   "source": [
    "label = ['verb','noun','adj','prep']"
   ]
  },
  {
   "cell_type": "code",
   "execution_count": 153,
   "metadata": {},
   "outputs": [],
   "source": [
    "size = [30,30,25,25]"
   ]
  },
  {
   "cell_type": "code",
   "execution_count": 154,
   "metadata": {},
   "outputs": [],
   "source": [
    "color = ['red','green','blue','gold']"
   ]
  },
  {
   "cell_type": "code",
   "execution_count": 156,
   "metadata": {},
   "outputs": [
    {
     "data": {
      "text/plain": [
       "([<matplotlib.patches.Wedge at 0x2130d240208>,\n",
       "  <matplotlib.patches.Wedge at 0x2130d240710>,\n",
       "  <matplotlib.patches.Wedge at 0x2130d240c50>,\n",
       "  <matplotlib.patches.Wedge at 0x2130d2481d0>],\n",
       " [Text(0.720347,0.831325,'verb'),\n",
       "  Text(-0.925379,0.594705,'noun'),\n",
       "  Text(-0.594705,-0.925379,'adj'),\n",
       "  Text(0.831325,-0.720347,'prep')])"
      ]
     },
     "execution_count": 156,
     "metadata": {},
     "output_type": "execute_result"
    },
    {
     "data": {
      "image/png": "[encoded data removed]",
      "text/plain": [
       "<matplotlib.figure.Figure at 0x2130d1deb70>"
      ]
     },
     "metadata": {},
     "output_type": "display_data"
    }
   ],
   "source": [
    "plt.pie(size,labels = label,colors=color)"
   ]
  },
  {
   "cell_type": "code",
   "execution_count": null,
   "metadata": {},
   "outputs": [],
   "source": [
    "from nltk.book import *"
   ]
  },
  {
   "cell_type": "code",
   "execution_count": 158,
   "metadata": {},
   "outputs": [
    {
     "ename": "NameError",
     "evalue": "name 'text1' is not defined",
     "output_type": "error",
     "traceback": [
      "\u001b[1;31m---------------------------------------------------------------------------\u001b[0m",
      "\u001b[1;31mNameError\u001b[0m                                 Traceback (most recent call last)",
      "\u001b[1;32m<ipython-input-158-aecf5455a8ad>\u001b[0m in \u001b[0;36m<module>\u001b[1;34m()\u001b[0m\n\u001b[1;32m----> 1\u001b[1;33m \u001b[0mtext1\u001b[0m\u001b[1;33m\u001b[0m\u001b[0m\n\u001b[0m",
      "\u001b[1;31mNameError\u001b[0m: name 'text1' is not defined"
     ]
    }
   ],
   "source": [
    "text1"
   ]
  },
  {
   "cell_type": "code",
   "execution_count": 159,
   "metadata": {},
   "outputs": [
    {
     "ename": "NameError",
     "evalue": "name 'text1' is not defined",
     "output_type": "error",
     "traceback": [
      "\u001b[1;31m---------------------------------------------------------------------------\u001b[0m",
      "\u001b[1;31mNameError\u001b[0m                                 Traceback (most recent call last)",
      "\u001b[1;32m<ipython-input-159-449c61b96f2b>\u001b[0m in \u001b[0;36m<module>\u001b[1;34m()\u001b[0m\n\u001b[1;32m----> 1\u001b[1;33m \u001b[0mdir\u001b[0m\u001b[1;33m(\u001b[0m\u001b[0mtext1\u001b[0m\u001b[1;33m)\u001b[0m\u001b[1;33m\u001b[0m\u001b[0m\n\u001b[0m",
      "\u001b[1;31mNameError\u001b[0m: name 'text1' is not defined"
     ]
    }
   ],
   "source": [
    "dir(text1)"
   ]
  },
  {
   "cell_type": "code",
   "execution_count": 160,
   "metadata": {},
   "outputs": [
    {
     "ename": "ImportError",
     "evalue": "cannot import name 'work_tokenize'",
     "output_type": "error",
     "traceback": [
      "\u001b[1;31m---------------------------------------------------------------------------\u001b[0m",
      "\u001b[1;31mImportError\u001b[0m                               Traceback (most recent call last)",
      "\u001b[1;32m<ipython-input-160-ebf3c356c27e>\u001b[0m in \u001b[0;36m<module>\u001b[1;34m()\u001b[0m\n\u001b[1;32m----> 1\u001b[1;33m \u001b[1;32mfrom\u001b[0m \u001b[0mnltk\u001b[0m \u001b[1;32mimport\u001b[0m \u001b[0mwork_tokenize\u001b[0m\u001b[1;33m,\u001b[0m \u001b[0mText\u001b[0m\u001b[1;33m\u001b[0m\u001b[0m\n\u001b[0m",
      "\u001b[1;31mImportError\u001b[0m: cannot import name 'work_tokenize'"
     ]
    }
   ],
   "source": [
    "from nltk import work_tokenize, Text"
   ]
  },
  {
   "cell_type": "code",
   "execution_count": null,
   "metadata": {},
   "outputs": [],
   "source": [
    "from nltk.corpus import PlaintextCorpusReader as PCR"
   ]
  },
  {
   "cell_type": "code",
   "execution_count": null,
   "metadata": {},
   "outputs": [],
   "source": [
    "files = PCR(\"C:/Users/w/corpara\",'.*\\.txt')"
   ]
  },
  {
   "cell_type": "code",
   "execution_count": 168,
   "metadata": {},
   "outputs": [
    {
     "ename": "NameError",
     "evalue": "name 'files' is not defined",
     "output_type": "error",
     "traceback": [
      "\u001b[1;31m---------------------------------------------------------------------------\u001b[0m",
      "\u001b[1;31mNameError\u001b[0m                                 Traceback (most recent call last)",
      "\u001b[1;32m<ipython-input-168-21b17148ebb2>\u001b[0m in \u001b[0;36m<module>\u001b[1;34m()\u001b[0m\n\u001b[1;32m----> 1\u001b[1;33m \u001b[0mfiles\u001b[0m\u001b[1;33m.\u001b[0m\u001b[0mfileids\u001b[0m\u001b[1;33m(\u001b[0m\u001b[1;33m)\u001b[0m\u001b[1;33m\u001b[0m\u001b[0m\n\u001b[0m",
      "\u001b[1;31mNameError\u001b[0m: name 'files' is not defined"
     ]
    }
   ],
   "source": [
    "files.fileids()"
   ]
  },
  {
   "cell_type": "code",
   "execution_count": 161,
   "metadata": {},
   "outputs": [
    {
     "ename": "NameError",
     "evalue": "name 'raw_text' is not defined",
     "output_type": "error",
     "traceback": [
      "\u001b[1;31m---------------------------------------------------------------------------\u001b[0m",
      "\u001b[1;31mNameError\u001b[0m                                 Traceback (most recent call last)",
      "\u001b[1;32m<ipython-input-161-23d5088daa3b>\u001b[0m in \u001b[0;36m<module>\u001b[1;34m()\u001b[0m\n\u001b[1;32m----> 1\u001b[1;33m \u001b[0mparas\u001b[0m \u001b[1;33m=\u001b[0m \u001b[0mraw_text\u001b[0m\u001b[1;33m.\u001b[0m\u001b[0msplit\u001b[0m\u001b[1;33m\u001b[0m\u001b[0m\n\u001b[0m",
      "\u001b[1;31mNameError\u001b[0m: name 'raw_text' is not defined"
     ]
    }
   ],
   "source": [
    "paras = raw_text.split('\\n')"
   ]
  },
  {
   "cell_type": "code",
   "execution_count": null,
   "metadata": {},
   "outputs": [],
   "source": [
    "paras"
   ]
  },
  {
   "cell_type": "code",
   "execution_count": 162,
   "metadata": {},
   "outputs": [],
   "source": [
    "from nltk.tokenize import sent_tokenize"
   ]
  },
  {
   "cell_type": "code",
   "execution_count": 163,
   "metadata": {},
   "outputs": [
    {
     "ename": "NameError",
     "evalue": "name 'raw_texts' is not defined",
     "output_type": "error",
     "traceback": [
      "\u001b[1;31m---------------------------------------------------------------------------\u001b[0m",
      "\u001b[1;31mNameError\u001b[0m                                 Traceback (most recent call last)",
      "\u001b[1;32m<ipython-input-163-fc8ea6fb894f>\u001b[0m in \u001b[0;36m<module>\u001b[1;34m()\u001b[0m\n\u001b[1;32m----> 1\u001b[1;33m \u001b[0msents\u001b[0m \u001b[1;33m=\u001b[0m \u001b[0msent_tokenize\u001b[0m\u001b[1;33m(\u001b[0m\u001b[0mraw_texts\u001b[0m\u001b[1;33m)\u001b[0m\u001b[1;33m\u001b[0m\u001b[0m\n\u001b[0m",
      "\u001b[1;31mNameError\u001b[0m: name 'raw_texts' is not defined"
     ]
    }
   ],
   "source": [
    "sents = sent_tokenize(raw_texts)"
   ]
  },
  {
   "cell_type": "code",
   "execution_count": 164,
   "metadata": {},
   "outputs": [],
   "source": [
    "from nltk.tokenize import word_tokenize"
   ]
  },
  {
   "cell_type": "code",
   "execution_count": 165,
   "metadata": {},
   "outputs": [
    {
     "ename": "NameError",
     "evalue": "name 'raw_text' is not defined",
     "output_type": "error",
     "traceback": [
      "\u001b[1;31m---------------------------------------------------------------------------\u001b[0m",
      "\u001b[1;31mNameError\u001b[0m                                 Traceback (most recent call last)",
      "\u001b[1;32m<ipython-input-165-a47500b018a1>\u001b[0m in \u001b[0;36m<module>\u001b[1;34m()\u001b[0m\n\u001b[1;32m----> 1\u001b[1;33m \u001b[0mwords\u001b[0m \u001b[1;33m=\u001b[0m \u001b[0mword_tokenize\u001b[0m\u001b[1;33m(\u001b[0m\u001b[0mraw_text\u001b[0m\u001b[1;33m)\u001b[0m\u001b[1;33m\u001b[0m\u001b[0m\n\u001b[0m",
      "\u001b[1;31mNameError\u001b[0m: name 'raw_text' is not defined"
     ]
    }
   ],
   "source": [
    "words = word_tokenize(raw_text)"
   ]
  },
  {
   "cell_type": "code",
   "execution_count": 166,
   "metadata": {},
   "outputs": [],
   "source": [
    "from nltk import pos_tag#标注"
   ]
  },
  {
   "cell_type": "code",
   "execution_count": 167,
   "metadata": {},
   "outputs": [
    {
     "ename": "NameError",
     "evalue": "name 'words' is not defined",
     "output_type": "error",
     "traceback": [
      "\u001b[1;31m---------------------------------------------------------------------------\u001b[0m",
      "\u001b[1;31mNameError\u001b[0m                                 Traceback (most recent call last)",
      "\u001b[1;32m<ipython-input-167-83a3d300a45f>\u001b[0m in \u001b[0;36m<module>\u001b[1;34m()\u001b[0m\n\u001b[1;32m----> 1\u001b[1;33m \u001b[0mtagged\u001b[0m \u001b[1;33m=\u001b[0m \u001b[0mpos_tag\u001b[0m\u001b[1;33m(\u001b[0m\u001b[0mwords\u001b[0m\u001b[1;33m)\u001b[0m\u001b[1;33m\u001b[0m\u001b[0m\n\u001b[0m",
      "\u001b[1;31mNameError\u001b[0m: name 'words' is not defined"
     ]
    }
   ],
   "source": [
    "tagged = pos_tag(words)"
   ]
  },
  {
   "cell_type": "code",
   "execution_count": 171,
   "metadata": {},
   "outputs": [],
   "source": [
    "from snownlp import SnowNLP"
   ]
  },
  {
   "cell_type": "code",
   "execution_count": 172,
   "metadata": {},
   "outputs": [
    {
     "data": {
      "text/plain": [
       "['__class__',\n",
       " '__delattr__',\n",
       " '__dict__',\n",
       " '__dir__',\n",
       " '__doc__',\n",
       " '__eq__',\n",
       " '__format__',\n",
       " '__ge__',\n",
       " '__getattribute__',\n",
       " '__gt__',\n",
       " '__hash__',\n",
       " '__init__',\n",
       " '__init_subclass__',\n",
       " '__le__',\n",
       " '__lt__',\n",
       " '__module__',\n",
       " '__ne__',\n",
       " '__new__',\n",
       " '__reduce__',\n",
       " '__reduce_ex__',\n",
       " '__repr__',\n",
       " '__setattr__',\n",
       " '__sizeof__',\n",
       " '__str__',\n",
       " '__subclasshook__',\n",
       " '__weakref__',\n",
       " 'han',\n",
       " 'idf',\n",
       " 'keywords',\n",
       " 'pinyin',\n",
       " 'sentences',\n",
       " 'sentiments',\n",
       " 'sim',\n",
       " 'summary',\n",
       " 'tags',\n",
       " 'tf',\n",
       " 'words']"
      ]
     },
     "execution_count": 172,
     "metadata": {},
     "output_type": "execute_result"
    }
   ],
   "source": [
    "dir(SnowNLP)"
   ]
  },
  {
   "cell_type": "code",
   "execution_count": 174,
   "metadata": {},
   "outputs": [],
   "source": [
    "f = open('C:/Users/w/chinese_egs.txt','r')"
   ]
  },
  {
   "cell_type": "code",
   "execution_count": 175,
   "metadata": {},
   "outputs": [],
   "source": [
    "c = f.read()"
   ]
  },
  {
   "cell_type": "code",
   "execution_count": null,
   "metadata": {},
   "outputs": [],
   "source": [
    "#f.close()"
   ]
  },
  {
   "cell_type": "code",
   "execution_count": 176,
   "metadata": {},
   "outputs": [],
   "source": [
    "corpus = SnowNLP(c)"
   ]
  },
  {
   "cell_type": "code",
   "execution_count": 177,
   "metadata": {},
   "outputs": [
    {
     "data": {
      "text/plain": [
       "['用1800首诗表白',\n",
       " '用无人机求婚 南航学霸上演浪漫“求婚大作战”',\n",
       " '3月28号下午',\n",
       " '一次求婚大作战在南京航空航天大学师生的朋友圈刷屏了',\n",
       " '在朝夕相处的实验楼下',\n",
       " '伴着好友老师的祝福和数百校友的助阵',\n",
       " '南航自动化学院即将毕业的硕士研究生徐智成用无人机向相恋1896天的女友张瑶佳成功求婚',\n",
       " '而徐智成坚持了5年的写诗表白在南航早已传为佳话',\n",
       " '与君初相识',\n",
       " '诗词抒情意',\n",
       " '刷屏的求婚故事男主角是南航自动化学院的徐智成',\n",
       " '女主角则是自动化学院的博士生张瑶佳',\n",
       " '徐智成告诉记者',\n",
       " '本科同在一个班级的他们刚开始并不相熟',\n",
       " '张瑶佳是班里的学霸',\n",
       " '而他的学习却不出众',\n",
       " '徐智成还记得',\n",
       " '大一夏天',\n",
       " '张瑶佳偶然在他写的诗下评论了几句',\n",
       " '简单的几句却让他产生了共鸣',\n",
       " '心里对张瑶佳默默生出了好感',\n",
       " '“为了接近她',\n",
       " '我常常找各种学习问题向她请教',\n",
       " '我本来上课常坐教室后排的',\n",
       " '为了追她从此只坐在教室前排',\n",
       " '因为学习是她的追求',\n",
       " '志同方能道合',\n",
       " '”相知相守中',\n",
       " '徐智成终于渐渐俘获了张瑶佳的芳心',\n",
       " '大二放寒假的前一天',\n",
       " '徐智成向张瑶佳表白了',\n",
       " '“你喜欢读诗',\n",
       " '以后在一起的每一天我都会为你写一首诗',\n",
       " '”张瑶佳本以为这句话只是一时的浪漫',\n",
       " '没想到竟坚持到现在',\n",
       " '1800多天下来',\n",
       " '他们之间已经保留下了1800多首小诗',\n",
       " '这些小诗见证着他们的爱情一天天成长',\n",
       " '爱在实验室',\n",
       " '浪漫也未缺',\n",
       " '张瑶佳凭借优异的成绩获得了直博的资格',\n",
       " '徐智成为了能赶上女友的脚步',\n",
       " '多陪她几年',\n",
       " '大三一年辛苦复习',\n",
       " '终于考上了南航的研究生',\n",
       " '研究生与博士生的恋爱',\n",
       " '自然不能像普通情侣一样花前月下消磨时间',\n",
       " '没有课后的电影',\n",
       " '缺少周末的约会',\n",
       " '他们有的只是实验室里的相互陪伴',\n",
       " '可是张瑶佳却甘之如饴',\n",
       " '“我的所有软件都是他给我装的',\n",
       " '很多文献资料都是他给我找到和翻译的',\n",
       " '笨重的工作台也都是他给我装好的',\n",
       " '我们走在路上',\n",
       " '吃饭时',\n",
       " '都会一起讨论问题',\n",
       " '对我来说这就是浪漫啊',\n",
       " '”',\n",
       " '作为博士生',\n",
       " '张瑶佳的科研任务要重一些',\n",
       " '为了能让她更多时间花在科研上',\n",
       " '徐智成承包了很多生活上的琐事',\n",
       " '他说：“她有时候开会很晚或者我有事出去',\n",
       " '我会提前买好饭给她带到实验室',\n",
       " '每天都从博园接送到实验室',\n",
       " '不论多早或多晚',\n",
       " '放假的时候',\n",
       " '都会去车站接送',\n",
       " '”',\n",
       " '无人机求婚',\n",
       " '用诗词表白',\n",
       " '为了在毕业前能实现求婚',\n",
       " '徐智成从寒假就开始策划求婚计划',\n",
       " '他查了很多求婚的例子',\n",
       " '但都觉得很俗套',\n",
       " '他想',\n",
       " '他们是相识于南航',\n",
       " '相爱于南航',\n",
       " '成长于南航',\n",
       " '求婚也一定要契合学校浓厚的航空航天氛围',\n",
       " '他决定采用无人机求婚',\n",
       " '正巧他自动化专业的同学正在研究无人机项目',\n",
       " '最后',\n",
       " '他决定结合南航的校园文化',\n",
       " '使用同学亲自研制的无人机求婚',\n",
       " '当然还有精心准备的求婚气球和诗词表白',\n",
       " '写1800首诗求婚',\n",
       " '无人机带着钻戒求婚',\n",
       " '当他们到达求婚现场',\n",
       " '张瑶佳看到学院楼前的求婚气球',\n",
       " '在11位朋友念出的诗词表白中',\n",
       " '流下了幸福的眼泪',\n",
       " '而当无人机带着钻戒缓缓降落',\n",
       " '心里更是感动不已：“这就是我想要的',\n",
       " '”她告诉记者',\n",
       " '由于自己心中一直有一个航空航天的梦想',\n",
       " '所以报考了南航',\n",
       " '男友使用无人机求婚非常打动她',\n",
       " '下周徐智成就要正式入职了',\n",
       " '为了能够陪在女友身边',\n",
       " '他放弃了上海、杭州等城市大公司的offer',\n",
       " '选择留在了南京',\n",
       " '张瑶佳觉得有些可惜',\n",
       " '但徐智成却无怨无悔',\n",
       " '“或许放弃了一些',\n",
       " '才会得到更多',\n",
       " '”']"
      ]
     },
     "execution_count": 177,
     "metadata": {},
     "output_type": "execute_result"
    }
   ],
   "source": [
    "corpus.sentences"
   ]
  },
  {
   "cell_type": "code",
   "execution_count": 178,
   "metadata": {},
   "outputs": [
    {
     "data": {
      "text/plain": [
       "['用',\n",
       " '1800',\n",
       " '首',\n",
       " '诗',\n",
       " '表',\n",
       " '白',\n",
       " '，',\n",
       " '用',\n",
       " '无',\n",
       " '人',\n",
       " '机',\n",
       " '求婚',\n",
       " '南航',\n",
       " '学',\n",
       " '霸',\n",
       " '上演',\n",
       " '浪漫',\n",
       " '“',\n",
       " '求婚',\n",
       " '大',\n",
       " '作战',\n",
       " '”',\n",
       " '3',\n",
       " '月',\n",
       " '28',\n",
       " '号',\n",
       " '下午',\n",
       " '，',\n",
       " '一',\n",
       " '次',\n",
       " '求婚',\n",
       " '大',\n",
       " '作战',\n",
       " '在',\n",
       " '南京',\n",
       " '航空',\n",
       " '航天',\n",
       " '大学',\n",
       " '师生',\n",
       " '的',\n",
       " '朋友',\n",
       " '圈',\n",
       " '刷',\n",
       " '屏',\n",
       " '了',\n",
       " '。',\n",
       " '在',\n",
       " '朝夕相处',\n",
       " '的',\n",
       " '实验',\n",
       " '楼下',\n",
       " '，',\n",
       " '伴',\n",
       " '着',\n",
       " '好友',\n",
       " '老师',\n",
       " '的',\n",
       " '祝福',\n",
       " '和',\n",
       " '数百',\n",
       " '校友',\n",
       " '的',\n",
       " '助阵',\n",
       " '，',\n",
       " '南航',\n",
       " '自动化',\n",
       " '学院',\n",
       " '即将',\n",
       " '毕业',\n",
       " '的',\n",
       " '硕士',\n",
       " '研究生',\n",
       " '徐',\n",
       " '智',\n",
       " '成用',\n",
       " '无',\n",
       " '人机',\n",
       " '向',\n",
       " '相恋',\n",
       " '1896',\n",
       " '天',\n",
       " '的',\n",
       " '女友',\n",
       " '张',\n",
       " '瑶',\n",
       " '佳',\n",
       " '成功',\n",
       " '求婚',\n",
       " '，',\n",
       " '而',\n",
       " '徐',\n",
       " '智',\n",
       " '成',\n",
       " '坚持',\n",
       " '了',\n",
       " '5',\n",
       " '年',\n",
       " '的',\n",
       " '写',\n",
       " '诗',\n",
       " '表白',\n",
       " '在',\n",
       " '南航',\n",
       " '早已',\n",
       " '传为佳话',\n",
       " '。',\n",
       " '与',\n",
       " '君初',\n",
       " '相识',\n",
       " '，',\n",
       " '诗词',\n",
       " '抒情',\n",
       " '意',\n",
       " '刷屏',\n",
       " '的',\n",
       " '求婚',\n",
       " '故事',\n",
       " '男',\n",
       " '主角',\n",
       " '是',\n",
       " '南航',\n",
       " '自动化',\n",
       " '学院',\n",
       " '的',\n",
       " '徐',\n",
       " '智',\n",
       " '成',\n",
       " '，',\n",
       " '女',\n",
       " '主角',\n",
       " '则',\n",
       " '是',\n",
       " '自动化',\n",
       " '学院',\n",
       " '的',\n",
       " '博士生',\n",
       " '张',\n",
       " '瑶',\n",
       " '佳',\n",
       " '。',\n",
       " '徐',\n",
       " '智',\n",
       " '成',\n",
       " '告诉',\n",
       " '记者',\n",
       " '，',\n",
       " '本科',\n",
       " '同',\n",
       " '在',\n",
       " '一个',\n",
       " '班级',\n",
       " '的',\n",
       " '他们',\n",
       " '刚',\n",
       " '开始',\n",
       " '并',\n",
       " '不',\n",
       " '相',\n",
       " '熟',\n",
       " '，',\n",
       " '张',\n",
       " '瑶',\n",
       " '佳',\n",
       " '是',\n",
       " '班',\n",
       " '里',\n",
       " '的',\n",
       " '学',\n",
       " '霸',\n",
       " '，',\n",
       " '而',\n",
       " '他',\n",
       " '的',\n",
       " '学习',\n",
       " '却',\n",
       " '不',\n",
       " '出',\n",
       " '众',\n",
       " '。',\n",
       " '徐',\n",
       " '智成',\n",
       " '还',\n",
       " '记得',\n",
       " '，',\n",
       " '大',\n",
       " '一',\n",
       " '夏天',\n",
       " '，',\n",
       " '张',\n",
       " '瑶',\n",
       " '佳',\n",
       " '偶然',\n",
       " '在',\n",
       " '他',\n",
       " '写',\n",
       " '的',\n",
       " '诗',\n",
       " '下',\n",
       " '评论',\n",
       " '了',\n",
       " '几',\n",
       " '句',\n",
       " '，',\n",
       " '简单',\n",
       " '的',\n",
       " '几',\n",
       " '句',\n",
       " '却',\n",
       " '让',\n",
       " '他',\n",
       " '产生',\n",
       " '了',\n",
       " '共鸣',\n",
       " '，',\n",
       " '心里',\n",
       " '对',\n",
       " '张',\n",
       " '瑶',\n",
       " '佳',\n",
       " '默默',\n",
       " '生',\n",
       " '出',\n",
       " '了',\n",
       " '好感',\n",
       " '。“',\n",
       " '为了',\n",
       " '接近',\n",
       " '她',\n",
       " '，',\n",
       " '我',\n",
       " '常常',\n",
       " '找',\n",
       " '各种',\n",
       " '学习',\n",
       " '问题',\n",
       " '向',\n",
       " '她',\n",
       " '请教',\n",
       " '。',\n",
       " '我',\n",
       " '本来',\n",
       " '上课',\n",
       " '常',\n",
       " '坐',\n",
       " '教室',\n",
       " '后排',\n",
       " '的',\n",
       " '，',\n",
       " '为了',\n",
       " '追',\n",
       " '她',\n",
       " '从此',\n",
       " '只',\n",
       " '坐',\n",
       " '在',\n",
       " '教室',\n",
       " '前排',\n",
       " '，',\n",
       " '因为',\n",
       " '学习',\n",
       " '是',\n",
       " '她',\n",
       " '的',\n",
       " '追求',\n",
       " '，',\n",
       " '志同',\n",
       " '方',\n",
       " '能道合',\n",
       " '。”',\n",
       " '相',\n",
       " '知',\n",
       " '相守',\n",
       " '中',\n",
       " '，',\n",
       " '徐',\n",
       " '智成',\n",
       " '终于',\n",
       " '渐渐',\n",
       " '俘获',\n",
       " '了',\n",
       " '张',\n",
       " '瑶佳',\n",
       " '的',\n",
       " '芳心',\n",
       " '。',\n",
       " '大二',\n",
       " '放',\n",
       " '寒假',\n",
       " '的',\n",
       " '前一天',\n",
       " '，',\n",
       " '徐',\n",
       " '智',\n",
       " '成',\n",
       " '向',\n",
       " '张',\n",
       " '瑶佳',\n",
       " '表白',\n",
       " '了',\n",
       " '，“',\n",
       " '你',\n",
       " '喜欢',\n",
       " '读',\n",
       " '诗',\n",
       " '，',\n",
       " '以后',\n",
       " '在',\n",
       " '一起',\n",
       " '的',\n",
       " '每',\n",
       " '一',\n",
       " '天',\n",
       " '我',\n",
       " '都',\n",
       " '会',\n",
       " '为',\n",
       " '你',\n",
       " '写',\n",
       " '一',\n",
       " '首',\n",
       " '诗',\n",
       " '。”',\n",
       " '张',\n",
       " '瑶',\n",
       " '佳',\n",
       " '本',\n",
       " '以为',\n",
       " '这',\n",
       " '句',\n",
       " '话',\n",
       " '只',\n",
       " '是',\n",
       " '一时',\n",
       " '的',\n",
       " '浪漫',\n",
       " '，',\n",
       " '没',\n",
       " '想到',\n",
       " '竟',\n",
       " '坚持',\n",
       " '到',\n",
       " '现在',\n",
       " '，1800',\n",
       " '多',\n",
       " '天',\n",
       " '下来',\n",
       " '，',\n",
       " '他们',\n",
       " '之间',\n",
       " '已经',\n",
       " '保',\n",
       " '留下',\n",
       " '了',\n",
       " '1800',\n",
       " '多',\n",
       " '首',\n",
       " '小',\n",
       " '诗',\n",
       " '，',\n",
       " '这些',\n",
       " '小',\n",
       " '诗',\n",
       " '见证',\n",
       " '着',\n",
       " '他们',\n",
       " '的',\n",
       " '爱情',\n",
       " '一天天',\n",
       " '成长',\n",
       " '。',\n",
       " '爱',\n",
       " '在',\n",
       " '实验室',\n",
       " '，',\n",
       " '浪漫',\n",
       " '也',\n",
       " '未',\n",
       " '缺',\n",
       " '张',\n",
       " '瑶',\n",
       " '佳',\n",
       " '凭借',\n",
       " '优异',\n",
       " '的',\n",
       " '成绩',\n",
       " '获得',\n",
       " '了',\n",
       " '直博',\n",
       " '的',\n",
       " '资格',\n",
       " '，',\n",
       " '徐',\n",
       " '智',\n",
       " '成为',\n",
       " '了',\n",
       " '能',\n",
       " '赶上',\n",
       " '女友',\n",
       " '的',\n",
       " '脚步',\n",
       " '，',\n",
       " '多',\n",
       " '陪',\n",
       " '她',\n",
       " '几',\n",
       " '年',\n",
       " '，',\n",
       " '大',\n",
       " '三',\n",
       " '一',\n",
       " '年',\n",
       " '辛苦',\n",
       " '复习',\n",
       " '，',\n",
       " '终于',\n",
       " '考上',\n",
       " '了',\n",
       " '南航',\n",
       " '的',\n",
       " '研究生',\n",
       " '。',\n",
       " '研究生',\n",
       " '与',\n",
       " '博士生',\n",
       " '的',\n",
       " '恋爱',\n",
       " '，',\n",
       " '自然',\n",
       " '不',\n",
       " '能',\n",
       " '像',\n",
       " '普通',\n",
       " '情侣',\n",
       " '一样',\n",
       " '花前',\n",
       " '月',\n",
       " '下',\n",
       " '消',\n",
       " '磨',\n",
       " '时间',\n",
       " '。',\n",
       " '没有',\n",
       " '课',\n",
       " '后',\n",
       " '的',\n",
       " '电影',\n",
       " '，',\n",
       " '缺少',\n",
       " '周末',\n",
       " '的',\n",
       " '约会',\n",
       " '，',\n",
       " '他们',\n",
       " '有的',\n",
       " '只',\n",
       " '是',\n",
       " '实验室',\n",
       " '里',\n",
       " '的',\n",
       " '相互',\n",
       " '陪伴',\n",
       " '，',\n",
       " '可是',\n",
       " '张',\n",
       " '瑶',\n",
       " '佳',\n",
       " '却',\n",
       " '甘',\n",
       " '之',\n",
       " '如饴',\n",
       " '，“',\n",
       " '我',\n",
       " '的',\n",
       " '所有',\n",
       " '软件',\n",
       " '都',\n",
       " '是',\n",
       " '他',\n",
       " '给',\n",
       " '我装',\n",
       " '的',\n",
       " '，',\n",
       " '很多',\n",
       " '文献',\n",
       " '资料',\n",
       " '都',\n",
       " '是',\n",
       " '他',\n",
       " '给',\n",
       " '我',\n",
       " '找到',\n",
       " '和',\n",
       " '翻译',\n",
       " '的',\n",
       " '，',\n",
       " '笨重',\n",
       " '的',\n",
       " '工作台',\n",
       " '也',\n",
       " '都',\n",
       " '是',\n",
       " '他',\n",
       " '给',\n",
       " '我装',\n",
       " '好',\n",
       " '的',\n",
       " '。',\n",
       " '我们',\n",
       " '走',\n",
       " '在',\n",
       " '路上',\n",
       " '，',\n",
       " '吃饭',\n",
       " '时',\n",
       " '，',\n",
       " '都',\n",
       " '会',\n",
       " '一起',\n",
       " '讨论',\n",
       " '问题',\n",
       " '，',\n",
       " '对',\n",
       " '我',\n",
       " '来说',\n",
       " '这',\n",
       " '就',\n",
       " '是',\n",
       " '浪漫',\n",
       " '啊',\n",
       " '！”',\n",
       " '作为',\n",
       " '博士生',\n",
       " '，',\n",
       " '张',\n",
       " '瑶佳',\n",
       " '的',\n",
       " '科研',\n",
       " '任务',\n",
       " '要',\n",
       " '重',\n",
       " '一些',\n",
       " '，',\n",
       " '为了',\n",
       " '能',\n",
       " '让',\n",
       " '她',\n",
       " '更',\n",
       " '多',\n",
       " '时间',\n",
       " '花',\n",
       " '在',\n",
       " '科研',\n",
       " '上',\n",
       " '，',\n",
       " '徐',\n",
       " '智',\n",
       " '成',\n",
       " '承包',\n",
       " '了',\n",
       " '很多',\n",
       " '生活',\n",
       " '上',\n",
       " '的',\n",
       " '琐事',\n",
       " '，',\n",
       " '他',\n",
       " '说',\n",
       " '：“',\n",
       " '她',\n",
       " '有',\n",
       " '时候',\n",
       " '开会',\n",
       " '很',\n",
       " '晚',\n",
       " '或者',\n",
       " '我',\n",
       " '有事',\n",
       " '出去',\n",
       " '，',\n",
       " '我',\n",
       " '会',\n",
       " '提前',\n",
       " '买',\n",
       " '好',\n",
       " '饭',\n",
       " '给',\n",
       " '她',\n",
       " '带',\n",
       " '到',\n",
       " '实验室',\n",
       " '。',\n",
       " '每天',\n",
       " '都',\n",
       " '从',\n",
       " '博园',\n",
       " '接',\n",
       " '送',\n",
       " '到',\n",
       " '实验室',\n",
       " '，',\n",
       " '不论',\n",
       " '多',\n",
       " '早',\n",
       " '或',\n",
       " '多',\n",
       " '晚',\n",
       " '。',\n",
       " '放假',\n",
       " '的',\n",
       " '时候',\n",
       " '，',\n",
       " '都',\n",
       " '会',\n",
       " '去',\n",
       " '车站',\n",
       " '接送',\n",
       " '。”',\n",
       " '无',\n",
       " '人',\n",
       " '机',\n",
       " '求婚',\n",
       " '，',\n",
       " '用',\n",
       " '诗词',\n",
       " '表',\n",
       " '白',\n",
       " '为了',\n",
       " '在',\n",
       " '毕业',\n",
       " '前能',\n",
       " '实现',\n",
       " '求婚',\n",
       " '，',\n",
       " '徐',\n",
       " '智成',\n",
       " '从',\n",
       " '寒假',\n",
       " '就',\n",
       " '开始',\n",
       " '策划',\n",
       " '求婚',\n",
       " '计划',\n",
       " '，',\n",
       " '他查',\n",
       " '了',\n",
       " '很多',\n",
       " '求婚',\n",
       " '的',\n",
       " '例子',\n",
       " '，',\n",
       " '但',\n",
       " '都',\n",
       " '觉得',\n",
       " '很俗',\n",
       " '套',\n",
       " '。',\n",
       " '他',\n",
       " '想',\n",
       " '，',\n",
       " '他们',\n",
       " '是',\n",
       " '相识',\n",
       " '于',\n",
       " '南航',\n",
       " '，',\n",
       " '相',\n",
       " '爱于',\n",
       " '南航',\n",
       " '，',\n",
       " '成长',\n",
       " '于',\n",
       " '南航',\n",
       " '，',\n",
       " '求婚',\n",
       " '也',\n",
       " '一定',\n",
       " '要',\n",
       " '契合学',\n",
       " '校',\n",
       " '浓厚',\n",
       " '的',\n",
       " '航空',\n",
       " '航天',\n",
       " '氛围',\n",
       " '，',\n",
       " '他',\n",
       " '决定',\n",
       " '采用',\n",
       " '无',\n",
       " '人',\n",
       " '机',\n",
       " '求婚',\n",
       " '，',\n",
       " '正巧',\n",
       " '他',\n",
       " '自动化',\n",
       " '专业',\n",
       " '的',\n",
       " '同学',\n",
       " '正在',\n",
       " '研究',\n",
       " '无',\n",
       " '人机',\n",
       " '项目',\n",
       " '。',\n",
       " '最后',\n",
       " '，',\n",
       " '他',\n",
       " '决定',\n",
       " '结合',\n",
       " '南航',\n",
       " '的',\n",
       " '校园',\n",
       " '文化',\n",
       " '，',\n",
       " '使用',\n",
       " '同学',\n",
       " '亲自',\n",
       " '研制',\n",
       " '的',\n",
       " '无人',\n",
       " '机',\n",
       " '求婚',\n",
       " '，',\n",
       " '当然',\n",
       " '还有',\n",
       " '精心',\n",
       " '准备',\n",
       " '的',\n",
       " '求婚',\n",
       " '气球',\n",
       " '和',\n",
       " '诗词',\n",
       " '表',\n",
       " '白',\n",
       " '。',\n",
       " '写',\n",
       " '1800',\n",
       " '首',\n",
       " '诗',\n",
       " '求婚',\n",
       " '无',\n",
       " '人',\n",
       " '机',\n",
       " '带',\n",
       " '着',\n",
       " '钻戒',\n",
       " '求婚',\n",
       " '当',\n",
       " '他们',\n",
       " '到达',\n",
       " '求婚',\n",
       " '现场',\n",
       " '，',\n",
       " '张',\n",
       " '瑶',\n",
       " '佳',\n",
       " '看到',\n",
       " '学院',\n",
       " '楼',\n",
       " '前',\n",
       " '的',\n",
       " '求婚',\n",
       " '气球',\n",
       " '，',\n",
       " '在',\n",
       " '11',\n",
       " '位',\n",
       " '朋友',\n",
       " '念',\n",
       " '出',\n",
       " '的',\n",
       " '诗词',\n",
       " '表',\n",
       " '白',\n",
       " '中',\n",
       " '，',\n",
       " '流下',\n",
       " '了',\n",
       " '幸福',\n",
       " '的',\n",
       " '眼泪',\n",
       " '。',\n",
       " '而',\n",
       " '当',\n",
       " '无',\n",
       " '人',\n",
       " '机',\n",
       " '带',\n",
       " '着',\n",
       " '钻戒',\n",
       " '缓缓',\n",
       " '降落',\n",
       " '，',\n",
       " '心里',\n",
       " '更是',\n",
       " '感动',\n",
       " '不已',\n",
       " '：“',\n",
       " '这',\n",
       " '就',\n",
       " '是',\n",
       " '我',\n",
       " '想',\n",
       " '要',\n",
       " '的',\n",
       " '！”',\n",
       " '她',\n",
       " '告诉',\n",
       " '记者',\n",
       " '，',\n",
       " '由于',\n",
       " '自己',\n",
       " '心中',\n",
       " '一直',\n",
       " '有',\n",
       " '一个',\n",
       " '航空',\n",
       " '航天',\n",
       " '的',\n",
       " '梦想',\n",
       " '，',\n",
       " '所以',\n",
       " '报考',\n",
       " '了',\n",
       " '南航',\n",
       " '，',\n",
       " '男',\n",
       " '友',\n",
       " '使用',\n",
       " '无',\n",
       " '人',\n",
       " '机',\n",
       " '求婚',\n",
       " '非常',\n",
       " '打动',\n",
       " '她',\n",
       " '。',\n",
       " '下周',\n",
       " '徐',\n",
       " '智',\n",
       " '成就',\n",
       " '要',\n",
       " '正式',\n",
       " '入',\n",
       " '职',\n",
       " '了',\n",
       " '，',\n",
       " '为了',\n",
       " '能够',\n",
       " '陪',\n",
       " '在',\n",
       " '女友',\n",
       " '身边',\n",
       " '，',\n",
       " '他',\n",
       " '放弃',\n",
       " '了',\n",
       " '上海',\n",
       " '、',\n",
       " '杭州',\n",
       " '等',\n",
       " '城市',\n",
       " '大',\n",
       " '公司',\n",
       " '的',\n",
       " 'offer，',\n",
       " '选择',\n",
       " '留',\n",
       " '在',\n",
       " '了',\n",
       " '南京',\n",
       " '。',\n",
       " '张',\n",
       " '瑶',\n",
       " '佳',\n",
       " '觉得',\n",
       " '有些',\n",
       " '可惜',\n",
       " '，',\n",
       " '但',\n",
       " '徐',\n",
       " '智',\n",
       " '成',\n",
       " '却',\n",
       " '无怨无悔',\n",
       " '，“',\n",
       " '或许',\n",
       " '放弃',\n",
       " '了',\n",
       " '一些',\n",
       " '，',\n",
       " '才',\n",
       " '会',\n",
       " '得到',\n",
       " '更',\n",
       " '多',\n",
       " '。”']"
      ]
     },
     "execution_count": 178,
     "metadata": {},
     "output_type": "execute_result"
    }
   ],
   "source": [
    "corpus.words"
   ]
  },
  {
   "cell_type": "raw",
   "metadata": {},
   "source": [
    "corpus.tags"
   ]
  },
  {
   "cell_type": "code",
   "execution_count": 181,
   "metadata": {},
   "outputs": [],
   "source": [
    "tags = [tag for tag in corpus.tags]"
   ]
  },
  {
   "cell_type": "code",
   "execution_count": 182,
   "metadata": {},
   "outputs": [
    {
     "data": {
      "text/plain": [
       "[('用', 'p'),\n",
       " ('1800', 'nt'),\n",
       " ('首', 'm'),\n",
       " ('诗', 'n'),\n",
       " ('表', 'n'),\n",
       " ('白', 'a'),\n",
       " ('，', 'w'),\n",
       " ('用', 'p'),\n",
       " ('无', 'v'),\n",
       " ('人', 'n'),\n",
       " ('机', 'Ng'),\n",
       " ('求婚', 'v'),\n",
       " ('南航', 'j'),\n",
       " ('学', 'v'),\n",
       " ('霸', 'Vg'),\n",
       " ('上演', 'v'),\n",
       " ('浪漫', 'an'),\n",
       " ('“', 'w'),\n",
       " ('求婚', 'v'),\n",
       " ('大', 'a'),\n",
       " ('作战', 'vn'),\n",
       " ('”', 'w'),\n",
       " ('3', 'vvn'),\n",
       " ('月', 'n'),\n",
       " ('28', 'm'),\n",
       " ('号', 'q'),\n",
       " ('下午', 't'),\n",
       " ('，', 'w'),\n",
       " ('一', 'm'),\n",
       " ('次', 'q'),\n",
       " ('求婚', 'v'),\n",
       " ('大', 'a'),\n",
       " ('作战', 'vn'),\n",
       " ('在', 'p'),\n",
       " ('南京', 'ns'),\n",
       " ('航空', 'n'),\n",
       " ('航天', 'n'),\n",
       " ('大学', 'n'),\n",
       " ('师生', 'n'),\n",
       " ('的', 'u'),\n",
       " ('朋友', 'n'),\n",
       " ('圈', 'v'),\n",
       " ('刷', 'o'),\n",
       " ('屏', 'o'),\n",
       " ('了', 'u'),\n",
       " ('。', 'w'),\n",
       " ('在', 'p'),\n",
       " ('朝夕相处', 'i'),\n",
       " ('的', 'u'),\n",
       " ('实验', 'vn'),\n",
       " ('楼下', 's'),\n",
       " ('，', 'w'),\n",
       " ('伴', 'v'),\n",
       " ('着', 'u'),\n",
       " ('好友', 'n'),\n",
       " ('老师', 'n'),\n",
       " ('的', 'u'),\n",
       " ('祝福', 'vn'),\n",
       " ('和', 'c'),\n",
       " ('数百', 'm'),\n",
       " ('校友', 'n'),\n",
       " ('的', 'u'),\n",
       " ('助阵', 'v'),\n",
       " ('，', 'w'),\n",
       " ('南航', 'j'),\n",
       " ('自动化', 'vn'),\n",
       " ('学院', 'n'),\n",
       " ('即将', 'd'),\n",
       " ('毕业', 'v'),\n",
       " ('的', 'u'),\n",
       " ('硕士', 'n'),\n",
       " ('研究生', 'n'),\n",
       " ('徐', 'nr'),\n",
       " ('智', 'nr'),\n",
       " ('成用', 'Vg'),\n",
       " ('无', 'v'),\n",
       " ('人机', 'n'),\n",
       " ('向', 'p'),\n",
       " ('相恋', 'Rg'),\n",
       " ('1896', 'Rg'),\n",
       " ('天', 'q'),\n",
       " ('的', 'u'),\n",
       " ('女友', 'n'),\n",
       " ('张', 'nr'),\n",
       " ('瑶', 'nr'),\n",
       " ('佳', 'nr'),\n",
       " ('成功', 'ad'),\n",
       " ('求婚', 'v'),\n",
       " ('，', 'w'),\n",
       " ('而', 'c'),\n",
       " ('徐', 'nr'),\n",
       " ('智', 'nr'),\n",
       " ('成', 'v'),\n",
       " ('坚持', 'v'),\n",
       " ('了', 'u'),\n",
       " ('5', 'm'),\n",
       " ('年', 'q'),\n",
       " ('的', 'u'),\n",
       " ('写', 'v'),\n",
       " ('诗', 'n'),\n",
       " ('表白', 'k'),\n",
       " ('在', 'p'),\n",
       " ('南航', 'j'),\n",
       " ('早已', 'd'),\n",
       " ('传为佳话', 'i'),\n",
       " ('。', 'w'),\n",
       " ('与', 'c'),\n",
       " ('君初', 'Dg'),\n",
       " ('相识', 'v'),\n",
       " ('，', 'w'),\n",
       " ('诗词', 'n'),\n",
       " ('抒情', 'v'),\n",
       " ('意', 'Ng'),\n",
       " ('刷屏', 'o'),\n",
       " ('的', 'u'),\n",
       " ('求婚', 'v'),\n",
       " ('故事', 'n'),\n",
       " ('男', 'b'),\n",
       " ('主角', 'n'),\n",
       " ('是', 'v'),\n",
       " ('南航', 'j'),\n",
       " ('自动化', 'vn'),\n",
       " ('学院', 'n'),\n",
       " ('的', 'u'),\n",
       " ('徐', 'nr'),\n",
       " ('智', 'nr'),\n",
       " ('成', 'nr'),\n",
       " ('，', 'w'),\n",
       " ('女', 'b'),\n",
       " ('主角', 'n'),\n",
       " ('则', 'd'),\n",
       " ('是', 'v'),\n",
       " ('自动化', 'vn'),\n",
       " ('学院', 'n'),\n",
       " ('的', 'u'),\n",
       " ('博士生', 'n'),\n",
       " ('张', 'nr'),\n",
       " ('瑶', 'nr'),\n",
       " ('佳', 'nr'),\n",
       " ('。', 'w'),\n",
       " ('徐', 'nr'),\n",
       " ('智', 'nr'),\n",
       " ('成', 'v'),\n",
       " ('告诉', 'v'),\n",
       " ('记者', 'n'),\n",
       " ('，', 'w'),\n",
       " ('本科', 'n'),\n",
       " ('同', 'd'),\n",
       " ('在', 'p'),\n",
       " ('一个', 'm'),\n",
       " ('班级', 'n'),\n",
       " ('的', 'u'),\n",
       " ('他们', 'r'),\n",
       " ('刚', 'd'),\n",
       " ('开始', 'v'),\n",
       " ('并', 'c'),\n",
       " ('不', 'd'),\n",
       " ('相', 'd'),\n",
       " ('熟', 'a'),\n",
       " ('，', 'w'),\n",
       " ('张', 'nr'),\n",
       " ('瑶', 'nr'),\n",
       " ('佳', 'nr'),\n",
       " ('是', 'v'),\n",
       " ('班', 'n'),\n",
       " ('里', 'f'),\n",
       " ('的', 'u'),\n",
       " ('学', 'v'),\n",
       " ('霸', 'Vg'),\n",
       " ('，', 'w'),\n",
       " ('而', 'c'),\n",
       " ('他', 'r'),\n",
       " ('的', 'u'),\n",
       " ('学习', 'vn'),\n",
       " ('却', 'd'),\n",
       " ('不', 'd'),\n",
       " ('出', 'v'),\n",
       " ('众', 'Ng'),\n",
       " ('。', 'w'),\n",
       " ('徐', 'nr'),\n",
       " ('智成', 'nr'),\n",
       " ('还', 'd'),\n",
       " ('记得', 'v'),\n",
       " ('，', 'w'),\n",
       " ('大', 'a'),\n",
       " ('一', 'm'),\n",
       " ('夏天', 't'),\n",
       " ('，', 'w'),\n",
       " ('张', 'nr'),\n",
       " ('瑶', 'nr'),\n",
       " ('佳', 'nr'),\n",
       " ('偶然', 'ad'),\n",
       " ('在', 'p'),\n",
       " ('他', 'r'),\n",
       " ('写', 'v'),\n",
       " ('的', 'u'),\n",
       " ('诗', 'n'),\n",
       " ('下', 'f'),\n",
       " ('评论', 'v'),\n",
       " ('了', 'u'),\n",
       " ('几', 'm'),\n",
       " ('句', 'q'),\n",
       " ('，', 'w'),\n",
       " ('简单', 'a'),\n",
       " ('的', 'u'),\n",
       " ('几', 'm'),\n",
       " ('句', 'q'),\n",
       " ('却', 'd'),\n",
       " ('让', 'v'),\n",
       " ('他', 'r'),\n",
       " ('产生', 'v'),\n",
       " ('了', 'u'),\n",
       " ('共鸣', 'vn'),\n",
       " ('，', 'w'),\n",
       " ('心里', 's'),\n",
       " ('对', 'p'),\n",
       " ('张', 'nr'),\n",
       " ('瑶', 'nr'),\n",
       " ('佳', 'nr'),\n",
       " ('默默', 'd'),\n",
       " ('生', 'v'),\n",
       " ('出', 'v'),\n",
       " ('了', 'u'),\n",
       " ('好感', 'n'),\n",
       " ('。“', 'k'),\n",
       " ('为了', 'p'),\n",
       " ('接近', 'v'),\n",
       " ('她', 'r'),\n",
       " ('，', 'w'),\n",
       " ('我', 'r'),\n",
       " ('常常', 'd'),\n",
       " ('找', 'v'),\n",
       " ('各种', 'r'),\n",
       " ('学习', 'v'),\n",
       " ('问题', 'n'),\n",
       " ('向', 'p'),\n",
       " ('她', 'r'),\n",
       " ('请教', 'v'),\n",
       " ('。', 'w'),\n",
       " ('我', 'r'),\n",
       " ('本来', 'd'),\n",
       " ('上课', 'v'),\n",
       " ('常', 'd'),\n",
       " ('坐', 'v'),\n",
       " ('教室', 'n'),\n",
       " ('后排', 'f'),\n",
       " ('的', 'u'),\n",
       " ('，', 'w'),\n",
       " ('为了', 'p'),\n",
       " ('追', 'v'),\n",
       " ('她', 'r'),\n",
       " ('从此', 'd'),\n",
       " ('只', 'd'),\n",
       " ('坐', 'v'),\n",
       " ('在', 'p'),\n",
       " ('教室', 'n'),\n",
       " ('前排', 's'),\n",
       " ('，', 'w'),\n",
       " ('因为', 'c'),\n",
       " ('学习', 'v'),\n",
       " ('是', 'v'),\n",
       " ('她', 'r'),\n",
       " ('的', 'u'),\n",
       " ('追求', 'vn'),\n",
       " ('，', 'w'),\n",
       " ('志同', 'nr'),\n",
       " ('方', 'nr'),\n",
       " ('能道合', 'Rg'),\n",
       " ('。”', 'Rg'),\n",
       " ('相', 'Ng'),\n",
       " ('知', 'v'),\n",
       " ('相守', 'Ng'),\n",
       " ('中', 'f'),\n",
       " ('，', 'w'),\n",
       " ('徐', 'nr'),\n",
       " ('智成', 'nr'),\n",
       " ('终于', 'd'),\n",
       " ('渐渐', 'd'),\n",
       " ('俘获', 'v'),\n",
       " ('了', 'u'),\n",
       " ('张', 'nr'),\n",
       " ('瑶佳', 'nr'),\n",
       " ('的', 'u'),\n",
       " ('芳心', 'o'),\n",
       " ('。', 'w'),\n",
       " ('大二', 'o'),\n",
       " ('放', 'v'),\n",
       " ('寒假', 't'),\n",
       " ('的', 'u'),\n",
       " ('前一天', 't'),\n",
       " ('，', 'w'),\n",
       " ('徐', 'nr'),\n",
       " ('智', 'nr'),\n",
       " ('成', 'v'),\n",
       " ('向', 'p'),\n",
       " ('张', 'q'),\n",
       " ('瑶佳', 'Tg'),\n",
       " ('表白', 'Tg'),\n",
       " ('了', 'u'),\n",
       " ('，“', 'Tg'),\n",
       " ('你', 'r'),\n",
       " ('喜欢', 'v'),\n",
       " ('读', 'v'),\n",
       " ('诗', 'n'),\n",
       " ('，', 'w'),\n",
       " ('以后', 'f'),\n",
       " ('在', 'p'),\n",
       " ('一起', 's'),\n",
       " ('的', 'u'),\n",
       " ('每', 'r'),\n",
       " ('一', 'm'),\n",
       " ('天', 'q'),\n",
       " ('我', 'r'),\n",
       " ('都', 'd'),\n",
       " ('会', 'v'),\n",
       " ('为', 'p'),\n",
       " ('你', 'r'),\n",
       " ('写', 'v'),\n",
       " ('一', 'm'),\n",
       " ('首', 'q'),\n",
       " ('诗', 'n'),\n",
       " ('。”', 'nr'),\n",
       " ('张', 'nr'),\n",
       " ('瑶', 'nr'),\n",
       " ('佳', 'nr'),\n",
       " ('本', 'd'),\n",
       " ('以为', 'v'),\n",
       " ('这', 'r'),\n",
       " ('句', 'q'),\n",
       " ('话', 'n'),\n",
       " ('只', 'd'),\n",
       " ('是', 'v'),\n",
       " ('一时', 't'),\n",
       " ('的', 'u'),\n",
       " ('浪漫', 'an'),\n",
       " ('，', 'w'),\n",
       " ('没', 'd'),\n",
       " ('想到', 'v'),\n",
       " ('竟', 'd'),\n",
       " ('坚持', 'v'),\n",
       " ('到', 'v'),\n",
       " ('现在', 't'),\n",
       " ('，1800', 'u'),\n",
       " ('多', 'm'),\n",
       " ('天', 'q'),\n",
       " ('下来', 'v'),\n",
       " ('，', 'w'),\n",
       " ('他们', 'r'),\n",
       " ('之间', 'f'),\n",
       " ('已经', 'd'),\n",
       " ('保', 'v'),\n",
       " ('留下', 'v'),\n",
       " ('了', 'u'),\n",
       " ('1800', 'm'),\n",
       " ('多', 'm'),\n",
       " ('首', 'q'),\n",
       " ('小', 'a'),\n",
       " ('诗', 'n'),\n",
       " ('，', 'w'),\n",
       " ('这些', 'r'),\n",
       " ('小', 'a'),\n",
       " ('诗', 'n'),\n",
       " ('见证', 'f'),\n",
       " ('着', 'u'),\n",
       " ('他们', 'r'),\n",
       " ('的', 'u'),\n",
       " ('爱情', 'n'),\n",
       " ('一天天', 'm'),\n",
       " ('成长', 'v'),\n",
       " ('。', 'w'),\n",
       " ('爱', 'v'),\n",
       " ('在', 'p'),\n",
       " ('实验室', 'n'),\n",
       " ('，', 'w'),\n",
       " ('浪漫', 'an'),\n",
       " ('也', 'd'),\n",
       " ('未', 'd'),\n",
       " ('缺', 'v'),\n",
       " ('张', 'nr'),\n",
       " ('瑶', 'nr'),\n",
       " ('佳', 'nr'),\n",
       " ('凭借', 'p'),\n",
       " ('优异', 'a'),\n",
       " ('的', 'u'),\n",
       " ('成绩', 'n'),\n",
       " ('获得', 'v'),\n",
       " ('了', 'u'),\n",
       " ('直博', 'z'),\n",
       " ('的', 'u'),\n",
       " ('资格', 'n'),\n",
       " ('，', 'w'),\n",
       " ('徐', 'nr'),\n",
       " ('智', 'nr'),\n",
       " ('成为', 'v'),\n",
       " ('了', 'u'),\n",
       " ('能', 'v'),\n",
       " ('赶上', 'v'),\n",
       " ('女友', 'n'),\n",
       " ('的', 'u'),\n",
       " ('脚步', 'n'),\n",
       " ('，', 'w'),\n",
       " ('多', 'ad'),\n",
       " ('陪', 'v'),\n",
       " ('她', 'r'),\n",
       " ('几', 'm'),\n",
       " ('年', 'q'),\n",
       " ('，', 'w'),\n",
       " ('大', 'a'),\n",
       " ('三', 'm'),\n",
       " ('一', 'm'),\n",
       " ('年', 'q'),\n",
       " ('辛苦', 'a'),\n",
       " ('复习', 'vn'),\n",
       " ('，', 'w'),\n",
       " ('终于', 'd'),\n",
       " ('考上', 'v'),\n",
       " ('了', 'u'),\n",
       " ('南航', 'j'),\n",
       " ('的', 'u'),\n",
       " ('研究生', 'n'),\n",
       " ('。', 'w'),\n",
       " ('研究生', 'n'),\n",
       " ('与', 'c'),\n",
       " ('博士生', 'n'),\n",
       " ('的', 'u'),\n",
       " ('恋爱', 'v'),\n",
       " ('，', 'w'),\n",
       " ('自然', 'd'),\n",
       " ('不', 'd'),\n",
       " ('能', 'v'),\n",
       " ('像', 'v'),\n",
       " ('普通', 'a'),\n",
       " ('情侣', 'Mg'),\n",
       " ('一样', 'a'),\n",
       " ('花前', 'Ag'),\n",
       " ('月', 'n'),\n",
       " ('下', 'f'),\n",
       " ('消', 'v'),\n",
       " ('磨', 'v'),\n",
       " ('时间', 'n'),\n",
       " ('。', 'w'),\n",
       " ('没有', 'v'),\n",
       " ('课', 'n'),\n",
       " ('后', 'f'),\n",
       " ('的', 'u'),\n",
       " ('电影', 'n'),\n",
       " ('，', 'w'),\n",
       " ('缺少', 'v'),\n",
       " ('周末', 't'),\n",
       " ('的', 'u'),\n",
       " ('约会', 'Tg'),\n",
       " ('，', 'w'),\n",
       " ('他们', 'r'),\n",
       " ('有的', 'r'),\n",
       " ('只', 'd'),\n",
       " ('是', 'v'),\n",
       " ('实验室', 'n'),\n",
       " ('里', 'f'),\n",
       " ('的', 'u'),\n",
       " ('相互', 'd'),\n",
       " ('陪伴', 'v'),\n",
       " ('，', 'w'),\n",
       " ('可是', 'c'),\n",
       " ('张', 'nr'),\n",
       " ('瑶', 'nr'),\n",
       " ('佳', 'nr'),\n",
       " ('却', 'd'),\n",
       " ('甘', 'Vg'),\n",
       " ('之', 'u'),\n",
       " ('如饴', 'Rg'),\n",
       " ('，“', 'Rg'),\n",
       " ('我', 'r'),\n",
       " ('的', 'u'),\n",
       " ('所有', 'b'),\n",
       " ('软件', 'n'),\n",
       " ('都', 'd'),\n",
       " ('是', 'v'),\n",
       " ('他', 'r'),\n",
       " ('给', 'p'),\n",
       " ('我装', 's'),\n",
       " ('的', 'u'),\n",
       " ('，', 'w'),\n",
       " ('很多', 'm'),\n",
       " ('文献', 'n'),\n",
       " ('资料', 'n'),\n",
       " ('都', 'd'),\n",
       " ('是', 'v'),\n",
       " ('他', 'r'),\n",
       " ('给', 'p'),\n",
       " ('我', 'r'),\n",
       " ('找到', 'v'),\n",
       " ('和', 'c'),\n",
       " ('翻译', 'v'),\n",
       " ('的', 'u'),\n",
       " ('，', 'w'),\n",
       " ('笨重', 'a'),\n",
       " ('的', 'u'),\n",
       " ('工作台', 'n'),\n",
       " ('也', 'd'),\n",
       " ('都', 'd'),\n",
       " ('是', 'v'),\n",
       " ('他', 'r'),\n",
       " ('给', 'v'),\n",
       " ('我装', 'Dg'),\n",
       " ('好', 'a'),\n",
       " ('的', 'u'),\n",
       " ('。', 'w'),\n",
       " ('我们', 'r'),\n",
       " ('走', 'v'),\n",
       " ('在', 'p'),\n",
       " ('路上', 's'),\n",
       " ('，', 'w'),\n",
       " ('吃饭', 'v'),\n",
       " ('时', 'Ng'),\n",
       " ('，', 'w'),\n",
       " ('都', 'd'),\n",
       " ('会', 'v'),\n",
       " ('一起', 's'),\n",
       " ('讨论', 'vn'),\n",
       " ('问题', 'n'),\n",
       " ('，', 'w'),\n",
       " ('对', 'p'),\n",
       " ('我', 'r'),\n",
       " ('来说', 'u'),\n",
       " ('这', 'r'),\n",
       " ('就', 'd'),\n",
       " ('是', 'v'),\n",
       " ('浪漫', 'a'),\n",
       " ('啊', 'y'),\n",
       " ('！”', 'w'),\n",
       " ('作为', 'v'),\n",
       " ('博士生', 'n'),\n",
       " ('，', 'w'),\n",
       " ('张', 'nr'),\n",
       " ('瑶佳', 'nr'),\n",
       " ('的', 'u'),\n",
       " ('科研', 'n'),\n",
       " ('任务', 'n'),\n",
       " ('要', 'v'),\n",
       " ('重', 'a'),\n",
       " ('一些', 'm'),\n",
       " ('，', 'w'),\n",
       " ('为了', 'p'),\n",
       " ('能', 'v'),\n",
       " ('让', 'v'),\n",
       " ('她', 'r'),\n",
       " ('更', 'd'),\n",
       " ('多', 'a'),\n",
       " ('时间', 'n'),\n",
       " ('花', 'v'),\n",
       " ('在', 'p'),\n",
       " ('科研', 'n'),\n",
       " ('上', 'f'),\n",
       " ('，', 'w'),\n",
       " ('徐', 'nr'),\n",
       " ('智', 'nr'),\n",
       " ('成', 'v'),\n",
       " ('承包', 'v'),\n",
       " ('了', 'u'),\n",
       " ('很多', 'm'),\n",
       " ('生活', 'vn'),\n",
       " ('上', 'f'),\n",
       " ('的', 'u'),\n",
       " ('琐事', 'n'),\n",
       " ('，', 'w'),\n",
       " ('他', 'r'),\n",
       " ('说', 'v'),\n",
       " ('：“', 'p'),\n",
       " ('她', 'r'),\n",
       " ('有', 'v'),\n",
       " ('时候', 'n'),\n",
       " ('开会', 'v'),\n",
       " ('很', 'd'),\n",
       " ('晚', 'a'),\n",
       " ('或者', 'c'),\n",
       " ('我', 'r'),\n",
       " ('有事', 'v'),\n",
       " ('出去', 'v'),\n",
       " ('，', 'w'),\n",
       " ('我', 'r'),\n",
       " ('会', 'v'),\n",
       " ('提前', 'v'),\n",
       " ('买', 'v'),\n",
       " ('好', 'a'),\n",
       " ('饭', 'n'),\n",
       " ('给', 'p'),\n",
       " ('她', 'r'),\n",
       " ('带', 'v'),\n",
       " ('到', 'v'),\n",
       " ('实验室', 'n'),\n",
       " ('。', 'w'),\n",
       " ('每天', 'r'),\n",
       " ('都', 'd'),\n",
       " ('从', 'p'),\n",
       " ('博园', 'Mg'),\n",
       " ('接', 'v'),\n",
       " ('送', 'v'),\n",
       " ('到', 'v'),\n",
       " ('实验室', 'n'),\n",
       " ('，', 'w'),\n",
       " ('不论', 'c'),\n",
       " ('多', 'm'),\n",
       " ('早', 'a'),\n",
       " ('或', 'c'),\n",
       " ('多', 'a'),\n",
       " ('晚', 'Tg'),\n",
       " ('。', 'w'),\n",
       " ('放假', 'v'),\n",
       " ('的', 'u'),\n",
       " ('时候', 'n'),\n",
       " ('，', 'w'),\n",
       " ('都', 'd'),\n",
       " ('会', 'v'),\n",
       " ('去', 'v'),\n",
       " ('车站', 'n'),\n",
       " ('接送', 'v'),\n",
       " ('。”', 'Mg'),\n",
       " ('无', 'v'),\n",
       " ('人', 'n'),\n",
       " ('机', 'Ng'),\n",
       " ('求婚', 'v'),\n",
       " ('，', 'w'),\n",
       " ('用', 'p'),\n",
       " ('诗词', 'n'),\n",
       " ('表', 'n'),\n",
       " ('白', 'nr'),\n",
       " ('为了', 'p'),\n",
       " ('在', 'p'),\n",
       " ('毕业', 'v'),\n",
       " ('前能', 'Mg'),\n",
       " ('实现', 'v'),\n",
       " ('求婚', 'v'),\n",
       " ('，', 'w'),\n",
       " ('徐', 'nr'),\n",
       " ('智成', 'nr'),\n",
       " ('从', 'p'),\n",
       " ('寒假', 't'),\n",
       " ('就', 'd'),\n",
       " ('开始', 'v'),\n",
       " ('策划', 'v'),\n",
       " ('求婚', 'v'),\n",
       " ('计划', 'n'),\n",
       " ('，', 'w'),\n",
       " ('他查', 'o'),\n",
       " ('了', 'u'),\n",
       " ('很多', 'm'),\n",
       " ('求婚', 'v'),\n",
       " ('的', 'u'),\n",
       " ('例子', 'n'),\n",
       " ('，', 'w'),\n",
       " ('但', 'c'),\n",
       " ('都', 'd'),\n",
       " ('觉得', 'v'),\n",
       " ('很俗', 'm'),\n",
       " ('套', 'q'),\n",
       " ('。', 'w'),\n",
       " ('他', 'r'),\n",
       " ('想', 'v'),\n",
       " ('，', 'w'),\n",
       " ('他们', 'r'),\n",
       " ('是', 'v'),\n",
       " ('相识', 'v'),\n",
       " ('于', 'p'),\n",
       " ('南航', 'j'),\n",
       " ('，', 'w'),\n",
       " ('相', 'd'),\n",
       " ('爱于', 'p'),\n",
       " ('南航', 'j'),\n",
       " ('，', 'w'),\n",
       " ('成长', 'v'),\n",
       " ('于', 'p'),\n",
       " ('南航', 'j'),\n",
       " ('，', 'w'),\n",
       " ('求婚', 'v'),\n",
       " ('也', 'd'),\n",
       " ('一定', 'd'),\n",
       " ('要', 'v'),\n",
       " ('契合学', 'Rg'),\n",
       " ('校', 'Ng'),\n",
       " ('浓厚', 'a'),\n",
       " ('的', 'u'),\n",
       " ('航空', 'n'),\n",
       " ('航天', 'n'),\n",
       " ('氛围', 'n'),\n",
       " ('，', 'w'),\n",
       " ('他', 'r'),\n",
       " ('决定', 'v'),\n",
       " ('采用', 'v'),\n",
       " ('无', 'v'),\n",
       " ('人', 'n'),\n",
       " ('机', 'Ng'),\n",
       " ('求婚', 'v'),\n",
       " ('，', 'w'),\n",
       " ('正巧', 'd'),\n",
       " ('他', 'r'),\n",
       " ('自动化', 'v'),\n",
       " ('专业', 'n'),\n",
       " ('的', 'u'),\n",
       " ('同学', 'n'),\n",
       " ('正在', 'd'),\n",
       " ('研究', 'v'),\n",
       " ('无', 'v'),\n",
       " ('人机', 'n'),\n",
       " ('项目', 'n'),\n",
       " ('。', 'w'),\n",
       " ('最后', 'f'),\n",
       " ('，', 'w'),\n",
       " ('他', 'r'),\n",
       " ('决定', 'v'),\n",
       " ('结合', 'v'),\n",
       " ('南航', 'j'),\n",
       " ('的', 'u'),\n",
       " ('校园', 'n'),\n",
       " ('文化', 'n'),\n",
       " ('，', 'w'),\n",
       " ('使用', 'v'),\n",
       " ('同学', 'n'),\n",
       " ('亲自', 'd'),\n",
       " ('研制', 'v'),\n",
       " ('的', 'u'),\n",
       " ('无人', 'b'),\n",
       " ('机', 'Ng'),\n",
       " ('求婚', 'v'),\n",
       " ('，', 'w'),\n",
       " ('当然', 'd'),\n",
       " ('还有', 'v'),\n",
       " ('精心', 'ad'),\n",
       " ('准备', 'v'),\n",
       " ('的', 'u'),\n",
       " ('求婚', 'v'),\n",
       " ('气球', 'n'),\n",
       " ('和', 'c'),\n",
       " ('诗词', 'n'),\n",
       " ('表', 'n'),\n",
       " ('白', 'a'),\n",
       " ('。', 'w'),\n",
       " ('写', 'v'),\n",
       " ('1800', 'm'),\n",
       " ('首', 'q'),\n",
       " ('诗', 'n'),\n",
       " ('求婚', 'v'),\n",
       " ('无', 'v'),\n",
       " ('人', 'n'),\n",
       " ('机', 'Ng'),\n",
       " ('带', 'v'),\n",
       " ('着', 'u'),\n",
       " ('钻戒', 'n'),\n",
       " ('求婚', 'v'),\n",
       " ('当', 'p'),\n",
       " ('他们', 'r'),\n",
       " ('到达', 'v'),\n",
       " ('求婚', 'v'),\n",
       " ('现场', 's'),\n",
       " ('，', 'w'),\n",
       " ('张', 'nr'),\n",
       " ('瑶', 'nr'),\n",
       " ('佳', 'nr'),\n",
       " ('看到', 'v'),\n",
       " ('学院', 'n'),\n",
       " ('楼', 'n'),\n",
       " ('前', 'f'),\n",
       " ('的', 'u'),\n",
       " ('求婚', 'v'),\n",
       " ('气球', 'n'),\n",
       " ('，', 'w'),\n",
       " ('在', 'p'),\n",
       " ('11', 'm'),\n",
       " ('位', 'q'),\n",
       " ('朋友', 'n'),\n",
       " ('念', 'v'),\n",
       " ('出', 'v'),\n",
       " ('的', 'u'),\n",
       " ('诗词', 'n'),\n",
       " ('表', 'n'),\n",
       " ('白', 'nr'),\n",
       " ('中', 'f'),\n",
       " ('，', 'w'),\n",
       " ('流下', 'v'),\n",
       " ('了', 'u'),\n",
       " ('幸福', 'a'),\n",
       " ('的', 'u'),\n",
       " ('眼泪', 'n'),\n",
       " ('。', 'w'),\n",
       " ('而', 'c'),\n",
       " ('当', 'p'),\n",
       " ('无', 'v'),\n",
       " ('人', 'n'),\n",
       " ('机', 'Ng'),\n",
       " ('带', 'v'),\n",
       " ('着', 'u'),\n",
       " ('钻戒', 'n'),\n",
       " ('缓缓', 'd'),\n",
       " ('降落', 'v'),\n",
       " ('，', 'w'),\n",
       " ('心里', 's'),\n",
       " ('更是', 'd'),\n",
       " ('感动', 'v'),\n",
       " ('不已', 'v'),\n",
       " ('：“', 'w'),\n",
       " ('这', 'r'),\n",
       " ('就', 'd'),\n",
       " ('是', 'v'),\n",
       " ('我', 'r'),\n",
       " ('想', 'v'),\n",
       " ('要', 'v'),\n",
       " ('的', 'u'),\n",
       " ('！”', 'Yg'),\n",
       " ('她', 'r'),\n",
       " ('告诉', 'v'),\n",
       " ('记者', 'n'),\n",
       " ('，', 'w'),\n",
       " ('由于', 'p'),\n",
       " ('自己', 'r'),\n",
       " ('心中', 's'),\n",
       " ('一直', 'd'),\n",
       " ('有', 'v'),\n",
       " ('一个', 'm'),\n",
       " ('航空', 'n'),\n",
       " ('航天', 'n'),\n",
       " ('的', 'u'),\n",
       " ('梦想', 'n'),\n",
       " ('，', 'w'),\n",
       " ('所以', 'c'),\n",
       " ('报考', 'v'),\n",
       " ('了', 'u'),\n",
       " ('南航', 'j'),\n",
       " ('，', 'w'),\n",
       " ('男', 'b'),\n",
       " ('友', 'Ng'),\n",
       " ('使用', 'v'),\n",
       " ('无', 'v'),\n",
       " ('人', 'n'),\n",
       " ('机', 'Ng'),\n",
       " ('求婚', 'v'),\n",
       " ('非常', 'd'),\n",
       " ('打动', 'v'),\n",
       " ('她', 'r'),\n",
       " ('。', 'w'),\n",
       " ('下周', 't'),\n",
       " ('徐', 'nr'),\n",
       " ('智', 'nr'),\n",
       " ('成就', 'n'),\n",
       " ('要', 'v'),\n",
       " ('正式', 'ad'),\n",
       " ('入', 'v'),\n",
       " ('职', 'Ng'),\n",
       " ('了', 'y'),\n",
       " ('，', 'w'),\n",
       " ('为了', 'p'),\n",
       " ('能够', 'v'),\n",
       " ('陪', 'v'),\n",
       " ('在', 'p'),\n",
       " ('女友', 'n'),\n",
       " ('身边', 's'),\n",
       " ('，', 'w'),\n",
       " ('他', 'r'),\n",
       " ('放弃', 'v'),\n",
       " ('了', 'u'),\n",
       " ('上海', 'ns'),\n",
       " ('、', 'w'),\n",
       " ('杭州', 'ns'),\n",
       " ('等', 'u'),\n",
       " ('城市', 'n'),\n",
       " ('大', 'a'),\n",
       " ('公司', 'n'),\n",
       " ('的', 'u'),\n",
       " ('offer，', 'an'),\n",
       " ('选择', 'v'),\n",
       " ('留', 'v'),\n",
       " ('在', 'p'),\n",
       " ('了', 'u'),\n",
       " ('南京', 'ns'),\n",
       " ('。', 'w'),\n",
       " ('张', 'nr'),\n",
       " ('瑶', 'nr'),\n",
       " ('佳', 'nr'),\n",
       " ('觉得', 'v'),\n",
       " ('有些', 'r'),\n",
       " ('可惜', 'v'),\n",
       " ('，', 'w'),\n",
       " ('但', 'c'),\n",
       " ('徐', 'nr'),\n",
       " ('智', 'nr'),\n",
       " ('成', 'v'),\n",
       " ('却', 'd'),\n",
       " ('无怨无悔', 'l'),\n",
       " ('，“', 'w'),\n",
       " ('或许', 'd'),\n",
       " ('放弃', 'v'),\n",
       " ('了', 'u'),\n",
       " ('一些', 'm'),\n",
       " ('，', 'w'),\n",
       " ('才', 'd'),\n",
       " ('会', 'v'),\n",
       " ('得到', 'v'),\n",
       " ('更', 'd'),\n",
       " ('多', 'a'),\n",
       " ('。”', 'w')]"
      ]
     },
     "execution_count": 182,
     "metadata": {},
     "output_type": "execute_result"
    }
   ],
   "source": [
    "tags"
   ]
  },
  {
   "cell_type": "code",
   "execution_count": 183,
   "metadata": {},
   "outputs": [],
   "source": [
    "#去查stanfordnlp"
   ]
  },
  {
   "cell_type": "code",
   "execution_count": 184,
   "metadata": {},
   "outputs": [],
   "source": [
    "#饼图词性分布T"
   ]
  },
  {
   "cell_type": "code",
   "execution_count": null,
   "metadata": {},
   "outputs": [],
   "source": []
  }
 ],
 "metadata": {
  "kernelspec": {
   "display_name": "Python 3",
   "language": "python",
   "name": "python3"
  },
  "language_info": {
   "codemirror_mode": {
    "name": "ipython",
    "version": 3
   },
   "file_extension": ".py",
   "mimetype": "text/x-python",
   "name": "python",
   "nbconvert_exporter": "python",
   "pygments_lexer": "ipython3",
   "version": "3.6.4"
  }
 },
 "nbformat": 4,
 "nbformat_minor": 2
}
